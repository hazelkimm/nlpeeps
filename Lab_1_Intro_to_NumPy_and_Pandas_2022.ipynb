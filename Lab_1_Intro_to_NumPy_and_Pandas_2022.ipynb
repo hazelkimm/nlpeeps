{
  "nbformat": 4,
  "nbformat_minor": 0,
  "metadata": {
    "colab": {
      "provenance": [],
      "collapsed_sections": [],
      "include_colab_link": true
    },
    "kernelspec": {
      "name": "python3",
      "display_name": "Python 3"
    },
    "language_info": {
      "name": "python"
    }
  },
  "cells": [
    {
      "cell_type": "markdown",
      "metadata": {
        "id": "view-in-github",
        "colab_type": "text"
      },
      "source": [
        "<a href=\"https://colab.research.google.com/github/hazelkimm/hazelkimm/blob/main/Lab_1_Intro_to_NumPy_and_Pandas_2022.ipynb\" target=\"_parent\"><img src=\"https://colab.research.google.com/assets/colab-badge.svg\" alt=\"Open In Colab\"/></a>"
      ]
    },
    {
      "cell_type": "markdown",
      "metadata": {
        "id": "Vca8zvQnRBhI"
      },
      "source": [
        "# **Introduction to Python**\n",
        "\n",
        "<img src='https://drive.google.com/uc?id=17eYO8zCyArTrt81izCWXCg5JvaaCLO46'>\n",
        "\n",
        "Python is one of the most popular programming languages in the world. It is a general-purpose programming language, which means that it has a wide variety of applications including software development, web development and data science. We are interested in the application of Python in data science.\n",
        "\n",
        "Python is extremely useful for data science as it makes it easy to read, clean, manipulate, and analyze data. You can also visualize your data using graphs and maps, create a classifier (e.g. for classifying patients based on whether or not they have heart disease), build a reommendation system (e.g. for recommending a new song based on your favorite songs) and more. Therefore, knowing how to do data science in Python is a powerful skill.\n",
        "\n",
        "## **Terminology**\n",
        "\n",
        "Let's start by learning some basic Python terminology.\n",
        "\n",
        "- **Syntax**: Syntax refers to the format of the code you are writing. You must format your code in a specific way to make sure that it's error free.\n",
        "\n",
        "- **Function**: Functions are commands that take in some input and give you some output. For example, sum() is a function that takes in a set of numbers as the input and give you the sum of those numbers as the output. Note that not all functions take in an input (you'll learn more about this later).\n",
        "\n",
        "- **Argument**: Arguments are the inputs of your function. For instance, in sum([13, 20]), the list [13, 20] is the argument of the function sum().\n",
        "\n",
        "- **Library**: You can think of libraries as a collection of functions for a specific purpose.\n",
        "\n",
        "## **Writing Code**\n",
        "\n",
        "For our project, we'll be using Google Colab to write code so you don't have to download the Python software to write and run code. Google Colab allows you to do this on your browser. All you have to do is create a code cell, write and press Shift + Enter to run it.\n"
      ]
    },
    {
      "cell_type": "markdown",
      "metadata": {
        "id": "bgCan3Q7Dvdw"
      },
      "source": [
        "# **Introduction to NumPy**\n",
        "\n",
        "<img src='https://drive.google.com/uc?id=1yvRF_75z5FbfUWsZwy4QaLhI-Q32oJgH'>\n",
        "\n",
        "Numpy is a Python library used for managing arrays and performing mathematical operations. We start by importing the NumPy library."
      ]
    },
    {
      "cell_type": "code",
      "metadata": {
        "id": "PE_w5kzxDwLE"
      },
      "source": [
        "import numpy as np"
      ],
      "execution_count": null,
      "outputs": []
    },
    {
      "cell_type": "markdown",
      "source": [
        "In the above line of code, we imported the NumPy library. The 'as np' expression in the import statement allows us to name the library so that it's easier to use. To use a function in the library, you have to include 'np.' as the prefix (e.g. np.mean).\n",
        "\n",
        "However, if you want to use the functions in the library without having to include the prefix, use this import statement:"
      ],
      "metadata": {
        "id": "0R_zyHf6SXJp"
      }
    },
    {
      "cell_type": "code",
      "source": [
        "from numpy import *"
      ],
      "metadata": {
        "id": "KUdx1EZKSm8-"
      },
      "execution_count": null,
      "outputs": []
    },
    {
      "cell_type": "markdown",
      "source": [
        "In the above line, we are basically saying that we want to import all the functions from the numpy module. This saves us the need to use the 'np.' prefix before the NumPy functions.\n",
        "\n"
      ],
      "metadata": {
        "id": "l29bZDteSnz8"
      }
    },
    {
      "cell_type": "markdown",
      "metadata": {
        "id": "mvEntWDB3JSw"
      },
      "source": [
        "## **Functions**\n",
        "\n",
        "Recall that functions are commands that take in certain inputs to generate an output. Here's a diagram that summarizes functions:\n",
        "\n",
        "<img src='https://drive.google.com/uc?id=1ZNWEGYbdnnUT1aCnqkvUuWytALbBQvC1'>\n",
        "\n",
        "A special type of functions are methods. Methods are functions that must be used on a particular object (e.g. tables).\n",
        "\n",
        "Some functions are built-in while others must be imported. Built-in functions are functions that are always available in Python. You don't have to import any libraries in order to use them. An example is sum().\n",
        "\n",
        "On the other hand, some functions can only be used after you import certain libraries. An example is NumPy, which contains various data science functions such as np.mean and np.array. You cannot use these functions without first importing the NumPy library as they are not built-in.\n",
        "\n"
      ]
    },
    {
      "cell_type": "markdown",
      "metadata": {
        "id": "j3eeNmuOw5IL"
      },
      "source": [
        "## **Defining Functions**\n",
        "\n",
        "Python has tons of functions but sometimes, you might want to create your own function to perform a specific task. Python also allows you to define your own functions using the def function.\n",
        "\n",
        "This is the syntax for defining a function:\n",
        "\n",
        "```\n",
        "def *function_name(arguments)*:\n",
        "  '''description'''\n",
        "  *expression*\n",
        "  return *output*\n",
        "```\n",
        "\n",
        "Note that the description is optional but you can include it to let other people know what your function does.\n",
        "\n",
        "The print() function is used for displaying output. However, when we are defining a function, we use the return function to display the output. The return function is specifically used at the end of a function you defined to make sure that your function provides an output. If you are printing anything in your function, you don't have to use the return command (see the following example).\n"
      ]
    },
    {
      "cell_type": "markdown",
      "metadata": {
        "id": "4A7UjhZd1vQy"
      },
      "source": [
        "Say you have a list of grades and you want to know the percentage of each grade (A, B and C) in the list. You make this process simple by defining a function that takes a list of grades as its input and gives you the percentages of each of the 3 grades as the output."
      ]
    },
    {
      "cell_type": "code",
      "source": [
        "#Defining the function\n",
        "\n",
        "def grade_percentages(grades_list):\n",
        "  '''Function that calculates the percentage of each grade in a list of grades.'''\n",
        "  \n",
        "  counter_a = 0\n",
        "  counter_b = 0\n",
        "  counter_c = 0\n",
        "  other = 0\n",
        "\n",
        "  for grade in grades_list:\n",
        "    if grade == 'a':\n",
        "      counter_a = counter_a + 1\n",
        "    elif grade == 'b':\n",
        "      counter_b = counter_b + 1\n",
        "    elif grade == 'c':\n",
        "      counter_c = counter_c + 1\n",
        "    else:\n",
        "      other = other + 1\n",
        "\n",
        "  #The len() function is used for finding the total number of items in a list.\n",
        "  list_len = len(grades_list)\n",
        "  prop_a = 100*(counter_a/list_len)\n",
        "  prop_b = 100*(counter_b/list_len)\n",
        "  prop_c = 100*(counter_c/list_len)\n",
        "  prop_other = 100*(other/list_len)\n",
        "\n",
        "  print(\"% of As:\", prop_a)\n",
        "  print(\"% of Bs:\", prop_b)\n",
        "  print(\"% of Cs:\", prop_c)\n",
        "  print(\"% of other grades:\", prop_other)\n",
        "\n",
        "#Trying out our function\n",
        "grades_list = ['a', 'a', 'b', 'b', 'b', 'a', 'a', 'c', 'b', 'c', 'c', 'f']\n",
        "grade_percentages(grades_list)"
      ],
      "metadata": {
        "id": "4n2fvZb3XGQr"
      },
      "execution_count": null,
      "outputs": []
    },
    {
      "cell_type": "markdown",
      "metadata": {
        "id": "KTBgWtERs6Yz"
      },
      "source": [
        "## **Storing Data**\n",
        "\n",
        "Storing data is important as it allows you to use the data later. The most basic way to store data in Python is to assign it to a variable. There are also more complex way of storing and organizing data, such as:\n",
        "\n",
        "- Lists: A list in Python is just a sequence of values. These values can be of any data type (strings, integers, etc.).\n",
        "\n",
        "- Arrays: An array is also a sequence of values of any data type. However, there are important differences between lists and arrays, which we will be discussing below.\n",
        "\n",
        "- Tables: You can think of tables as a collection of lists or arrays. They are organized in columns and rows. Columns give you information about one aspect of all your entries (for example, names of all students). Rows give you information about all aspects of one entry (for example, all the information – such as name, student ID, email, etc. – of one student). In Python, tables can be created using the DataFrame object.\n",
        "\n",
        "Let's start by talking about lists.\n",
        "\n",
        "### **Lists**\n",
        "\n",
        "Creating a list in Python is very easy – just put your values within square brackets ([])."
      ]
    },
    {
      "cell_type": "code",
      "source": [
        "[3, 4, 6, 100] "
      ],
      "metadata": {
        "id": "o7M-jgKjT5ye"
      },
      "execution_count": null,
      "outputs": []
    },
    {
      "cell_type": "markdown",
      "metadata": {
        "id": "tZvLwSmWqwwH"
      },
      "source": [
        "#### **Lists vs. Arrays**\n",
        "\n",
        "Lists store a set of values, similar to arrays but they are both very different objects. The following are the main differences between lists and arrays (don't worry about how to create arrays just yet).\n",
        "\n",
        "- A particular list can contain items of different data types. For example, a list can have a string, integer, float and Boolean value. However, a particular array can only have items of one data type. "
      ]
    },
    {
      "cell_type": "code",
      "source": [
        "#Example 1\n",
        "np.array([1, 2.2, 'hello'])"
      ],
      "metadata": {
        "colab": {
          "base_uri": "https://localhost:8080/"
        },
        "id": "8oc7ioILUcOv",
        "outputId": "a74fab20-64c3-4b76-b582-b07aabfe6a15"
      },
      "execution_count": null,
      "outputs": [
        {
          "output_type": "execute_result",
          "data": {
            "text/plain": [
              "array(['1', '2.2', 'hello'], dtype='<U32')"
            ]
          },
          "metadata": {},
          "execution_count": 58
        }
      ]
    },
    {
      "cell_type": "markdown",
      "source": [
        "Above, when we tried to create arrays with items of different data types, Python automatically converted all the items to the same data type based on what makes the most sense. In examples 1 and 3, because there was a string in the array, Python converted all the other items to strings as well. In example 2, because there was a float in the array, Python converted all the remaining items to floats as well (the Boolean value True is encoded as 1 and False is encoded as 0)"
      ],
      "metadata": {
        "id": "D6oab8crUuZf"
      }
    },
    {
      "cell_type": "markdown",
      "metadata": {
        "id": "hN-09Fnrq-zu"
      },
      "source": [
        "### **List Comprehensions**\n",
        "\n",
        "A list comprehension is a simple way to create a new list based on an existing list. It involves using conditional statements and loops.\n",
        "\n",
        "Say you have a list of numbers and you want to create a new list by doubling all numbers greater than 5 in the existing list."
      ]
    },
    {
      "cell_type": "code",
      "source": [
        "numbers = [4, 13, 18, 3, 25, -2, 31]"
      ],
      "metadata": {
        "id": "LcPz1MlAVeRR"
      },
      "execution_count": null,
      "outputs": []
    },
    {
      "cell_type": "markdown",
      "source": [
        "Using list comprehensions, you can perform this task much more efficiently, using just one line of code.\n",
        "\n",
        "This is the syntax for creating a list comprehension:\n",
        "\n",
        "[*expression* for *item* in *list* if *condition*]"
      ],
      "metadata": {
        "id": "nJwkDqjgVmcr"
      }
    },
    {
      "cell_type": "code",
      "source": [
        "numbers = [4, 13, 18, 3, 25, -2, 31]\n",
        "new_numbers = []\n",
        "\n",
        "[num * 2 for num in numbers if num > 5]"
      ],
      "metadata": {
        "colab": {
          "base_uri": "https://localhost:8080/"
        },
        "id": "hRRg_7G9V2HU",
        "outputId": "5c112154-48f9-4194-dd7f-86d7e3ea4116"
      },
      "execution_count": null,
      "outputs": [
        {
          "output_type": "execute_result",
          "data": {
            "text/plain": [
              "[26, 36, 50, 62]"
            ]
          },
          "metadata": {},
          "execution_count": 59
        }
      ]
    },
    {
      "cell_type": "markdown",
      "metadata": {
        "id": "DsU6hNJPFr8v"
      },
      "source": [
        "## **Arrays**\n",
        "\n",
        "An array, like a list, is a collections of values (see [lab 0](https://https://colab.research.google.com/drive/1_u1YSTi8YX93XctMZwJfYgDST4Ofbyqn#scrollTo=59g2n6VzP4IW) for the difference between arrays and lists). One of the most important things that NumPy is used for is creating and managing arrays.\n",
        "\n",
        "### **Creating Arrays**\n",
        "\n",
        "We use the np.array() function to create arrays using NumPy. It takes values within square brackets as its argument."
      ]
    },
    {
      "cell_type": "code",
      "metadata": {
        "colab": {
          "base_uri": "https://localhost:8080/"
        },
        "id": "tkIC2Cu8FzuR",
        "outputId": "8de33853-f89e-49c7-ac2f-f6b2eee27523"
      },
      "source": [
        "num = np.array([7, 5, 9, 2, 5, 21, 13, 3])\n",
        "num"
      ],
      "execution_count": null,
      "outputs": [
        {
          "output_type": "execute_result",
          "data": {
            "text/plain": [
              "array([ 7,  5,  9,  2,  5, 21, 13,  3])"
            ]
          },
          "metadata": {},
          "execution_count": 4
        }
      ]
    },
    {
      "cell_type": "markdown",
      "metadata": {
        "id": "z8AbBQ3Lrmss"
      },
      "source": [
        "Another way to create arrays is using the np.arange() function. This function can only be used to create arrays of numbers (integers and floats). You have to specify the initial and last values, and the interval and the function creates an array of values for you. The last value is not included."
      ]
    },
    {
      "cell_type": "code",
      "metadata": {
        "colab": {
          "base_uri": "https://localhost:8080/"
        },
        "id": "YirFHakRrl94",
        "outputId": "3c7cac91-0c65-44fd-ab7c-e3d54cc1166e"
      },
      "source": [
        "np.arange(1, 20, 3)"
      ],
      "execution_count": null,
      "outputs": [
        {
          "output_type": "execute_result",
          "data": {
            "text/plain": [
              "array([ 1,  4,  7, 10, 13, 16, 19])"
            ]
          },
          "metadata": {},
          "execution_count": 5
        }
      ]
    },
    {
      "cell_type": "markdown",
      "metadata": {
        "id": "eQPiJkwYv3iz"
      },
      "source": [
        "**Question 1:** Use np.arange to create an array of all the multiples of 5 between 0 and 100 (inclusive)."
      ]
    },
    {
      "cell_type": "markdown",
      "metadata": {
        "id": "ckGxtlPMJMRa"
      },
      "source": [
        "### **Array Dimensions**\n",
        "\n",
        "Arrays can be of different dimensions depending on the number of elements they have. A zero-dimensional array has only one element. They are also called scalars. Since there is only one element, you don't have to use square brackets."
      ]
    },
    {
      "cell_type": "code",
      "metadata": {
        "colab": {
          "base_uri": "https://localhost:8080/"
        },
        "id": "PVhgnZ2eJx0V",
        "outputId": "5d32c7a6-3467-4145-cf90-a55b4d496487"
      },
      "source": [
        "#0D array\n",
        "np.array(67)"
      ],
      "execution_count": null,
      "outputs": [
        {
          "output_type": "execute_result",
          "data": {
            "text/plain": [
              "array(67)"
            ]
          },
          "metadata": {},
          "execution_count": 6
        }
      ]
    },
    {
      "cell_type": "markdown",
      "metadata": {
        "id": "eWGWDoPAJ027"
      },
      "source": [
        "One-dimensional arrays contain a single collection of multiple elements. The num array is an example of a 1D array."
      ]
    },
    {
      "cell_type": "code",
      "metadata": {
        "colab": {
          "base_uri": "https://localhost:8080/"
        },
        "id": "F-C842C0J0AK",
        "outputId": "d0eb897d-6cdd-4ec4-cf92-2b25e46f4d2f"
      },
      "source": [
        "#1D array\n",
        "num"
      ],
      "execution_count": null,
      "outputs": [
        {
          "output_type": "execute_result",
          "data": {
            "text/plain": [
              "array([ 7,  5,  9,  2,  5, 21, 13,  3])"
            ]
          },
          "metadata": {},
          "execution_count": 7
        }
      ]
    },
    {
      "cell_type": "markdown",
      "metadata": {
        "id": "vtu_YEGiKkqw"
      },
      "source": [
        "Two-dimensional arrays contain two collections of multiple elements. These two collections must be enclosed within square brackets.\n",
        "\n",
        "2D arrays are especially useful for storing x and y values of data points. Arrays with 2 dimensions or more are also useful for vector algebra.\n",
        "\n",
        "In our labs, we will mainly be using 1D arrays as examples."
      ]
    },
    {
      "cell_type": "code",
      "metadata": {
        "colab": {
          "base_uri": "https://localhost:8080/"
        },
        "id": "DfgegKk-Kj3q",
        "outputId": "06100abb-44a2-423d-efd3-94b403820144"
      },
      "source": [
        "#2D array\n",
        "num_2d = np.array([[1, 4, 5], [5, 2, 0]])\n",
        "num_2d"
      ],
      "execution_count": null,
      "outputs": [
        {
          "output_type": "execute_result",
          "data": {
            "text/plain": [
              "array([[1, 4, 5],\n",
              "       [5, 2, 0]])"
            ]
          },
          "metadata": {},
          "execution_count": 8
        }
      ]
    },
    {
      "cell_type": "markdown",
      "metadata": {
        "id": "ubdYDGK6K8my"
      },
      "source": [
        "To check the number of dimensions an array has, you can use the .ndim function."
      ]
    },
    {
      "cell_type": "code",
      "metadata": {
        "colab": {
          "base_uri": "https://localhost:8080/"
        },
        "id": "RPSr7w5KLxIt",
        "outputId": "683f89f6-3b1c-461e-824c-41096fd8edb9"
      },
      "source": [
        "num_2d.ndim"
      ],
      "execution_count": null,
      "outputs": [
        {
          "output_type": "execute_result",
          "data": {
            "text/plain": [
              "2"
            ]
          },
          "metadata": {},
          "execution_count": 9
        }
      ]
    },
    {
      "cell_type": "markdown",
      "metadata": {
        "id": "9fNZ8RZmxpHp"
      },
      "source": [
        "**Question 2:** Say you want to know if TV shows with fewer seasons have higher overall ratings. You record the number of seasons and overall rating for 7 TV shows you randomly selected. \n",
        "\n",
        "  - Number of seasons: 4, 2, 7, 7, 6, 16, 10\n",
        "  - Overall rating (out of 10): 6.7, 8.1, 7.8, 9.2, 9.5, 3.5, 6.3\n",
        "\n",
        "Create **a single** array to store this information (store the array in a variable).\n",
        "\n",
        "*Hint: Think about how many dimensions the array should have.*"
      ]
    },
    {
      "cell_type": "markdown",
      "metadata": {
        "id": "18w9j08tMBym"
      },
      "source": [
        "### **Indexing and Slicing**\n",
        "\n",
        "Indexing refers to extracting items in an array based on their index. You can do this using sqaure brackets at the end of the array. Recall that Python uses 0-indexing, so the index of the first element in your array is 0, the index of the second element is 1 and so on."
      ]
    },
    {
      "cell_type": "code",
      "metadata": {
        "colab": {
          "base_uri": "https://localhost:8080/"
        },
        "id": "1xKpUQjJMskb",
        "outputId": "526ea1f5-4479-43b7-f04e-62899964c103"
      },
      "source": [
        "#This will give you the 1st element in the num array.\n",
        "num[0]"
      ],
      "execution_count": null,
      "outputs": [
        {
          "output_type": "execute_result",
          "data": {
            "text/plain": [
              "7"
            ]
          },
          "metadata": {},
          "execution_count": 10
        }
      ]
    },
    {
      "cell_type": "code",
      "metadata": {
        "colab": {
          "base_uri": "https://localhost:8080/"
        },
        "id": "Ljil_HAFMtWA",
        "outputId": "54475915-0175-4ab9-e6b5-bd51a0f90db5"
      },
      "source": [
        "#This will give you the 3rd element in the num array.\n",
        "num[2]"
      ],
      "execution_count": null,
      "outputs": [
        {
          "output_type": "execute_result",
          "data": {
            "text/plain": [
              "9"
            ]
          },
          "metadata": {},
          "execution_count": 11
        }
      ]
    },
    {
      "cell_type": "markdown",
      "metadata": {
        "id": "AQRjKjr3NMB1"
      },
      "source": [
        "To index arrays of multiple dimensions, we can just use multiple square brackets."
      ]
    },
    {
      "cell_type": "code",
      "metadata": {
        "colab": {
          "base_uri": "https://localhost:8080/"
        },
        "id": "tWO8EY5QNG4V",
        "outputId": "752cbbc2-a4be-4530-9505-64ff4cbc6805"
      },
      "source": [
        "#This will give you the 2nd element in the 1st collection.\n",
        "num_2d[0][2]"
      ],
      "execution_count": null,
      "outputs": [
        {
          "output_type": "execute_result",
          "data": {
            "text/plain": [
              "5"
            ]
          },
          "metadata": {},
          "execution_count": 12
        }
      ]
    },
    {
      "cell_type": "markdown",
      "metadata": {
        "id": "r4D3zoSoN0Xx"
      },
      "source": [
        "We use negative indexing to access elements from the end of the array."
      ]
    },
    {
      "cell_type": "code",
      "metadata": {
        "colab": {
          "base_uri": "https://localhost:8080/"
        },
        "id": "JPrncrSCNtV9",
        "outputId": "604ad8df-bcf8-4269-aa46-1686add663e9"
      },
      "source": [
        "#This will give you the last element in your array.\n",
        "num[-1]"
      ],
      "execution_count": null,
      "outputs": [
        {
          "output_type": "execute_result",
          "data": {
            "text/plain": [
              "3"
            ]
          },
          "metadata": {},
          "execution_count": 13
        }
      ]
    },
    {
      "cell_type": "code",
      "metadata": {
        "colab": {
          "base_uri": "https://localhost:8080/"
        },
        "id": "hDwAU7iYN7Ee",
        "outputId": "0c9063a9-d372-4a23-d7b5-e8108d7fd04a"
      },
      "source": [
        "#This will give you 3rd to last element in your array.\n",
        "num[-3]"
      ],
      "execution_count": null,
      "outputs": [
        {
          "output_type": "execute_result",
          "data": {
            "text/plain": [
              "21"
            ]
          },
          "metadata": {},
          "execution_count": 14
        }
      ]
    },
    {
      "cell_type": "markdown",
      "metadata": {
        "id": "dnAWGUWDOPiS"
      },
      "source": [
        "Slicing refers to extracting a portion of your array using its index."
      ]
    },
    {
      "cell_type": "code",
      "metadata": {
        "colab": {
          "base_uri": "https://localhost:8080/"
        },
        "id": "gp-LW8YuO1OH",
        "outputId": "992088b6-ad80-4eb0-cb65-194fdb631fc1"
      },
      "source": [
        "#This gives you the first 3 elements in your array.\n",
        "num[0:3]"
      ],
      "execution_count": null,
      "outputs": [
        {
          "output_type": "execute_result",
          "data": {
            "text/plain": [
              "array([7, 5, 9])"
            ]
          },
          "metadata": {},
          "execution_count": 15
        }
      ]
    },
    {
      "cell_type": "markdown",
      "metadata": {
        "id": "o5w1j6-4O9Fw"
      },
      "source": [
        "Keep in mind that the element in the last index is not included. In this case, the element with index 3 (so the 4th element) is not included."
      ]
    },
    {
      "cell_type": "code",
      "metadata": {
        "colab": {
          "base_uri": "https://localhost:8080/"
        },
        "id": "C1BDksV5VjDb",
        "outputId": "31f39fa5-3ba0-46e7-a548-c7d9f7981a55"
      },
      "source": [
        "#This gives you every 2nd element in the array starting from the 1st element.\n",
        "num[::2]"
      ],
      "execution_count": null,
      "outputs": [
        {
          "output_type": "execute_result",
          "data": {
            "text/plain": [
              "array([ 7,  9,  5, 13])"
            ]
          },
          "metadata": {},
          "execution_count": 16
        }
      ]
    },
    {
      "cell_type": "code",
      "metadata": {
        "colab": {
          "base_uri": "https://localhost:8080/"
        },
        "id": "25iw9R3eVeRC",
        "outputId": "cb1cb62d-f77e-4790-f0e9-829f844123e1"
      },
      "source": [
        "#This gives you all the elements in the array.\n",
        "num[::]"
      ],
      "execution_count": null,
      "outputs": [
        {
          "output_type": "execute_result",
          "data": {
            "text/plain": [
              "array([ 7,  5,  9,  2,  5, 21, 13,  3])"
            ]
          },
          "metadata": {},
          "execution_count": 17
        }
      ]
    },
    {
      "cell_type": "code",
      "metadata": {
        "colab": {
          "base_uri": "https://localhost:8080/"
        },
        "id": "hiee8kLFVfw2",
        "outputId": "cbe28ac6-725b-4574-fa0e-3ea1b9e3d3e9"
      },
      "source": [
        "#This gives you every 3rd element in the array between the 2nd and 5th items.\n",
        "num[1:5:3]"
      ],
      "execution_count": null,
      "outputs": [
        {
          "output_type": "execute_result",
          "data": {
            "text/plain": [
              "array([5, 5])"
            ]
          },
          "metadata": {},
          "execution_count": 21
        }
      ]
    },
    {
      "cell_type": "markdown",
      "metadata": {
        "id": "Pg-ifs81Wqk4"
      },
      "source": [
        "Lists and arrays are indexed and sliced in the same way so you can check out [lab 0](https://https://colab.research.google.com/drive/1_u1YSTi8YX93XctMZwJfYgDST4Ofbyqn#scrollTo=mczvTogmbvOj) for more information on indexing and slicing. You can also experiment to discover different ways of slicing and indexing lists.\n",
        "\n",
        "To slice arrays of different dimensions, you can use multiple square brackets."
      ]
    },
    {
      "cell_type": "code",
      "metadata": {
        "colab": {
          "base_uri": "https://localhost:8080/"
        },
        "id": "R-pwRP24XXG_",
        "outputId": "ed4db77e-bd61-4dff-a7e5-6f11122e729d"
      },
      "source": [
        "num_2d[0][0:2:1]"
      ],
      "execution_count": null,
      "outputs": [
        {
          "output_type": "execute_result",
          "data": {
            "text/plain": [
              "array([1, 4])"
            ]
          },
          "metadata": {},
          "execution_count": 20
        }
      ]
    },
    {
      "cell_type": "markdown",
      "metadata": {
        "id": "CQ2oVwcta8MM"
      },
      "source": [
        "Another way of slicing arrays is by creating an array of indices."
      ]
    },
    {
      "cell_type": "code",
      "metadata": {
        "colab": {
          "base_uri": "https://localhost:8080/"
        },
        "id": "hDOVbsh7YLxS",
        "outputId": "692bbddc-3581-4da9-c28e-7e8d17d62f25"
      },
      "source": [
        "#This will give you the 2nd, 5th and 6th elements in the array.\n",
        "index = np.array([1, 4, 5])\n",
        "num[index]"
      ],
      "execution_count": null,
      "outputs": [
        {
          "output_type": "execute_result",
          "data": {
            "text/plain": [
              "array([ 5,  5, 21])"
            ]
          },
          "metadata": {},
          "execution_count": 18
        }
      ]
    },
    {
      "cell_type": "markdown",
      "metadata": {
        "id": "Z-WerOQZyao_"
      },
      "source": [
        "**Question 3:** Now, you want to use the array you created in question 2 to create two separate arrays: one that stores the number of seasons and another that stores the overall rating. Use indexing to create these two arrays."
      ]
    },
    {
      "cell_type": "markdown",
      "metadata": {
        "id": "bt8I7pVpbL6g"
      },
      "source": [
        "## **Math in NumPy**\n",
        "\n",
        "NumPy is also really useful for math. It contains various function for performing math operations. Here are some important examples."
      ]
    },
    {
      "cell_type": "code",
      "metadata": {
        "colab": {
          "base_uri": "https://localhost:8080/"
        },
        "id": "RP22FmZnsd6j",
        "outputId": "82623687-72ca-44f8-bdb1-c23d64a9ff94"
      },
      "source": [
        "#Sum\n",
        "np.sum(num)"
      ],
      "execution_count": null,
      "outputs": [
        {
          "output_type": "execute_result",
          "data": {
            "text/plain": [
              "65"
            ]
          },
          "metadata": {},
          "execution_count": 22
        }
      ]
    },
    {
      "cell_type": "code",
      "metadata": {
        "colab": {
          "base_uri": "https://localhost:8080/"
        },
        "id": "XcrfPDZ-bDYM",
        "outputId": "f781b0e3-c28a-4d9d-9720-9049edfe3c01"
      },
      "source": [
        "#Average\n",
        "np.mean(num)"
      ],
      "execution_count": null,
      "outputs": [
        {
          "output_type": "execute_result",
          "data": {
            "text/plain": [
              "8.125"
            ]
          },
          "metadata": {},
          "execution_count": 23
        }
      ]
    },
    {
      "cell_type": "code",
      "metadata": {
        "colab": {
          "base_uri": "https://localhost:8080/"
        },
        "id": "FXiRn6AUsX6D",
        "outputId": "dc5ea0d9-b0a4-4cb8-835b-16aa6d75e212"
      },
      "source": [
        "#Another function to find the average\n",
        "np.average(num)"
      ],
      "execution_count": null,
      "outputs": [
        {
          "output_type": "execute_result",
          "data": {
            "text/plain": [
              "8.125"
            ]
          },
          "metadata": {},
          "execution_count": 24
        }
      ]
    },
    {
      "cell_type": "markdown",
      "metadata": {
        "id": "FqCagXbat8Sn"
      },
      "source": [
        "The np.round function is used to round values. The first argument in the np.round function is the number you would like to round and the second argument is the number of decimal places to round to.\n"
      ]
    },
    {
      "cell_type": "code",
      "metadata": {
        "colab": {
          "base_uri": "https://localhost:8080/"
        },
        "id": "SWoHDYYZsazR",
        "outputId": "c7b4409a-1a62-4c2c-c961-20d0b7149db7"
      },
      "source": [
        "#Rounding\n",
        "np.round(4.5234, 2)"
      ],
      "execution_count": null,
      "outputs": [
        {
          "output_type": "execute_result",
          "data": {
            "text/plain": [
              "4.52"
            ]
          },
          "metadata": {},
          "execution_count": 25
        }
      ]
    },
    {
      "cell_type": "markdown",
      "metadata": {
        "id": "vQ3XAKEYuBo7"
      },
      "source": [
        "You can also input an array. The function will perform an elementwise operation – that is, it will round each of the values in the array."
      ]
    },
    {
      "cell_type": "code",
      "metadata": {
        "colab": {
          "base_uri": "https://localhost:8080/"
        },
        "id": "AkVKgMXdtfCZ",
        "outputId": "8461c93c-2c01-4581-86b7-e6defeff743e"
      },
      "source": [
        "np.round(num)"
      ],
      "execution_count": null,
      "outputs": [
        {
          "output_type": "execute_result",
          "data": {
            "text/plain": [
              "array([ 7,  5,  9,  2,  5, 21, 13,  3])"
            ]
          },
          "metadata": {},
          "execution_count": 26
        }
      ]
    },
    {
      "cell_type": "markdown",
      "metadata": {
        "id": "59scP_3OuO2A"
      },
      "source": [
        "Another useful NumPy function is np.diff(), which takes the difference between consecutive elements. A given element is subtracted from the one to its right."
      ]
    },
    {
      "cell_type": "code",
      "metadata": {
        "colab": {
          "base_uri": "https://localhost:8080/"
        },
        "id": "pYB_gAIhCO3N",
        "outputId": "c8d0d5b3-4c87-445c-8498-34544dfb69c2"
      },
      "source": [
        "np.diff(num)"
      ],
      "execution_count": null,
      "outputs": [
        {
          "output_type": "execute_result",
          "data": {
            "text/plain": [
              "array([ -2,   4,  -7,   3,  16,  -8, -10])"
            ]
          },
          "metadata": {},
          "execution_count": 27
        }
      ]
    },
    {
      "cell_type": "markdown",
      "metadata": {
        "id": "59aI6tTiyxfU"
      },
      "source": [
        "**Question 4:** Find the average overall rating for the TV shows in the sample (use the array in question 3)."
      ]
    },
    {
      "cell_type": "markdown",
      "metadata": {
        "id": "IPxKJIc7CpXT"
      },
      "source": [
        "# **Introduction to Pandas**\n",
        "\n",
        "<img src='https://drive.google.com/uc?id=1Elaps1FSXJGcuLEdl9xiBTV9WRAWkDoy'>\n",
        "\n",
        "Pandas is another Python library used for data science. It is especially useful for creating and managing dataframes (which are basically tables).\n",
        "\n",
        "To use the functions in the Pandas library, we first need to import it. We will be importing it as pd (similar to how we import NumPy as np)."
      ]
    },
    {
      "cell_type": "code",
      "metadata": {
        "id": "4ltlYoccIwhD"
      },
      "source": [
        "import pandas as pd"
      ],
      "execution_count": null,
      "outputs": []
    },
    {
      "cell_type": "markdown",
      "metadata": {
        "id": "IyyN5WjnI2cN"
      },
      "source": [
        "## **Importing Datasets**\n",
        "\n",
        "One of the most important Pandas functions is pd.read_csv(). It is used for upolading .csv files (.csv is a file extension, similar to .docx). This is one of the most common file extensions for datasets. The function automatically converts your .csv file to a dataframe object.\n",
        "\n",
        "Below, we are importing a dataset on different college majors and salaries. We will be using this dataset throughout this lab.\n",
        "\n",
        "Importing a dataset into Google Colab requires a few more steps. One way of doing this is by connecting your Google account to the notebook using this code:"
      ]
    },
    {
      "cell_type": "code",
      "metadata": {
        "colab": {
          "base_uri": "https://localhost:8080/"
        },
        "id": "A1r_VmHAI11Q",
        "outputId": "a60c1630-d233-410f-a5ae-bac96f3dbff3"
      },
      "source": [
        "from google.colab import drive\n",
        "drive.mount('/content/drive')"
      ],
      "execution_count": null,
      "outputs": [
        {
          "output_type": "stream",
          "name": "stdout",
          "text": [
            "Drive already mounted at /content/drive; to attempt to forcibly remount, call drive.mount(\"/content/drive\", force_remount=True).\n"
          ]
        }
      ]
    },
    {
      "cell_type": "markdown",
      "metadata": {
        "id": "GP1OoztYM-9B"
      },
      "source": [
        "When you run the above cell, you will be asked to authenticate your account. Once you've chosen your Google account and copied the verification code, go to the Files section (it is the last icon in the sidebar at the left) then open your Drive. Upload your dataset to the Drive of the account you just connected, click on the 3 vertical dots and select 'Copy path.'\n",
        "\n",
        "Assign the path to a variable (as we have done below, in the first line). Then, use the pd.read_csv() function to upload your dataset."
      ]
    },
    {
      "cell_type": "code",
      "metadata": {
        "colab": {
          "base_uri": "https://localhost:8080/",
          "height": 305
        },
        "id": "iYBi8mSRKlzG",
        "outputId": "84046294-e34a-47c2-f62c-5a7b47a83a8a"
      },
      "source": [
        "path = \"/content/drive/MyDrive/Copy of salary_information.csv\"\n",
        "salary_df = pd.read_csv(path)\n",
        "salary_df.head(5)"
      ],
      "execution_count": null,
      "outputs": [
        {
          "output_type": "execute_result",
          "data": {
            "text/plain": [
              "          undergrad_major starting_salary midcareer_salary  \\\n",
              "0             Accounting      $46,000.00       $77,100.00    \n",
              "1  Aerospace Engineering      $57,700.00      $101,000.00    \n",
              "2            Agriculture      $42,600.00       $71,900.00    \n",
              "3           Anthropology      $36,800.00       $61,500.00    \n",
              "4           Architecture      $41,600.00       $76,800.00    \n",
              "\n",
              "  percent_change_starting midcareer_tenth_percentile  \\\n",
              "0                   67.6                 $42,200.00    \n",
              "1                   75.0                 $64,300.00    \n",
              "2                   68.8                 $36,300.00    \n",
              "3                   67.1                 $33,800.00    \n",
              "4                   84.6                 $50,600.00    \n",
              "\n",
              "  midcareer_twentyfifth_percentile midcareer_seventyfifth_percentile  \\\n",
              "0                      $56,100.00                       $108,000.00    \n",
              "1                      $82,100.00                       $127,000.00    \n",
              "2                      $52,100.00                        $96,300.00    \n",
              "3                      $45,500.00                        $89,300.00    \n",
              "4                      $62,200.00                        $97,000.00    \n",
              "\n",
              "  midcareer_nintieth_percentile  Unnamed: 8  \n",
              "0                  $152,000.00          NaN  \n",
              "1                  $161,000.00          NaN  \n",
              "2                  $150,000.00          NaN  \n",
              "3                  $138,000.00          NaN  \n",
              "4                  $136,000.00          NaN  "
            ],
            "text/html": [
              "\n",
              "  <div id=\"df-5661f6c8-b765-4768-8e0c-1a583d7fde29\">\n",
              "    <div class=\"colab-df-container\">\n",
              "      <div>\n",
              "<style scoped>\n",
              "    .dataframe tbody tr th:only-of-type {\n",
              "        vertical-align: middle;\n",
              "    }\n",
              "\n",
              "    .dataframe tbody tr th {\n",
              "        vertical-align: top;\n",
              "    }\n",
              "\n",
              "    .dataframe thead th {\n",
              "        text-align: right;\n",
              "    }\n",
              "</style>\n",
              "<table border=\"1\" class=\"dataframe\">\n",
              "  <thead>\n",
              "    <tr style=\"text-align: right;\">\n",
              "      <th></th>\n",
              "      <th>undergrad_major</th>\n",
              "      <th>starting_salary</th>\n",
              "      <th>midcareer_salary</th>\n",
              "      <th>percent_change_starting</th>\n",
              "      <th>midcareer_tenth_percentile</th>\n",
              "      <th>midcareer_twentyfifth_percentile</th>\n",
              "      <th>midcareer_seventyfifth_percentile</th>\n",
              "      <th>midcareer_nintieth_percentile</th>\n",
              "      <th>Unnamed: 8</th>\n",
              "    </tr>\n",
              "  </thead>\n",
              "  <tbody>\n",
              "    <tr>\n",
              "      <th>0</th>\n",
              "      <td>Accounting</td>\n",
              "      <td>$46,000.00</td>\n",
              "      <td>$77,100.00</td>\n",
              "      <td>67.6</td>\n",
              "      <td>$42,200.00</td>\n",
              "      <td>$56,100.00</td>\n",
              "      <td>$108,000.00</td>\n",
              "      <td>$152,000.00</td>\n",
              "      <td>NaN</td>\n",
              "    </tr>\n",
              "    <tr>\n",
              "      <th>1</th>\n",
              "      <td>Aerospace Engineering</td>\n",
              "      <td>$57,700.00</td>\n",
              "      <td>$101,000.00</td>\n",
              "      <td>75.0</td>\n",
              "      <td>$64,300.00</td>\n",
              "      <td>$82,100.00</td>\n",
              "      <td>$127,000.00</td>\n",
              "      <td>$161,000.00</td>\n",
              "      <td>NaN</td>\n",
              "    </tr>\n",
              "    <tr>\n",
              "      <th>2</th>\n",
              "      <td>Agriculture</td>\n",
              "      <td>$42,600.00</td>\n",
              "      <td>$71,900.00</td>\n",
              "      <td>68.8</td>\n",
              "      <td>$36,300.00</td>\n",
              "      <td>$52,100.00</td>\n",
              "      <td>$96,300.00</td>\n",
              "      <td>$150,000.00</td>\n",
              "      <td>NaN</td>\n",
              "    </tr>\n",
              "    <tr>\n",
              "      <th>3</th>\n",
              "      <td>Anthropology</td>\n",
              "      <td>$36,800.00</td>\n",
              "      <td>$61,500.00</td>\n",
              "      <td>67.1</td>\n",
              "      <td>$33,800.00</td>\n",
              "      <td>$45,500.00</td>\n",
              "      <td>$89,300.00</td>\n",
              "      <td>$138,000.00</td>\n",
              "      <td>NaN</td>\n",
              "    </tr>\n",
              "    <tr>\n",
              "      <th>4</th>\n",
              "      <td>Architecture</td>\n",
              "      <td>$41,600.00</td>\n",
              "      <td>$76,800.00</td>\n",
              "      <td>84.6</td>\n",
              "      <td>$50,600.00</td>\n",
              "      <td>$62,200.00</td>\n",
              "      <td>$97,000.00</td>\n",
              "      <td>$136,000.00</td>\n",
              "      <td>NaN</td>\n",
              "    </tr>\n",
              "  </tbody>\n",
              "</table>\n",
              "</div>\n",
              "      <button class=\"colab-df-convert\" onclick=\"convertToInteractive('df-5661f6c8-b765-4768-8e0c-1a583d7fde29')\"\n",
              "              title=\"Convert this dataframe to an interactive table.\"\n",
              "              style=\"display:none;\">\n",
              "        \n",
              "  <svg xmlns=\"http://www.w3.org/2000/svg\" height=\"24px\"viewBox=\"0 0 24 24\"\n",
              "       width=\"24px\">\n",
              "    <path d=\"M0 0h24v24H0V0z\" fill=\"none\"/>\n",
              "    <path d=\"M18.56 5.44l.94 2.06.94-2.06 2.06-.94-2.06-.94-.94-2.06-.94 2.06-2.06.94zm-11 1L8.5 8.5l.94-2.06 2.06-.94-2.06-.94L8.5 2.5l-.94 2.06-2.06.94zm10 10l.94 2.06.94-2.06 2.06-.94-2.06-.94-.94-2.06-.94 2.06-2.06.94z\"/><path d=\"M17.41 7.96l-1.37-1.37c-.4-.4-.92-.59-1.43-.59-.52 0-1.04.2-1.43.59L10.3 9.45l-7.72 7.72c-.78.78-.78 2.05 0 2.83L4 21.41c.39.39.9.59 1.41.59.51 0 1.02-.2 1.41-.59l7.78-7.78 2.81-2.81c.8-.78.8-2.07 0-2.86zM5.41 20L4 18.59l7.72-7.72 1.47 1.35L5.41 20z\"/>\n",
              "  </svg>\n",
              "      </button>\n",
              "      \n",
              "  <style>\n",
              "    .colab-df-container {\n",
              "      display:flex;\n",
              "      flex-wrap:wrap;\n",
              "      gap: 12px;\n",
              "    }\n",
              "\n",
              "    .colab-df-convert {\n",
              "      background-color: #E8F0FE;\n",
              "      border: none;\n",
              "      border-radius: 50%;\n",
              "      cursor: pointer;\n",
              "      display: none;\n",
              "      fill: #1967D2;\n",
              "      height: 32px;\n",
              "      padding: 0 0 0 0;\n",
              "      width: 32px;\n",
              "    }\n",
              "\n",
              "    .colab-df-convert:hover {\n",
              "      background-color: #E2EBFA;\n",
              "      box-shadow: 0px 1px 2px rgba(60, 64, 67, 0.3), 0px 1px 3px 1px rgba(60, 64, 67, 0.15);\n",
              "      fill: #174EA6;\n",
              "    }\n",
              "\n",
              "    [theme=dark] .colab-df-convert {\n",
              "      background-color: #3B4455;\n",
              "      fill: #D2E3FC;\n",
              "    }\n",
              "\n",
              "    [theme=dark] .colab-df-convert:hover {\n",
              "      background-color: #434B5C;\n",
              "      box-shadow: 0px 1px 3px 1px rgba(0, 0, 0, 0.15);\n",
              "      filter: drop-shadow(0px 1px 2px rgba(0, 0, 0, 0.3));\n",
              "      fill: #FFFFFF;\n",
              "    }\n",
              "  </style>\n",
              "\n",
              "      <script>\n",
              "        const buttonEl =\n",
              "          document.querySelector('#df-5661f6c8-b765-4768-8e0c-1a583d7fde29 button.colab-df-convert');\n",
              "        buttonEl.style.display =\n",
              "          google.colab.kernel.accessAllowed ? 'block' : 'none';\n",
              "\n",
              "        async function convertToInteractive(key) {\n",
              "          const element = document.querySelector('#df-5661f6c8-b765-4768-8e0c-1a583d7fde29');\n",
              "          const dataTable =\n",
              "            await google.colab.kernel.invokeFunction('convertToInteractive',\n",
              "                                                     [key], {});\n",
              "          if (!dataTable) return;\n",
              "\n",
              "          const docLinkHtml = 'Like what you see? Visit the ' +\n",
              "            '<a target=\"_blank\" href=https://colab.research.google.com/notebooks/data_table.ipynb>data table notebook</a>'\n",
              "            + ' to learn more about interactive tables.';\n",
              "          element.innerHTML = '';\n",
              "          dataTable['output_type'] = 'display_data';\n",
              "          await google.colab.output.renderOutput(dataTable, element);\n",
              "          const docLink = document.createElement('div');\n",
              "          docLink.innerHTML = docLinkHtml;\n",
              "          element.appendChild(docLink);\n",
              "        }\n",
              "      </script>\n",
              "    </div>\n",
              "  </div>\n",
              "  "
            ]
          },
          "metadata": {},
          "execution_count": 33
        }
      ]
    },
    {
      "cell_type": "markdown",
      "metadata": {
        "id": "M0NrcVFHNxu5"
      },
      "source": [
        "The .head() method is used for displaying the first few rows of your dataframe. The argument is the number of rows you'd like to see (in this case, 5). You can use the .tail() method to display the last rows of your dataframe.\n",
        "\n",
        "## **Series**\n",
        "\n",
        "Series, similar to arrays and lists, are used for storing a collection of elements. Series are different from arrays and lists in one important way: you can create your own index for the elements in a series. However, you cannot change the indices of the elements in an array or list: you have to access them using their integer index.\n",
        "\n",
        "Series are similar to lists as they are heterogenous, which means that a single series or list can hold data of different types (integers, floats, etc.). Arrays, on the other hand, are homogenous, so a particular array can only hold data of a single type.\n",
        "\n",
        "### **Creating Series**\n",
        "\n",
        "The pd.Series() function is used for creating series (note that the series has to be capitalized as Python is case-sensitive). There are 2 ways of creating series:\n",
        "\n",
        "- Convert arrays to series\n",
        "- Create a new series\n",
        "\n",
        "The first argument in the pd.Series() function is the collection of elements within squarebrackets. If you want to convert an array to series, you can just enter the name of the array as the first argument. The second argument is optional and allows you to change the indices of the elements in your series. If you don't specify this argument, the default indices will be used, as in the example below:"
      ]
    },
    {
      "cell_type": "code",
      "metadata": {
        "colab": {
          "base_uri": "https://localhost:8080/"
        },
        "id": "JaCClIvUSLmI",
        "outputId": "f471b82a-db45-46b4-8219-f03851ccb482"
      },
      "source": [
        "#Converting arrays to series\n",
        "num_series = pd.Series(num)\n",
        "num_series"
      ],
      "execution_count": null,
      "outputs": [
        {
          "output_type": "execute_result",
          "data": {
            "text/plain": [
              "0     7\n",
              "1     5\n",
              "2     9\n",
              "3     2\n",
              "4     5\n",
              "5    21\n",
              "6    13\n",
              "7     3\n",
              "dtype: int64"
            ]
          },
          "metadata": {},
          "execution_count": 34
        }
      ]
    },
    {
      "cell_type": "markdown",
      "metadata": {
        "id": "VcpSBgHFXiPx"
      },
      "source": [
        "You can specify the indices within square brackets, as shown below. Note that the number of indices you specify should be the same as the number of elements in your series."
      ]
    },
    {
      "cell_type": "code",
      "metadata": {
        "colab": {
          "base_uri": "https://localhost:8080/"
        },
        "id": "F0QqQumsWK0_",
        "outputId": "9cf0dce7-a8ec-4bb8-c8c9-20a2a134ad43"
      },
      "source": [
        "#Create a new series\n",
        "series = pd.Series([90, 50, 73, 81], index = [1, 2, 3, 4])\n",
        "series"
      ],
      "execution_count": null,
      "outputs": [
        {
          "output_type": "execute_result",
          "data": {
            "text/plain": [
              "1    90\n",
              "2    50\n",
              "3    73\n",
              "4    81\n",
              "dtype: int64"
            ]
          },
          "metadata": {},
          "execution_count": 35
        }
      ]
    },
    {
      "cell_type": "markdown",
      "metadata": {
        "id": "5mCxpziHW0gI"
      },
      "source": [
        "You can specify anything as the indices of your series, even strings."
      ]
    },
    {
      "cell_type": "code",
      "metadata": {
        "colab": {
          "base_uri": "https://localhost:8080/"
        },
        "id": "bi9njEz_WkCk",
        "outputId": "22a303d0-e1d6-437c-b7df-f9de697c0f97"
      },
      "source": [
        "series_str = pd.Series([90, 50, 73, 81], index = [\"one\", \"two\", \"three\", \"four\"])\n",
        "series_str"
      ],
      "execution_count": null,
      "outputs": [
        {
          "output_type": "execute_result",
          "data": {
            "text/plain": [
              "one      90\n",
              "two      50\n",
              "three    73\n",
              "four     81\n",
              "dtype: int64"
            ]
          },
          "metadata": {},
          "execution_count": 30
        }
      ]
    },
    {
      "cell_type": "markdown",
      "metadata": {
        "id": "s_AVfvxQX9dY"
      },
      "source": [
        "## **Dictionaries**\n",
        "\n",
        "Dictionaries in Python are a collections of elements in which each element is given a unique key to identify it. You can use these keys to access your items. It's up to you to decide the keys of your dictionary.\n",
        "\n",
        "Here's an example of a dictionary. Say you keep track of the classes you're taking on 3 days of the week. You can create a dictionary to store this information."
      ]
    },
    {
      "cell_type": "code",
      "metadata": {
        "colab": {
          "base_uri": "https://localhost:8080/"
        },
        "id": "Gw6DTCcggN9E",
        "outputId": "a8be15b3-ba84-487a-92ee-21c7870b5b5c"
      },
      "source": [
        "class_tracker = {\n",
        "    'monday': [\"data 8\", \"econ 100\", \"stat 135\"],\n",
        "    'tuesday': [\"econ 100\", \"math 53\"],\n",
        "    'wednesday': [\"philos 12a\", \"data 8\", \"stat 135\"]\n",
        "}\n",
        "class_tracker"
      ],
      "execution_count": null,
      "outputs": [
        {
          "output_type": "execute_result",
          "data": {
            "text/plain": [
              "{'monday': ['data 8', 'econ 100', 'stat 135'],\n",
              " 'tuesday': ['econ 100', 'math 53'],\n",
              " 'wednesday': ['philos 12a', 'data 8', 'stat 135']}"
            ]
          },
          "metadata": {},
          "execution_count": 31
        }
      ]
    },
    {
      "cell_type": "markdown",
      "metadata": {
        "id": "ZT8QXASCheDX"
      },
      "source": [
        "To add items to your dictionary, you can just do dict[key]: value. Suppose you want to add your schedule of classes for Thursday:"
      ]
    },
    {
      "cell_type": "code",
      "metadata": {
        "colab": {
          "base_uri": "https://localhost:8080/"
        },
        "id": "0JjzZFX5hXOI",
        "outputId": "ad67356e-dece-4d21-87e9-612ed013bac3"
      },
      "source": [
        "class_tracker[\"thursday\"] = [\"math 53\", \"philos 12a\"]\n",
        "class_tracker"
      ],
      "execution_count": null,
      "outputs": [
        {
          "output_type": "execute_result",
          "data": {
            "text/plain": [
              "{'monday': ['data 8', 'econ 100', 'stat 135'],\n",
              " 'thursday': ['math 53', 'philos 12a'],\n",
              " 'tuesday': ['econ 100', 'math 53'],\n",
              " 'wednesday': ['philos 12a', 'data 8', 'stat 135']}"
            ]
          },
          "metadata": {},
          "execution_count": 70
        }
      ]
    },
    {
      "cell_type": "markdown",
      "metadata": {
        "id": "sJHWbKkWiCEv"
      },
      "source": [
        "You can use keys to access elements from your dictionaries. For example, to print out the classes you have on Tuesday, you can just do this:"
      ]
    },
    {
      "cell_type": "code",
      "metadata": {
        "colab": {
          "base_uri": "https://localhost:8080/"
        },
        "id": "GZ2wFNOxh8yo",
        "outputId": "ba30661c-bc38-470f-ccf8-3cbac65ccfec"
      },
      "source": [
        "class_tracker[\"tuesday\"]"
      ],
      "execution_count": null,
      "outputs": [
        {
          "output_type": "execute_result",
          "data": {
            "text/plain": [
              "['econ 100', 'math 53']"
            ]
          },
          "metadata": {},
          "execution_count": 67
        }
      ]
    },
    {
      "cell_type": "markdown",
      "metadata": {
        "id": "28WBC4ul04xE"
      },
      "source": [
        "**Question 5:** Issac wants to track information about the classes he's taking next semester. He's taking 4 classes (in brackets is the class code): \n",
        "\n",
        "  - Introduction to Microeconomics (ECON 100)\n",
        "  - Computer Science (COMPSCI 110)\n",
        "  - 3D Printing (ART 10)\n",
        "  - Probability and Statistics (STAT 130)\n",
        "\n",
        "He's enrolled in the economics and statistics classes, but is waitlisted in the other classes. He's happy that the computer science and 3D printnig classes have a maximum class size of 20 but is worried that the other classes are bigger, with a maximum size of 50.\n",
        "\n",
        "- He wants to create a dictionary to store the class name, class code, whether he's enrolled or waitlisted and maximum class size of each class. Create this dictionary.\n",
        "-  Issac wants to know the codes of the classes he's taking. Use the dictionary you just created to retrieve the class codes."
      ]
    },
    {
      "cell_type": "markdown",
      "metadata": {
        "id": "d2jWqMwWIGG9"
      },
      "source": [
        "## **Dataframes**\n",
        "\n",
        "A dataframe is an object in Python that allows you to create tables. You can think of the rows and columns in a dataframe as a collection of series. \n",
        "\n",
        "### **Creating DataFrames**\n",
        "\n",
        "You can either import a dataset using the pd.read_csv() function (which automatically converts your .csv file to a dataframe) or you can create a dataframe from scratch. The pd.DataFrame() function is used to create a dataframe. There are different ways of creating a dataframe using this function:\n",
        "\n",
        "- Creating a dataframe from lists\n",
        "- Creating a dataframe from arrays\n",
        "- Creating a dataframe from series\n",
        "- Creating a dataframe from dictionaries\n",
        "\n",
        "Let's look at each option."
      ]
    },
    {
      "cell_type": "markdown",
      "metadata": {
        "id": "GgGv6JqGLnqp"
      },
      "source": [
        "The first way to create a dataframe is by creating a nested list (that is, lists within a list). Each list in the nested list represents a row. Below, student_info is an example of a nested list.\n",
        "\n",
        "Then, pass this list as the first argument in the pd.DataFrame function. The second argument, which is optional, is the names of your columns. If you don't specify anything, Python will just set integers starting from 0 as the column names."
      ]
    },
    {
      "cell_type": "code",
      "metadata": {
        "colab": {
          "base_uri": "https://localhost:8080/",
          "height": 108
        },
        "id": "es6rHRJFKdZA",
        "outputId": "3620f89d-7d0b-4e2d-d748-cfc2b148569b"
      },
      "source": [
        "student_info = [[1011, \"Andy\", \"9th\", True], [1012, \"Isabel\", \"10th\", False]]\n",
        "student_df = pd.DataFrame(student_info, columns = [\"Student ID\", \"First Name\", \"Grade\", \"Enrolled?\"])\n",
        "student_df"
      ],
      "execution_count": null,
      "outputs": [
        {
          "output_type": "execute_result",
          "data": {
            "text/html": [
              "<div>\n",
              "<style scoped>\n",
              "    .dataframe tbody tr th:only-of-type {\n",
              "        vertical-align: middle;\n",
              "    }\n",
              "\n",
              "    .dataframe tbody tr th {\n",
              "        vertical-align: top;\n",
              "    }\n",
              "\n",
              "    .dataframe thead th {\n",
              "        text-align: right;\n",
              "    }\n",
              "</style>\n",
              "<table border=\"1\" class=\"dataframe\">\n",
              "  <thead>\n",
              "    <tr style=\"text-align: right;\">\n",
              "      <th></th>\n",
              "      <th>Student ID</th>\n",
              "      <th>First Name</th>\n",
              "      <th>Grade</th>\n",
              "      <th>Enrolled?</th>\n",
              "    </tr>\n",
              "  </thead>\n",
              "  <tbody>\n",
              "    <tr>\n",
              "      <th>0</th>\n",
              "      <td>1011</td>\n",
              "      <td>Andy</td>\n",
              "      <td>9th</td>\n",
              "      <td>True</td>\n",
              "    </tr>\n",
              "    <tr>\n",
              "      <th>1</th>\n",
              "      <td>1012</td>\n",
              "      <td>Isabel</td>\n",
              "      <td>10th</td>\n",
              "      <td>False</td>\n",
              "    </tr>\n",
              "  </tbody>\n",
              "</table>\n",
              "</div>"
            ],
            "text/plain": [
              "   Student ID First Name Grade  Enrolled?\n",
              "0        1011       Andy   9th       True\n",
              "1        1012     Isabel  10th      False"
            ]
          },
          "metadata": {},
          "execution_count": 73
        }
      ]
    },
    {
      "cell_type": "markdown",
      "metadata": {
        "id": "ewXMg3G_MKcV"
      },
      "source": [
        "Every row in a dataframe has an index, as you can see above. You can set your own custom index. "
      ]
    },
    {
      "cell_type": "code",
      "metadata": {
        "colab": {
          "base_uri": "https://localhost:8080/",
          "height": 108
        },
        "id": "UvBCnlTJLgjO",
        "outputId": "94908681-20c6-40c4-9c50-c41a085dff81"
      },
      "source": [
        "student_df = pd.DataFrame(student_info, columns = [\"Student ID\", \"First Name\", \"Grade\", \"Enrolled?\"], index = [\"Student 1\", \"Student 2\"])\n",
        "student_df"
      ],
      "execution_count": null,
      "outputs": [
        {
          "output_type": "execute_result",
          "data": {
            "text/html": [
              "<div>\n",
              "<style scoped>\n",
              "    .dataframe tbody tr th:only-of-type {\n",
              "        vertical-align: middle;\n",
              "    }\n",
              "\n",
              "    .dataframe tbody tr th {\n",
              "        vertical-align: top;\n",
              "    }\n",
              "\n",
              "    .dataframe thead th {\n",
              "        text-align: right;\n",
              "    }\n",
              "</style>\n",
              "<table border=\"1\" class=\"dataframe\">\n",
              "  <thead>\n",
              "    <tr style=\"text-align: right;\">\n",
              "      <th></th>\n",
              "      <th>Student ID</th>\n",
              "      <th>First Name</th>\n",
              "      <th>Grade</th>\n",
              "      <th>Enrolled?</th>\n",
              "    </tr>\n",
              "  </thead>\n",
              "  <tbody>\n",
              "    <tr>\n",
              "      <th>Student 1</th>\n",
              "      <td>1011</td>\n",
              "      <td>Andy</td>\n",
              "      <td>9th</td>\n",
              "      <td>True</td>\n",
              "    </tr>\n",
              "    <tr>\n",
              "      <th>Student 2</th>\n",
              "      <td>1012</td>\n",
              "      <td>Isabel</td>\n",
              "      <td>10th</td>\n",
              "      <td>False</td>\n",
              "    </tr>\n",
              "  </tbody>\n",
              "</table>\n",
              "</div>"
            ],
            "text/plain": [
              "           Student ID First Name Grade  Enrolled?\n",
              "Student 1        1011       Andy   9th       True\n",
              "Student 2        1012     Isabel  10th      False"
            ]
          },
          "metadata": {},
          "execution_count": 74
        }
      ]
    },
    {
      "cell_type": "markdown",
      "metadata": {
        "id": "aIvzPaDAMvea"
      },
      "source": [
        "You can also create a dataframe using arrays. Since a particular array can only hold data of a single type, you can use it as a column for your dataframe."
      ]
    },
    {
      "cell_type": "code",
      "metadata": {
        "colab": {
          "base_uri": "https://localhost:8080/",
          "height": 108
        },
        "id": "tgEdjfTLOIu7",
        "outputId": "86c6ed56-1182-4fc1-e740-19ffab94be99"
      },
      "source": [
        "#Arrays of columns – each array is a column in your dataframe\n",
        "student_id = np.array([1011, 1012])\n",
        "names = np.array([\"Andy\", \"Isabel\"])\n",
        "grade = np.array([\"9th\", \"10th\"])\n",
        "enrolled = np.array([True, False])\n",
        "\n",
        "#Creating the dataframe\n",
        "student_df_2 = pd.DataFrame({\"Student ID\": student_id, \"First Name\": names, \"Grade\": grade, \"Enrolled?\": enrolled}, index = [\"Student 1\", \"Student 2\"])\n",
        "student_df_2"
      ],
      "execution_count": null,
      "outputs": [
        {
          "output_type": "execute_result",
          "data": {
            "text/html": [
              "<div>\n",
              "<style scoped>\n",
              "    .dataframe tbody tr th:only-of-type {\n",
              "        vertical-align: middle;\n",
              "    }\n",
              "\n",
              "    .dataframe tbody tr th {\n",
              "        vertical-align: top;\n",
              "    }\n",
              "\n",
              "    .dataframe thead th {\n",
              "        text-align: right;\n",
              "    }\n",
              "</style>\n",
              "<table border=\"1\" class=\"dataframe\">\n",
              "  <thead>\n",
              "    <tr style=\"text-align: right;\">\n",
              "      <th></th>\n",
              "      <th>Student ID</th>\n",
              "      <th>First Name</th>\n",
              "      <th>Grade</th>\n",
              "      <th>Enrolled?</th>\n",
              "    </tr>\n",
              "  </thead>\n",
              "  <tbody>\n",
              "    <tr>\n",
              "      <th>Student 1</th>\n",
              "      <td>1011</td>\n",
              "      <td>Andy</td>\n",
              "      <td>9th</td>\n",
              "      <td>True</td>\n",
              "    </tr>\n",
              "    <tr>\n",
              "      <th>Student 2</th>\n",
              "      <td>1012</td>\n",
              "      <td>Isabel</td>\n",
              "      <td>10th</td>\n",
              "      <td>False</td>\n",
              "    </tr>\n",
              "  </tbody>\n",
              "</table>\n",
              "</div>"
            ],
            "text/plain": [
              "           Student ID First Name Grade  Enrolled?\n",
              "Student 1        1011       Andy   9th       True\n",
              "Student 2        1012     Isabel  10th      False"
            ]
          },
          "metadata": {},
          "execution_count": 75
        }
      ]
    },
    {
      "cell_type": "markdown",
      "metadata": {
        "id": "cAYIyQs5Pwt7"
      },
      "source": [
        "You can also create series and pass them as columns in your dataframe. This process is similar to using arrays to create a dataframe. Note: don't specify the index in the pd.DataFrame function as your values won't be shown if you do. If you want to change the index, change it in the series."
      ]
    },
    {
      "cell_type": "code",
      "metadata": {
        "colab": {
          "base_uri": "https://localhost:8080/",
          "height": 108
        },
        "id": "9EqVhm3XQfy4",
        "outputId": "f6bd71f5-5ced-4c06-a5c0-d70931047bc2"
      },
      "source": [
        "#Series of columns – each series is a column in your dataframe\n",
        "student_id_series = pd.Series([1011, 1012])\n",
        "names_series = pd.Series([\"Andy\", \"Lana\"])\n",
        "grade_series = pd.Series([\"9th\", \"10th\"])\n",
        "enrolled_series = pd.Series([True, False])\n",
        "\n",
        "#Creating the dataframe\n",
        "student_df_3 = pd.DataFrame({\"Student ID\": student_id_series, \"First Name\": names_series, \"Grade\": grade_series, \"Enrolled?\": enrolled_series})\n",
        "student_df_3"
      ],
      "execution_count": null,
      "outputs": [
        {
          "output_type": "execute_result",
          "data": {
            "text/html": [
              "<div>\n",
              "<style scoped>\n",
              "    .dataframe tbody tr th:only-of-type {\n",
              "        vertical-align: middle;\n",
              "    }\n",
              "\n",
              "    .dataframe tbody tr th {\n",
              "        vertical-align: top;\n",
              "    }\n",
              "\n",
              "    .dataframe thead th {\n",
              "        text-align: right;\n",
              "    }\n",
              "</style>\n",
              "<table border=\"1\" class=\"dataframe\">\n",
              "  <thead>\n",
              "    <tr style=\"text-align: right;\">\n",
              "      <th></th>\n",
              "      <th>Student ID</th>\n",
              "      <th>First Name</th>\n",
              "      <th>Grade</th>\n",
              "      <th>Enrolled?</th>\n",
              "    </tr>\n",
              "  </thead>\n",
              "  <tbody>\n",
              "    <tr>\n",
              "      <th>0</th>\n",
              "      <td>1011</td>\n",
              "      <td>Andy</td>\n",
              "      <td>9th</td>\n",
              "      <td>True</td>\n",
              "    </tr>\n",
              "    <tr>\n",
              "      <th>1</th>\n",
              "      <td>1012</td>\n",
              "      <td>Lana</td>\n",
              "      <td>10th</td>\n",
              "      <td>False</td>\n",
              "    </tr>\n",
              "  </tbody>\n",
              "</table>\n",
              "</div>"
            ],
            "text/plain": [
              "   Student ID First Name Grade  Enrolled?\n",
              "0        1011       Andy   9th       True\n",
              "1        1012       Lana  10th      False"
            ]
          },
          "metadata": {},
          "execution_count": 37
        }
      ]
    },
    {
      "cell_type": "markdown",
      "metadata": {
        "id": "7Z7aV8QuSdlP"
      },
      "source": [
        "The final way to create a dataframe is using a dictionary. You don't have to specify column names when you use this method as your dictionary keys will be the column names."
      ]
    },
    {
      "cell_type": "code",
      "metadata": {
        "colab": {
          "base_uri": "https://localhost:8080/",
          "height": 108
        },
        "id": "4-8pC7m_Sk1P",
        "outputId": "b86dd24d-fc40-4ed0-c29d-7389d7c47181"
      },
      "source": [
        "student_dict = {\n",
        "    \"Student ID\": [1011, 1012],\n",
        "    \"First Name\": [\"Andy\", \"Lana\"],\n",
        "    \"Grade\": [\"9th\", \"10th\"],\n",
        "    \"Enrolled?\": [True, False]\n",
        "}\n",
        "\n",
        "student_df_4 = pd.DataFrame(student_dict, index = [\"Student 1\", \"Student 2\"])\n",
        "student_df_4"
      ],
      "execution_count": null,
      "outputs": [
        {
          "output_type": "execute_result",
          "data": {
            "text/html": [
              "<div>\n",
              "<style scoped>\n",
              "    .dataframe tbody tr th:only-of-type {\n",
              "        vertical-align: middle;\n",
              "    }\n",
              "\n",
              "    .dataframe tbody tr th {\n",
              "        vertical-align: top;\n",
              "    }\n",
              "\n",
              "    .dataframe thead th {\n",
              "        text-align: right;\n",
              "    }\n",
              "</style>\n",
              "<table border=\"1\" class=\"dataframe\">\n",
              "  <thead>\n",
              "    <tr style=\"text-align: right;\">\n",
              "      <th></th>\n",
              "      <th>Student ID</th>\n",
              "      <th>First Name</th>\n",
              "      <th>Grade</th>\n",
              "      <th>Enrolled?</th>\n",
              "    </tr>\n",
              "  </thead>\n",
              "  <tbody>\n",
              "    <tr>\n",
              "      <th>Student 1</th>\n",
              "      <td>1011</td>\n",
              "      <td>Andy</td>\n",
              "      <td>9th</td>\n",
              "      <td>True</td>\n",
              "    </tr>\n",
              "    <tr>\n",
              "      <th>Student 2</th>\n",
              "      <td>1012</td>\n",
              "      <td>Lana</td>\n",
              "      <td>10th</td>\n",
              "      <td>False</td>\n",
              "    </tr>\n",
              "  </tbody>\n",
              "</table>\n",
              "</div>"
            ],
            "text/plain": [
              "           Student ID First Name Grade  Enrolled?\n",
              "Student 1        1011       Andy   9th       True\n",
              "Student 2        1012       Lana  10th      False"
            ]
          },
          "metadata": {},
          "execution_count": 38
        }
      ]
    },
    {
      "cell_type": "markdown",
      "metadata": {
        "id": "u5gEFA5s1exs"
      },
      "source": [
        "**Question 6:** Issac decides that it's better to store this information as a dataframe. Convert the dictionary to a dataframe."
      ]
    },
    {
      "cell_type": "markdown",
      "metadata": {
        "id": "z32qPKwcNQPB"
      },
      "source": [
        "### **Data Cleaning**\n",
        "\n",
        "Generally, you cannot immediately start using a dataset right after you uploaded it to Python as there may be a lot of things that are wrong with it. Therefore, we have to first clean the dataset before we start using it.\n",
        "\n",
        "In our salaries dataset, we have to fix the following things:\n",
        "\n",
        "1. Converting the values in each column from strings to floats \n",
        "2. Removing NaN values\n",
        "\n",
        "**Converting Strings to Floats**\n",
        "\n",
        "If you check the data type of a value in one of the numeric columns, you will see that it is actually a string rather than a number."
      ]
    },
    {
      "cell_type": "code",
      "metadata": {
        "colab": {
          "base_uri": "https://localhost:8080/"
        },
        "id": "R4qEPF2PPOj6",
        "outputId": "c86318aa-a4fa-4d2d-f1ea-8f9b0c014e33"
      },
      "source": [
        "type(salary_df[\"starting_salary\"][0])"
      ],
      "execution_count": null,
      "outputs": [
        {
          "output_type": "execute_result",
          "data": {
            "text/plain": [
              "str"
            ]
          },
          "metadata": {},
          "execution_count": 36
        }
      ]
    },
    {
      "cell_type": "markdown",
      "metadata": {
        "id": "l-HDQtbwS2BJ"
      },
      "source": [
        "Note: `df[\"column_name\"]` allows you to select a column in your dataframe. You can then use indexing to select a particular value in this column."
      ]
    },
    {
      "cell_type": "markdown",
      "metadata": {
        "id": "W35wZUdvPcKZ"
      },
      "source": [
        "This means that we cannot perform mathematical operations on our data (such as taking the mean). Hence, we have to convert the values to numbers.\n",
        "\n",
        "To do this, we first want to remove any symbols (such as commas and dollar signs) using the .replace() function then convert the string to float using the float() function. Since we have to do this repeatedly on multiple values, we can define a function to make things easier."
      ]
    },
    {
      "cell_type": "code",
      "metadata": {
        "colab": {
          "base_uri": "https://localhost:8080/",
          "height": 363
        },
        "id": "D_fSEMj-QE-q",
        "outputId": "83b9c263-3e75-470f-b30d-9cbd585f533f"
      },
      "source": [
        "#String conversion function\n",
        "def string_convert(string):\n",
        "  remove_comma = string.replace(\",\", \"\")\n",
        "  remove_dollar = remove_comma.replace(\"$\", \"\")\n",
        "  to_float = float(remove_dollar)\n",
        "  return to_float\n",
        "\n",
        "#Checking if our function works\n",
        "salary_df[\"starting_salary\"] = salary_df[\"starting_salary\"].apply(string_convert)\n",
        "type(salary_df[\"starting_salary\"][0])"
      ],
      "execution_count": null,
      "outputs": [
        {
          "output_type": "error",
          "ename": "AttributeError",
          "evalue": "ignored",
          "traceback": [
            "\u001b[0;31m---------------------------------------------------------------------------\u001b[0m",
            "\u001b[0;31mAttributeError\u001b[0m                            Traceback (most recent call last)",
            "\u001b[0;32m<ipython-input-38-c02456e8c61b>\u001b[0m in \u001b[0;36m<module>\u001b[0;34m\u001b[0m\n\u001b[1;32m      7\u001b[0m \u001b[0;34m\u001b[0m\u001b[0m\n\u001b[1;32m      8\u001b[0m \u001b[0;31m#Checking if our function works\u001b[0m\u001b[0;34m\u001b[0m\u001b[0;34m\u001b[0m\u001b[0;34m\u001b[0m\u001b[0m\n\u001b[0;32m----> 9\u001b[0;31m \u001b[0msalary_df\u001b[0m\u001b[0;34m[\u001b[0m\u001b[0;34m\"starting_salary\"\u001b[0m\u001b[0;34m]\u001b[0m \u001b[0;34m=\u001b[0m \u001b[0msalary_df\u001b[0m\u001b[0;34m[\u001b[0m\u001b[0;34m\"starting_salary\"\u001b[0m\u001b[0;34m]\u001b[0m\u001b[0;34m.\u001b[0m\u001b[0mapply\u001b[0m\u001b[0;34m(\u001b[0m\u001b[0mstring_convert\u001b[0m\u001b[0;34m)\u001b[0m\u001b[0;34m\u001b[0m\u001b[0;34m\u001b[0m\u001b[0m\n\u001b[0m\u001b[1;32m     10\u001b[0m \u001b[0mtype\u001b[0m\u001b[0;34m(\u001b[0m\u001b[0msalary_df\u001b[0m\u001b[0;34m[\u001b[0m\u001b[0;34m\"starting_salary\"\u001b[0m\u001b[0;34m]\u001b[0m\u001b[0;34m[\u001b[0m\u001b[0;36m0\u001b[0m\u001b[0;34m]\u001b[0m\u001b[0;34m)\u001b[0m\u001b[0;34m\u001b[0m\u001b[0;34m\u001b[0m\u001b[0m\n",
            "\u001b[0;32m/usr/local/lib/python3.7/dist-packages/pandas/core/series.py\u001b[0m in \u001b[0;36mapply\u001b[0;34m(self, func, convert_dtype, args, **kwargs)\u001b[0m\n\u001b[1;32m   4355\u001b[0m         \u001b[0mdtype\u001b[0m\u001b[0;34m:\u001b[0m \u001b[0mfloat64\u001b[0m\u001b[0;34m\u001b[0m\u001b[0;34m\u001b[0m\u001b[0m\n\u001b[1;32m   4356\u001b[0m         \"\"\"\n\u001b[0;32m-> 4357\u001b[0;31m         \u001b[0;32mreturn\u001b[0m \u001b[0mSeriesApply\u001b[0m\u001b[0;34m(\u001b[0m\u001b[0mself\u001b[0m\u001b[0;34m,\u001b[0m \u001b[0mfunc\u001b[0m\u001b[0;34m,\u001b[0m \u001b[0mconvert_dtype\u001b[0m\u001b[0;34m,\u001b[0m \u001b[0margs\u001b[0m\u001b[0;34m,\u001b[0m \u001b[0mkwargs\u001b[0m\u001b[0;34m)\u001b[0m\u001b[0;34m.\u001b[0m\u001b[0mapply\u001b[0m\u001b[0;34m(\u001b[0m\u001b[0;34m)\u001b[0m\u001b[0;34m\u001b[0m\u001b[0;34m\u001b[0m\u001b[0m\n\u001b[0m\u001b[1;32m   4358\u001b[0m \u001b[0;34m\u001b[0m\u001b[0m\n\u001b[1;32m   4359\u001b[0m     def _reduce(\n",
            "\u001b[0;32m/usr/local/lib/python3.7/dist-packages/pandas/core/apply.py\u001b[0m in \u001b[0;36mapply\u001b[0;34m(self)\u001b[0m\n\u001b[1;32m   1041\u001b[0m             \u001b[0;32mreturn\u001b[0m \u001b[0mself\u001b[0m\u001b[0;34m.\u001b[0m\u001b[0mapply_str\u001b[0m\u001b[0;34m(\u001b[0m\u001b[0;34m)\u001b[0m\u001b[0;34m\u001b[0m\u001b[0;34m\u001b[0m\u001b[0m\n\u001b[1;32m   1042\u001b[0m \u001b[0;34m\u001b[0m\u001b[0m\n\u001b[0;32m-> 1043\u001b[0;31m         \u001b[0;32mreturn\u001b[0m \u001b[0mself\u001b[0m\u001b[0;34m.\u001b[0m\u001b[0mapply_standard\u001b[0m\u001b[0;34m(\u001b[0m\u001b[0;34m)\u001b[0m\u001b[0;34m\u001b[0m\u001b[0;34m\u001b[0m\u001b[0m\n\u001b[0m\u001b[1;32m   1044\u001b[0m \u001b[0;34m\u001b[0m\u001b[0m\n\u001b[1;32m   1045\u001b[0m     \u001b[0;32mdef\u001b[0m \u001b[0magg\u001b[0m\u001b[0;34m(\u001b[0m\u001b[0mself\u001b[0m\u001b[0;34m)\u001b[0m\u001b[0;34m:\u001b[0m\u001b[0;34m\u001b[0m\u001b[0;34m\u001b[0m\u001b[0m\n",
            "\u001b[0;32m/usr/local/lib/python3.7/dist-packages/pandas/core/apply.py\u001b[0m in \u001b[0;36mapply_standard\u001b[0;34m(self)\u001b[0m\n\u001b[1;32m   1099\u001b[0m                     \u001b[0mvalues\u001b[0m\u001b[0;34m,\u001b[0m\u001b[0;34m\u001b[0m\u001b[0;34m\u001b[0m\u001b[0m\n\u001b[1;32m   1100\u001b[0m                     \u001b[0mf\u001b[0m\u001b[0;34m,\u001b[0m  \u001b[0;31m# type: ignore[arg-type]\u001b[0m\u001b[0;34m\u001b[0m\u001b[0;34m\u001b[0m\u001b[0m\n\u001b[0;32m-> 1101\u001b[0;31m                     \u001b[0mconvert\u001b[0m\u001b[0;34m=\u001b[0m\u001b[0mself\u001b[0m\u001b[0;34m.\u001b[0m\u001b[0mconvert_dtype\u001b[0m\u001b[0;34m,\u001b[0m\u001b[0;34m\u001b[0m\u001b[0;34m\u001b[0m\u001b[0m\n\u001b[0m\u001b[1;32m   1102\u001b[0m                 )\n\u001b[1;32m   1103\u001b[0m \u001b[0;34m\u001b[0m\u001b[0m\n",
            "\u001b[0;32m/usr/local/lib/python3.7/dist-packages/pandas/_libs/lib.pyx\u001b[0m in \u001b[0;36mpandas._libs.lib.map_infer\u001b[0;34m()\u001b[0m\n",
            "\u001b[0;32m<ipython-input-38-c02456e8c61b>\u001b[0m in \u001b[0;36mstring_convert\u001b[0;34m(string)\u001b[0m\n\u001b[1;32m      1\u001b[0m \u001b[0;31m#String conversion function\u001b[0m\u001b[0;34m\u001b[0m\u001b[0;34m\u001b[0m\u001b[0;34m\u001b[0m\u001b[0m\n\u001b[1;32m      2\u001b[0m \u001b[0;32mdef\u001b[0m \u001b[0mstring_convert\u001b[0m\u001b[0;34m(\u001b[0m\u001b[0mstring\u001b[0m\u001b[0;34m)\u001b[0m\u001b[0;34m:\u001b[0m\u001b[0;34m\u001b[0m\u001b[0;34m\u001b[0m\u001b[0m\n\u001b[0;32m----> 3\u001b[0;31m   \u001b[0mremove_comma\u001b[0m \u001b[0;34m=\u001b[0m \u001b[0mstring\u001b[0m\u001b[0;34m.\u001b[0m\u001b[0mreplace\u001b[0m\u001b[0;34m(\u001b[0m\u001b[0;34m\",\"\u001b[0m\u001b[0;34m,\u001b[0m \u001b[0;34m\"\"\u001b[0m\u001b[0;34m)\u001b[0m\u001b[0;34m\u001b[0m\u001b[0;34m\u001b[0m\u001b[0m\n\u001b[0m\u001b[1;32m      4\u001b[0m   \u001b[0mremove_dollar\u001b[0m \u001b[0;34m=\u001b[0m \u001b[0mremove_comma\u001b[0m\u001b[0;34m.\u001b[0m\u001b[0mreplace\u001b[0m\u001b[0;34m(\u001b[0m\u001b[0;34m\"$\"\u001b[0m\u001b[0;34m,\u001b[0m \u001b[0;34m\"\"\u001b[0m\u001b[0;34m)\u001b[0m\u001b[0;34m\u001b[0m\u001b[0;34m\u001b[0m\u001b[0m\n\u001b[1;32m      5\u001b[0m   \u001b[0mto_float\u001b[0m \u001b[0;34m=\u001b[0m \u001b[0mfloat\u001b[0m\u001b[0;34m(\u001b[0m\u001b[0mremove_dollar\u001b[0m\u001b[0;34m)\u001b[0m\u001b[0;34m\u001b[0m\u001b[0;34m\u001b[0m\u001b[0m\n",
            "\u001b[0;31mAttributeError\u001b[0m: 'float' object has no attribute 'replace'"
          ]
        }
      ]
    },
    {
      "cell_type": "markdown",
      "metadata": {
        "id": "OsdGxl44RfNd"
      },
      "source": [
        "We have successfully converted the strings in the starting_salary column to numbers! Let's do the asme for all the other columns."
      ]
    },
    {
      "cell_type": "code",
      "metadata": {
        "colab": {
          "base_uri": "https://localhost:8080/"
        },
        "id": "f_CMsJWkRsxM",
        "outputId": "640fe695-b6d0-4b2c-a015-07c177c69088"
      },
      "source": [
        "#Finding all the columns in the dataset\n",
        "salary_df.columns"
      ],
      "execution_count": null,
      "outputs": [
        {
          "output_type": "execute_result",
          "data": {
            "text/plain": [
              "Index(['undergrad_major', 'starting_salary', 'midcareer_salary',\n",
              "       'percent_change_starting', 'midcareer_tenth_percentile',\n",
              "       'midcareer_twentyfifth_percentile', 'midcareer_seventyfifth_percentile',\n",
              "       'midcareer_nintieth_percentile', 'Unnamed: 8'],\n",
              "      dtype='object')"
            ]
          },
          "metadata": {},
          "execution_count": 39
        }
      ]
    },
    {
      "cell_type": "code",
      "metadata": {
        "id": "bgHUCx2eR6av"
      },
      "source": [
        "salary_df[\"midcareer_salary\"] = salary_df[\"midcareer_salary\"].apply(string_convert)\n",
        "salary_df[\"percent_change_starting\"] = salary_df[\"percent_change_starting\"].apply(string_convert)\n",
        "salary_df[\"midcareer_tenth_percentile\"] = salary_df[\"midcareer_tenth_percentile\"].apply(string_convert)\n",
        "salary_df[\"midcareer_twentyfifth_percentile\"] = salary_df[\"midcareer_twentyfifth_percentile\"].apply(string_convert)\n",
        "salary_df[\"midcareer_seventyfifth_percentile\"] = salary_df[\"midcareer_seventyfifth_percentile\"].apply(string_convert)\n",
        "salary_df[\"midcareer_nintieth_percentile\"] = salary_df[\"midcareer_nintieth_percentile\"].apply(string_convert)"
      ],
      "execution_count": null,
      "outputs": []
    },
    {
      "cell_type": "markdown",
      "metadata": {
        "id": "lLGkqjfrSnQl"
      },
      "source": [
        "Note: we have to specify `salary_df[\"column_name\"] = salary_df[\"column_name\"].apply(string_convert)` to make sure that the changes we made are saved and reflectd in our dataframe. Otherwise, the conversion from string to float will not be shown in the dataframe.\n",
        "\n",
        "We're done with the first part of our data cleaning!\n",
        "\n",
        "**Removing NaN Values**\n",
        "\n",
        "You can drop all the NaN values in your dataset using the .dropna() function. However, we will be removing the last column, which only contains NaN values, rather than just dropping NaN values. To remove a column in a dataframe, we use the .drop() function."
      ]
    },
    {
      "cell_type": "code",
      "metadata": {
        "colab": {
          "base_uri": "https://localhost:8080/",
          "height": 273
        },
        "id": "O10n3oAwT6dV",
        "outputId": "ae8b7ba6-f856-4822-c724-608f2d00f430"
      },
      "source": [
        "salary_df.head(4)"
      ],
      "execution_count": null,
      "outputs": [
        {
          "output_type": "execute_result",
          "data": {
            "text/plain": [
              "          undergrad_major  starting_salary  midcareer_salary  \\\n",
              "0             Accounting           46000.0           77100.0   \n",
              "1  Aerospace Engineering           57700.0          101000.0   \n",
              "2            Agriculture           42600.0           71900.0   \n",
              "3           Anthropology           36800.0           61500.0   \n",
              "\n",
              "   percent_change_starting  midcareer_tenth_percentile  \\\n",
              "0                     67.6                     42200.0   \n",
              "1                     75.0                     64300.0   \n",
              "2                     68.8                     36300.0   \n",
              "3                     67.1                     33800.0   \n",
              "\n",
              "   midcareer_twentyfifth_percentile  midcareer_seventyfifth_percentile  \\\n",
              "0                           56100.0                           108000.0   \n",
              "1                           82100.0                           127000.0   \n",
              "2                           52100.0                            96300.0   \n",
              "3                           45500.0                            89300.0   \n",
              "\n",
              "   midcareer_nintieth_percentile  Unnamed: 8  \n",
              "0                       152000.0         NaN  \n",
              "1                       161000.0         NaN  \n",
              "2                       150000.0         NaN  \n",
              "3                       138000.0         NaN  "
            ],
            "text/html": [
              "\n",
              "  <div id=\"df-3bf21315-bbce-4583-bc06-a3107494a3ec\">\n",
              "    <div class=\"colab-df-container\">\n",
              "      <div>\n",
              "<style scoped>\n",
              "    .dataframe tbody tr th:only-of-type {\n",
              "        vertical-align: middle;\n",
              "    }\n",
              "\n",
              "    .dataframe tbody tr th {\n",
              "        vertical-align: top;\n",
              "    }\n",
              "\n",
              "    .dataframe thead th {\n",
              "        text-align: right;\n",
              "    }\n",
              "</style>\n",
              "<table border=\"1\" class=\"dataframe\">\n",
              "  <thead>\n",
              "    <tr style=\"text-align: right;\">\n",
              "      <th></th>\n",
              "      <th>undergrad_major</th>\n",
              "      <th>starting_salary</th>\n",
              "      <th>midcareer_salary</th>\n",
              "      <th>percent_change_starting</th>\n",
              "      <th>midcareer_tenth_percentile</th>\n",
              "      <th>midcareer_twentyfifth_percentile</th>\n",
              "      <th>midcareer_seventyfifth_percentile</th>\n",
              "      <th>midcareer_nintieth_percentile</th>\n",
              "      <th>Unnamed: 8</th>\n",
              "    </tr>\n",
              "  </thead>\n",
              "  <tbody>\n",
              "    <tr>\n",
              "      <th>0</th>\n",
              "      <td>Accounting</td>\n",
              "      <td>46000.0</td>\n",
              "      <td>77100.0</td>\n",
              "      <td>67.6</td>\n",
              "      <td>42200.0</td>\n",
              "      <td>56100.0</td>\n",
              "      <td>108000.0</td>\n",
              "      <td>152000.0</td>\n",
              "      <td>NaN</td>\n",
              "    </tr>\n",
              "    <tr>\n",
              "      <th>1</th>\n",
              "      <td>Aerospace Engineering</td>\n",
              "      <td>57700.0</td>\n",
              "      <td>101000.0</td>\n",
              "      <td>75.0</td>\n",
              "      <td>64300.0</td>\n",
              "      <td>82100.0</td>\n",
              "      <td>127000.0</td>\n",
              "      <td>161000.0</td>\n",
              "      <td>NaN</td>\n",
              "    </tr>\n",
              "    <tr>\n",
              "      <th>2</th>\n",
              "      <td>Agriculture</td>\n",
              "      <td>42600.0</td>\n",
              "      <td>71900.0</td>\n",
              "      <td>68.8</td>\n",
              "      <td>36300.0</td>\n",
              "      <td>52100.0</td>\n",
              "      <td>96300.0</td>\n",
              "      <td>150000.0</td>\n",
              "      <td>NaN</td>\n",
              "    </tr>\n",
              "    <tr>\n",
              "      <th>3</th>\n",
              "      <td>Anthropology</td>\n",
              "      <td>36800.0</td>\n",
              "      <td>61500.0</td>\n",
              "      <td>67.1</td>\n",
              "      <td>33800.0</td>\n",
              "      <td>45500.0</td>\n",
              "      <td>89300.0</td>\n",
              "      <td>138000.0</td>\n",
              "      <td>NaN</td>\n",
              "    </tr>\n",
              "  </tbody>\n",
              "</table>\n",
              "</div>\n",
              "      <button class=\"colab-df-convert\" onclick=\"convertToInteractive('df-3bf21315-bbce-4583-bc06-a3107494a3ec')\"\n",
              "              title=\"Convert this dataframe to an interactive table.\"\n",
              "              style=\"display:none;\">\n",
              "        \n",
              "  <svg xmlns=\"http://www.w3.org/2000/svg\" height=\"24px\"viewBox=\"0 0 24 24\"\n",
              "       width=\"24px\">\n",
              "    <path d=\"M0 0h24v24H0V0z\" fill=\"none\"/>\n",
              "    <path d=\"M18.56 5.44l.94 2.06.94-2.06 2.06-.94-2.06-.94-.94-2.06-.94 2.06-2.06.94zm-11 1L8.5 8.5l.94-2.06 2.06-.94-2.06-.94L8.5 2.5l-.94 2.06-2.06.94zm10 10l.94 2.06.94-2.06 2.06-.94-2.06-.94-.94-2.06-.94 2.06-2.06.94z\"/><path d=\"M17.41 7.96l-1.37-1.37c-.4-.4-.92-.59-1.43-.59-.52 0-1.04.2-1.43.59L10.3 9.45l-7.72 7.72c-.78.78-.78 2.05 0 2.83L4 21.41c.39.39.9.59 1.41.59.51 0 1.02-.2 1.41-.59l7.78-7.78 2.81-2.81c.8-.78.8-2.07 0-2.86zM5.41 20L4 18.59l7.72-7.72 1.47 1.35L5.41 20z\"/>\n",
              "  </svg>\n",
              "      </button>\n",
              "      \n",
              "  <style>\n",
              "    .colab-df-container {\n",
              "      display:flex;\n",
              "      flex-wrap:wrap;\n",
              "      gap: 12px;\n",
              "    }\n",
              "\n",
              "    .colab-df-convert {\n",
              "      background-color: #E8F0FE;\n",
              "      border: none;\n",
              "      border-radius: 50%;\n",
              "      cursor: pointer;\n",
              "      display: none;\n",
              "      fill: #1967D2;\n",
              "      height: 32px;\n",
              "      padding: 0 0 0 0;\n",
              "      width: 32px;\n",
              "    }\n",
              "\n",
              "    .colab-df-convert:hover {\n",
              "      background-color: #E2EBFA;\n",
              "      box-shadow: 0px 1px 2px rgba(60, 64, 67, 0.3), 0px 1px 3px 1px rgba(60, 64, 67, 0.15);\n",
              "      fill: #174EA6;\n",
              "    }\n",
              "\n",
              "    [theme=dark] .colab-df-convert {\n",
              "      background-color: #3B4455;\n",
              "      fill: #D2E3FC;\n",
              "    }\n",
              "\n",
              "    [theme=dark] .colab-df-convert:hover {\n",
              "      background-color: #434B5C;\n",
              "      box-shadow: 0px 1px 3px 1px rgba(0, 0, 0, 0.15);\n",
              "      filter: drop-shadow(0px 1px 2px rgba(0, 0, 0, 0.3));\n",
              "      fill: #FFFFFF;\n",
              "    }\n",
              "  </style>\n",
              "\n",
              "      <script>\n",
              "        const buttonEl =\n",
              "          document.querySelector('#df-3bf21315-bbce-4583-bc06-a3107494a3ec button.colab-df-convert');\n",
              "        buttonEl.style.display =\n",
              "          google.colab.kernel.accessAllowed ? 'block' : 'none';\n",
              "\n",
              "        async function convertToInteractive(key) {\n",
              "          const element = document.querySelector('#df-3bf21315-bbce-4583-bc06-a3107494a3ec');\n",
              "          const dataTable =\n",
              "            await google.colab.kernel.invokeFunction('convertToInteractive',\n",
              "                                                     [key], {});\n",
              "          if (!dataTable) return;\n",
              "\n",
              "          const docLinkHtml = 'Like what you see? Visit the ' +\n",
              "            '<a target=\"_blank\" href=https://colab.research.google.com/notebooks/data_table.ipynb>data table notebook</a>'\n",
              "            + ' to learn more about interactive tables.';\n",
              "          element.innerHTML = '';\n",
              "          dataTable['output_type'] = 'display_data';\n",
              "          await google.colab.output.renderOutput(dataTable, element);\n",
              "          const docLink = document.createElement('div');\n",
              "          docLink.innerHTML = docLinkHtml;\n",
              "          element.appendChild(docLink);\n",
              "        }\n",
              "      </script>\n",
              "    </div>\n",
              "  </div>\n",
              "  "
            ]
          },
          "metadata": {},
          "execution_count": 41
        }
      ]
    },
    {
      "cell_type": "code",
      "metadata": {
        "colab": {
          "base_uri": "https://localhost:8080/"
        },
        "id": "Gwogqp_3TnSG",
        "outputId": "9716f0f0-934a-4769-db76-5ef6d6faa012"
      },
      "source": [
        "salary_df = salary_df.drop(columns = [\"Unnamed: 8\"])\n",
        "salary_df.columns"
      ],
      "execution_count": null,
      "outputs": [
        {
          "output_type": "execute_result",
          "data": {
            "text/plain": [
              "Index(['undergrad_major', 'starting_salary', 'midcareer_salary',\n",
              "       'percent_change_starting', 'midcareer_tenth_percentile',\n",
              "       'midcareer_twentyfifth_percentile', 'midcareer_seventyfifth_percentile',\n",
              "       'midcareer_nintieth_percentile'],\n",
              "      dtype='object')"
            ]
          },
          "metadata": {},
          "execution_count": 42
        }
      ]
    },
    {
      "cell_type": "markdown",
      "metadata": {
        "id": "PVMuwHVkTWOF"
      },
      "source": [
        "### **Dataframe Functions**\n",
        "\n",
        "There are a ton of important dataframe functions but in this section, we'll just talk about a few important ones. \n",
        "\n",
        "**Summary Functions**\n",
        "\n",
        "First, we'll be talking about the functions we can use for extracting information from our dataset. \n",
        "\n",
        "- df.info() - This function gives you a summary of your dataset, including the column names, data types, etc. \n",
        "- df.shape - This gives you the dimensions of your dataframe in this format: (rows, columns).\n",
        "- df.columns - This gives you the names of the columns in your dataset in the order in which they appear.\n",
        "\n",
        "Let's apply these functions on the salary dataset."
      ]
    },
    {
      "cell_type": "code",
      "metadata": {
        "colab": {
          "base_uri": "https://localhost:8080/"
        },
        "id": "Rwn6yYmmVMvp",
        "outputId": "3152e493-b3ab-4d14-cdd9-a4c9f70455ba"
      },
      "source": [
        "salary_df.info()"
      ],
      "execution_count": null,
      "outputs": [
        {
          "output_type": "stream",
          "name": "stdout",
          "text": [
            "<class 'pandas.core.frame.DataFrame'>\n",
            "RangeIndex: 50 entries, 0 to 49\n",
            "Data columns (total 8 columns):\n",
            " #   Column                             Non-Null Count  Dtype  \n",
            "---  ------                             --------------  -----  \n",
            " 0   undergrad_major                    50 non-null     object \n",
            " 1   starting_salary                    50 non-null     float64\n",
            " 2   midcareer_salary                   50 non-null     float64\n",
            " 3   percent_change_starting            50 non-null     float64\n",
            " 4   midcareer_tenth_percentile         50 non-null     float64\n",
            " 5   midcareer_twentyfifth_percentile   50 non-null     float64\n",
            " 6   midcareer_seventyfifth_percentile  50 non-null     float64\n",
            " 7   midcareer_nintieth_percentile      50 non-null     float64\n",
            "dtypes: float64(7), object(1)\n",
            "memory usage: 3.2+ KB\n"
          ]
        }
      ]
    },
    {
      "cell_type": "code",
      "metadata": {
        "colab": {
          "base_uri": "https://localhost:8080/"
        },
        "id": "9diLBSFgVXfL",
        "outputId": "97849f39-3c21-418c-bcc4-cfad8a3ea079"
      },
      "source": [
        "salary_df.shape"
      ],
      "execution_count": null,
      "outputs": [
        {
          "output_type": "execute_result",
          "data": {
            "text/plain": [
              "(50, 8)"
            ]
          },
          "metadata": {},
          "execution_count": 44
        }
      ]
    },
    {
      "cell_type": "code",
      "metadata": {
        "colab": {
          "base_uri": "https://localhost:8080/"
        },
        "id": "60acN_c-Vg9K",
        "outputId": "f84862fb-f790-4230-f0c0-3b494735ad0c"
      },
      "source": [
        "salary_df.columns"
      ],
      "execution_count": null,
      "outputs": [
        {
          "output_type": "execute_result",
          "data": {
            "text/plain": [
              "Index(['undergrad_major', 'starting_salary', 'midcareer_salary',\n",
              "       'percent_change_starting', 'midcareer_tenth_percentile',\n",
              "       'midcareer_twentyfifth_percentile', 'midcareer_seventyfifth_percentile',\n",
              "       'midcareer_nintieth_percentile'],\n",
              "      dtype='object')"
            ]
          },
          "metadata": {},
          "execution_count": 45
        }
      ]
    },
    {
      "cell_type": "markdown",
      "metadata": {
        "id": "G28AzTdbVjY8"
      },
      "source": [
        "**Other Functions**\n",
        "\n",
        "Here, we'll be talking about other important dataframe functions that you'll likely use for your project.\n",
        "\n",
        "- df.describe() - This gives you a statistical summary of the numerical columns (that is, columns whose data type is integer or float) in your dataset. For each of the numerical columns, you will get mean, standard deviation, etc. \n",
        "\n",
        "- df.groupby() - This function allows you to group yoru data into different categories and perform operations on those categories.\n",
        "\n",
        "- df.sort_values() - This is used for sorting columns in ascending or descending order."
      ]
    },
    {
      "cell_type": "code",
      "metadata": {
        "colab": {
          "base_uri": "https://localhost:8080/",
          "height": 290
        },
        "id": "QrTcYWPBXBTV",
        "outputId": "38134945-c70d-4d72-9294-6c5b5b29e4ca"
      },
      "source": [
        "salary_df.describe()"
      ],
      "execution_count": null,
      "outputs": [
        {
          "output_type": "execute_result",
          "data": {
            "text/html": [
              "<div>\n",
              "<style scoped>\n",
              "    .dataframe tbody tr th:only-of-type {\n",
              "        vertical-align: middle;\n",
              "    }\n",
              "\n",
              "    .dataframe tbody tr th {\n",
              "        vertical-align: top;\n",
              "    }\n",
              "\n",
              "    .dataframe thead th {\n",
              "        text-align: right;\n",
              "    }\n",
              "</style>\n",
              "<table border=\"1\" class=\"dataframe\">\n",
              "  <thead>\n",
              "    <tr style=\"text-align: right;\">\n",
              "      <th></th>\n",
              "      <th>starting_salary</th>\n",
              "      <th>midcareer_salary</th>\n",
              "      <th>percent_change_starting</th>\n",
              "      <th>midcareer_tenth_percentile</th>\n",
              "      <th>midcareer_twentyfifth_percentile</th>\n",
              "      <th>midcareer_seventyfifth_percentile</th>\n",
              "      <th>midcareer_nintieth_percentile</th>\n",
              "    </tr>\n",
              "  </thead>\n",
              "  <tbody>\n",
              "    <tr>\n",
              "      <th>count</th>\n",
              "      <td>50.000000</td>\n",
              "      <td>50.00000</td>\n",
              "      <td>50.000000</td>\n",
              "      <td>50.000000</td>\n",
              "      <td>50.000000</td>\n",
              "      <td>50.000000</td>\n",
              "      <td>50.000000</td>\n",
              "    </tr>\n",
              "    <tr>\n",
              "      <th>mean</th>\n",
              "      <td>44310.000000</td>\n",
              "      <td>74786.00000</td>\n",
              "      <td>69.274000</td>\n",
              "      <td>43408.000000</td>\n",
              "      <td>55988.000000</td>\n",
              "      <td>102138.000000</td>\n",
              "      <td>142766.000000</td>\n",
              "    </tr>\n",
              "    <tr>\n",
              "      <th>std</th>\n",
              "      <td>9360.866217</td>\n",
              "      <td>16088.40386</td>\n",
              "      <td>17.909908</td>\n",
              "      <td>12000.779567</td>\n",
              "      <td>13936.951911</td>\n",
              "      <td>20636.789914</td>\n",
              "      <td>27851.249267</td>\n",
              "    </tr>\n",
              "    <tr>\n",
              "      <th>min</th>\n",
              "      <td>34000.000000</td>\n",
              "      <td>52000.00000</td>\n",
              "      <td>23.400000</td>\n",
              "      <td>26700.000000</td>\n",
              "      <td>36500.000000</td>\n",
              "      <td>70500.000000</td>\n",
              "      <td>96400.000000</td>\n",
              "    </tr>\n",
              "    <tr>\n",
              "      <th>25%</th>\n",
              "      <td>37050.000000</td>\n",
              "      <td>60825.00000</td>\n",
              "      <td>59.125000</td>\n",
              "      <td>34825.000000</td>\n",
              "      <td>44975.000000</td>\n",
              "      <td>83275.000000</td>\n",
              "      <td>124250.000000</td>\n",
              "    </tr>\n",
              "    <tr>\n",
              "      <th>50%</th>\n",
              "      <td>40850.000000</td>\n",
              "      <td>72000.00000</td>\n",
              "      <td>67.800000</td>\n",
              "      <td>39400.000000</td>\n",
              "      <td>52450.000000</td>\n",
              "      <td>99400.000000</td>\n",
              "      <td>145500.000000</td>\n",
              "    </tr>\n",
              "    <tr>\n",
              "      <th>75%</th>\n",
              "      <td>49875.000000</td>\n",
              "      <td>88750.00000</td>\n",
              "      <td>82.425000</td>\n",
              "      <td>49850.000000</td>\n",
              "      <td>63700.000000</td>\n",
              "      <td>118750.000000</td>\n",
              "      <td>161750.000000</td>\n",
              "    </tr>\n",
              "    <tr>\n",
              "      <th>max</th>\n",
              "      <td>74300.000000</td>\n",
              "      <td>107000.00000</td>\n",
              "      <td>103.500000</td>\n",
              "      <td>71900.000000</td>\n",
              "      <td>87300.000000</td>\n",
              "      <td>145000.000000</td>\n",
              "      <td>210000.000000</td>\n",
              "    </tr>\n",
              "  </tbody>\n",
              "</table>\n",
              "</div>"
            ],
            "text/plain": [
              "       starting_salary  ...  midcareer_nintieth_percentile\n",
              "count        50.000000  ...                      50.000000\n",
              "mean      44310.000000  ...                  142766.000000\n",
              "std        9360.866217  ...                   27851.249267\n",
              "min       34000.000000  ...                   96400.000000\n",
              "25%       37050.000000  ...                  124250.000000\n",
              "50%       40850.000000  ...                  145500.000000\n",
              "75%       49875.000000  ...                  161750.000000\n",
              "max       74300.000000  ...                  210000.000000\n",
              "\n",
              "[8 rows x 7 columns]"
            ]
          },
          "metadata": {},
          "execution_count": 48
        }
      ]
    },
    {
      "cell_type": "markdown",
      "metadata": {
        "id": "-gl5dAXdWcoK"
      },
      "source": [
        "We can't use the groupby() function on the `salary_df` dataframe as the majors column already has only unique values. So, we can load a new dataset."
      ]
    },
    {
      "cell_type": "code",
      "metadata": {
        "colab": {
          "base_uri": "https://localhost:8080/",
          "height": 206
        },
        "id": "TY4zb2cuWLzR",
        "outputId": "50ebb024-0587-470a-b66d-08b37ec5350c"
      },
      "source": [
        "import seaborn as sns\n",
        "df = sns.load_dataset('iris')\n",
        "df.head(5)"
      ],
      "execution_count": null,
      "outputs": [
        {
          "output_type": "execute_result",
          "data": {
            "text/plain": [
              "   sepal_length  sepal_width  petal_length  petal_width species\n",
              "0           5.1          3.5           1.4          0.2  setosa\n",
              "1           4.9          3.0           1.4          0.2  setosa\n",
              "2           4.7          3.2           1.3          0.2  setosa\n",
              "3           4.6          3.1           1.5          0.2  setosa\n",
              "4           5.0          3.6           1.4          0.2  setosa"
            ],
            "text/html": [
              "\n",
              "  <div id=\"df-b515a067-8cc7-4563-9d10-bf8ce8816256\">\n",
              "    <div class=\"colab-df-container\">\n",
              "      <div>\n",
              "<style scoped>\n",
              "    .dataframe tbody tr th:only-of-type {\n",
              "        vertical-align: middle;\n",
              "    }\n",
              "\n",
              "    .dataframe tbody tr th {\n",
              "        vertical-align: top;\n",
              "    }\n",
              "\n",
              "    .dataframe thead th {\n",
              "        text-align: right;\n",
              "    }\n",
              "</style>\n",
              "<table border=\"1\" class=\"dataframe\">\n",
              "  <thead>\n",
              "    <tr style=\"text-align: right;\">\n",
              "      <th></th>\n",
              "      <th>sepal_length</th>\n",
              "      <th>sepal_width</th>\n",
              "      <th>petal_length</th>\n",
              "      <th>petal_width</th>\n",
              "      <th>species</th>\n",
              "    </tr>\n",
              "  </thead>\n",
              "  <tbody>\n",
              "    <tr>\n",
              "      <th>0</th>\n",
              "      <td>5.1</td>\n",
              "      <td>3.5</td>\n",
              "      <td>1.4</td>\n",
              "      <td>0.2</td>\n",
              "      <td>setosa</td>\n",
              "    </tr>\n",
              "    <tr>\n",
              "      <th>1</th>\n",
              "      <td>4.9</td>\n",
              "      <td>3.0</td>\n",
              "      <td>1.4</td>\n",
              "      <td>0.2</td>\n",
              "      <td>setosa</td>\n",
              "    </tr>\n",
              "    <tr>\n",
              "      <th>2</th>\n",
              "      <td>4.7</td>\n",
              "      <td>3.2</td>\n",
              "      <td>1.3</td>\n",
              "      <td>0.2</td>\n",
              "      <td>setosa</td>\n",
              "    </tr>\n",
              "    <tr>\n",
              "      <th>3</th>\n",
              "      <td>4.6</td>\n",
              "      <td>3.1</td>\n",
              "      <td>1.5</td>\n",
              "      <td>0.2</td>\n",
              "      <td>setosa</td>\n",
              "    </tr>\n",
              "    <tr>\n",
              "      <th>4</th>\n",
              "      <td>5.0</td>\n",
              "      <td>3.6</td>\n",
              "      <td>1.4</td>\n",
              "      <td>0.2</td>\n",
              "      <td>setosa</td>\n",
              "    </tr>\n",
              "  </tbody>\n",
              "</table>\n",
              "</div>\n",
              "      <button class=\"colab-df-convert\" onclick=\"convertToInteractive('df-b515a067-8cc7-4563-9d10-bf8ce8816256')\"\n",
              "              title=\"Convert this dataframe to an interactive table.\"\n",
              "              style=\"display:none;\">\n",
              "        \n",
              "  <svg xmlns=\"http://www.w3.org/2000/svg\" height=\"24px\"viewBox=\"0 0 24 24\"\n",
              "       width=\"24px\">\n",
              "    <path d=\"M0 0h24v24H0V0z\" fill=\"none\"/>\n",
              "    <path d=\"M18.56 5.44l.94 2.06.94-2.06 2.06-.94-2.06-.94-.94-2.06-.94 2.06-2.06.94zm-11 1L8.5 8.5l.94-2.06 2.06-.94-2.06-.94L8.5 2.5l-.94 2.06-2.06.94zm10 10l.94 2.06.94-2.06 2.06-.94-2.06-.94-.94-2.06-.94 2.06-2.06.94z\"/><path d=\"M17.41 7.96l-1.37-1.37c-.4-.4-.92-.59-1.43-.59-.52 0-1.04.2-1.43.59L10.3 9.45l-7.72 7.72c-.78.78-.78 2.05 0 2.83L4 21.41c.39.39.9.59 1.41.59.51 0 1.02-.2 1.41-.59l7.78-7.78 2.81-2.81c.8-.78.8-2.07 0-2.86zM5.41 20L4 18.59l7.72-7.72 1.47 1.35L5.41 20z\"/>\n",
              "  </svg>\n",
              "      </button>\n",
              "      \n",
              "  <style>\n",
              "    .colab-df-container {\n",
              "      display:flex;\n",
              "      flex-wrap:wrap;\n",
              "      gap: 12px;\n",
              "    }\n",
              "\n",
              "    .colab-df-convert {\n",
              "      background-color: #E8F0FE;\n",
              "      border: none;\n",
              "      border-radius: 50%;\n",
              "      cursor: pointer;\n",
              "      display: none;\n",
              "      fill: #1967D2;\n",
              "      height: 32px;\n",
              "      padding: 0 0 0 0;\n",
              "      width: 32px;\n",
              "    }\n",
              "\n",
              "    .colab-df-convert:hover {\n",
              "      background-color: #E2EBFA;\n",
              "      box-shadow: 0px 1px 2px rgba(60, 64, 67, 0.3), 0px 1px 3px 1px rgba(60, 64, 67, 0.15);\n",
              "      fill: #174EA6;\n",
              "    }\n",
              "\n",
              "    [theme=dark] .colab-df-convert {\n",
              "      background-color: #3B4455;\n",
              "      fill: #D2E3FC;\n",
              "    }\n",
              "\n",
              "    [theme=dark] .colab-df-convert:hover {\n",
              "      background-color: #434B5C;\n",
              "      box-shadow: 0px 1px 3px 1px rgba(0, 0, 0, 0.15);\n",
              "      filter: drop-shadow(0px 1px 2px rgba(0, 0, 0, 0.3));\n",
              "      fill: #FFFFFF;\n",
              "    }\n",
              "  </style>\n",
              "\n",
              "      <script>\n",
              "        const buttonEl =\n",
              "          document.querySelector('#df-b515a067-8cc7-4563-9d10-bf8ce8816256 button.colab-df-convert');\n",
              "        buttonEl.style.display =\n",
              "          google.colab.kernel.accessAllowed ? 'block' : 'none';\n",
              "\n",
              "        async function convertToInteractive(key) {\n",
              "          const element = document.querySelector('#df-b515a067-8cc7-4563-9d10-bf8ce8816256');\n",
              "          const dataTable =\n",
              "            await google.colab.kernel.invokeFunction('convertToInteractive',\n",
              "                                                     [key], {});\n",
              "          if (!dataTable) return;\n",
              "\n",
              "          const docLinkHtml = 'Like what you see? Visit the ' +\n",
              "            '<a target=\"_blank\" href=https://colab.research.google.com/notebooks/data_table.ipynb>data table notebook</a>'\n",
              "            + ' to learn more about interactive tables.';\n",
              "          element.innerHTML = '';\n",
              "          dataTable['output_type'] = 'display_data';\n",
              "          await google.colab.output.renderOutput(dataTable, element);\n",
              "          const docLink = document.createElement('div');\n",
              "          docLink.innerHTML = docLinkHtml;\n",
              "          element.appendChild(docLink);\n",
              "        }\n",
              "      </script>\n",
              "    </div>\n",
              "  </div>\n",
              "  "
            ]
          },
          "metadata": {},
          "execution_count": 46
        }
      ]
    },
    {
      "cell_type": "code",
      "metadata": {
        "colab": {
          "base_uri": "https://localhost:8080/",
          "height": 175
        },
        "id": "5_OXJ25EW5HO",
        "outputId": "8b782773-ab60-440a-c70e-4e872522124b"
      },
      "source": [
        "#This gives the mean for each species.\n",
        "df.groupby(\"species\").mean()"
      ],
      "execution_count": null,
      "outputs": [
        {
          "output_type": "execute_result",
          "data": {
            "text/plain": [
              "            sepal_length  sepal_width  petal_length  petal_width\n",
              "species                                                         \n",
              "setosa             5.006        3.428         1.462        0.246\n",
              "versicolor         5.936        2.770         4.260        1.326\n",
              "virginica          6.588        2.974         5.552        2.026"
            ],
            "text/html": [
              "\n",
              "  <div id=\"df-fc207f3b-3f86-4618-88eb-70d8dd1350e3\">\n",
              "    <div class=\"colab-df-container\">\n",
              "      <div>\n",
              "<style scoped>\n",
              "    .dataframe tbody tr th:only-of-type {\n",
              "        vertical-align: middle;\n",
              "    }\n",
              "\n",
              "    .dataframe tbody tr th {\n",
              "        vertical-align: top;\n",
              "    }\n",
              "\n",
              "    .dataframe thead th {\n",
              "        text-align: right;\n",
              "    }\n",
              "</style>\n",
              "<table border=\"1\" class=\"dataframe\">\n",
              "  <thead>\n",
              "    <tr style=\"text-align: right;\">\n",
              "      <th></th>\n",
              "      <th>sepal_length</th>\n",
              "      <th>sepal_width</th>\n",
              "      <th>petal_length</th>\n",
              "      <th>petal_width</th>\n",
              "    </tr>\n",
              "    <tr>\n",
              "      <th>species</th>\n",
              "      <th></th>\n",
              "      <th></th>\n",
              "      <th></th>\n",
              "      <th></th>\n",
              "    </tr>\n",
              "  </thead>\n",
              "  <tbody>\n",
              "    <tr>\n",
              "      <th>setosa</th>\n",
              "      <td>5.006</td>\n",
              "      <td>3.428</td>\n",
              "      <td>1.462</td>\n",
              "      <td>0.246</td>\n",
              "    </tr>\n",
              "    <tr>\n",
              "      <th>versicolor</th>\n",
              "      <td>5.936</td>\n",
              "      <td>2.770</td>\n",
              "      <td>4.260</td>\n",
              "      <td>1.326</td>\n",
              "    </tr>\n",
              "    <tr>\n",
              "      <th>virginica</th>\n",
              "      <td>6.588</td>\n",
              "      <td>2.974</td>\n",
              "      <td>5.552</td>\n",
              "      <td>2.026</td>\n",
              "    </tr>\n",
              "  </tbody>\n",
              "</table>\n",
              "</div>\n",
              "      <button class=\"colab-df-convert\" onclick=\"convertToInteractive('df-fc207f3b-3f86-4618-88eb-70d8dd1350e3')\"\n",
              "              title=\"Convert this dataframe to an interactive table.\"\n",
              "              style=\"display:none;\">\n",
              "        \n",
              "  <svg xmlns=\"http://www.w3.org/2000/svg\" height=\"24px\"viewBox=\"0 0 24 24\"\n",
              "       width=\"24px\">\n",
              "    <path d=\"M0 0h24v24H0V0z\" fill=\"none\"/>\n",
              "    <path d=\"M18.56 5.44l.94 2.06.94-2.06 2.06-.94-2.06-.94-.94-2.06-.94 2.06-2.06.94zm-11 1L8.5 8.5l.94-2.06 2.06-.94-2.06-.94L8.5 2.5l-.94 2.06-2.06.94zm10 10l.94 2.06.94-2.06 2.06-.94-2.06-.94-.94-2.06-.94 2.06-2.06.94z\"/><path d=\"M17.41 7.96l-1.37-1.37c-.4-.4-.92-.59-1.43-.59-.52 0-1.04.2-1.43.59L10.3 9.45l-7.72 7.72c-.78.78-.78 2.05 0 2.83L4 21.41c.39.39.9.59 1.41.59.51 0 1.02-.2 1.41-.59l7.78-7.78 2.81-2.81c.8-.78.8-2.07 0-2.86zM5.41 20L4 18.59l7.72-7.72 1.47 1.35L5.41 20z\"/>\n",
              "  </svg>\n",
              "      </button>\n",
              "      \n",
              "  <style>\n",
              "    .colab-df-container {\n",
              "      display:flex;\n",
              "      flex-wrap:wrap;\n",
              "      gap: 12px;\n",
              "    }\n",
              "\n",
              "    .colab-df-convert {\n",
              "      background-color: #E8F0FE;\n",
              "      border: none;\n",
              "      border-radius: 50%;\n",
              "      cursor: pointer;\n",
              "      display: none;\n",
              "      fill: #1967D2;\n",
              "      height: 32px;\n",
              "      padding: 0 0 0 0;\n",
              "      width: 32px;\n",
              "    }\n",
              "\n",
              "    .colab-df-convert:hover {\n",
              "      background-color: #E2EBFA;\n",
              "      box-shadow: 0px 1px 2px rgba(60, 64, 67, 0.3), 0px 1px 3px 1px rgba(60, 64, 67, 0.15);\n",
              "      fill: #174EA6;\n",
              "    }\n",
              "\n",
              "    [theme=dark] .colab-df-convert {\n",
              "      background-color: #3B4455;\n",
              "      fill: #D2E3FC;\n",
              "    }\n",
              "\n",
              "    [theme=dark] .colab-df-convert:hover {\n",
              "      background-color: #434B5C;\n",
              "      box-shadow: 0px 1px 3px 1px rgba(0, 0, 0, 0.15);\n",
              "      filter: drop-shadow(0px 1px 2px rgba(0, 0, 0, 0.3));\n",
              "      fill: #FFFFFF;\n",
              "    }\n",
              "  </style>\n",
              "\n",
              "      <script>\n",
              "        const buttonEl =\n",
              "          document.querySelector('#df-fc207f3b-3f86-4618-88eb-70d8dd1350e3 button.colab-df-convert');\n",
              "        buttonEl.style.display =\n",
              "          google.colab.kernel.accessAllowed ? 'block' : 'none';\n",
              "\n",
              "        async function convertToInteractive(key) {\n",
              "          const element = document.querySelector('#df-fc207f3b-3f86-4618-88eb-70d8dd1350e3');\n",
              "          const dataTable =\n",
              "            await google.colab.kernel.invokeFunction('convertToInteractive',\n",
              "                                                     [key], {});\n",
              "          if (!dataTable) return;\n",
              "\n",
              "          const docLinkHtml = 'Like what you see? Visit the ' +\n",
              "            '<a target=\"_blank\" href=https://colab.research.google.com/notebooks/data_table.ipynb>data table notebook</a>'\n",
              "            + ' to learn more about interactive tables.';\n",
              "          element.innerHTML = '';\n",
              "          dataTable['output_type'] = 'display_data';\n",
              "          await google.colab.output.renderOutput(dataTable, element);\n",
              "          const docLink = document.createElement('div');\n",
              "          docLink.innerHTML = docLinkHtml;\n",
              "          element.appendChild(docLink);\n",
              "        }\n",
              "      </script>\n",
              "    </div>\n",
              "  </div>\n",
              "  "
            ]
          },
          "metadata": {},
          "execution_count": 47
        }
      ]
    },
    {
      "cell_type": "code",
      "metadata": {
        "colab": {
          "base_uri": "https://localhost:8080/",
          "height": 531
        },
        "id": "7ovBvgYMXzDL",
        "outputId": "39480efc-263d-45f4-be3c-d55b67719bed"
      },
      "source": [
        "#This sorts the entire dataset in descending order of midcareer salary.\n",
        "salary_df.sort_values(by = \"midcareer_salary\", ascending = False).head(10)"
      ],
      "execution_count": null,
      "outputs": [
        {
          "output_type": "execute_result",
          "data": {
            "text/plain": [
              "            undergrad_major  starting_salary  midcareer_salary  \\\n",
              "8     Chemical Engineering           63200.0          107000.0   \n",
              "12    Computer Engineering           61400.0          105000.0   \n",
              "19  Electrical Engineering           60900.0          103000.0   \n",
              "1    Aerospace Engineering           57700.0          101000.0   \n",
              "17               Economics           50100.0           98600.0   \n",
              "44                 Physics           50300.0           97300.0   \n",
              "13        Computer Science           55900.0           95500.0   \n",
              "30  Industrial Engineering           57700.0           94700.0   \n",
              "38  Mechanical Engineering           57900.0           93600.0   \n",
              "37                    Math           45400.0           92400.0   \n",
              "\n",
              "    percent_change_starting  midcareer_tenth_percentile  \\\n",
              "8                      69.3                     71900.0   \n",
              "12                     71.0                     66100.0   \n",
              "19                     69.1                     69300.0   \n",
              "1                      75.0                     64300.0   \n",
              "17                     96.8                     50600.0   \n",
              "44                     93.4                     56000.0   \n",
              "13                     70.8                     56000.0   \n",
              "30                     64.1                     57100.0   \n",
              "38                     61.7                     63700.0   \n",
              "37                    103.5                     45200.0   \n",
              "\n",
              "    midcareer_twentyfifth_percentile  midcareer_seventyfifth_percentile  \\\n",
              "8                            87300.0                           143000.0   \n",
              "12                           84100.0                           135000.0   \n",
              "19                           83800.0                           130000.0   \n",
              "1                            82100.0                           127000.0   \n",
              "17                           70600.0                           145000.0   \n",
              "44                           74200.0                           132000.0   \n",
              "13                           74900.0                           122000.0   \n",
              "30                           72300.0                           132000.0   \n",
              "38                           76200.0                           120000.0   \n",
              "37                           64200.0                           128000.0   \n",
              "\n",
              "    midcareer_nintieth_percentile  \n",
              "8                        194000.0  \n",
              "12                       162000.0  \n",
              "19                       168000.0  \n",
              "1                        161000.0  \n",
              "17                       210000.0  \n",
              "44                       178000.0  \n",
              "13                       154000.0  \n",
              "30                       173000.0  \n",
              "38                       163000.0  \n",
              "37                       183000.0  "
            ],
            "text/html": [
              "\n",
              "  <div id=\"df-2814717f-83a7-4e0a-85ef-656b192ec55e\">\n",
              "    <div class=\"colab-df-container\">\n",
              "      <div>\n",
              "<style scoped>\n",
              "    .dataframe tbody tr th:only-of-type {\n",
              "        vertical-align: middle;\n",
              "    }\n",
              "\n",
              "    .dataframe tbody tr th {\n",
              "        vertical-align: top;\n",
              "    }\n",
              "\n",
              "    .dataframe thead th {\n",
              "        text-align: right;\n",
              "    }\n",
              "</style>\n",
              "<table border=\"1\" class=\"dataframe\">\n",
              "  <thead>\n",
              "    <tr style=\"text-align: right;\">\n",
              "      <th></th>\n",
              "      <th>undergrad_major</th>\n",
              "      <th>starting_salary</th>\n",
              "      <th>midcareer_salary</th>\n",
              "      <th>percent_change_starting</th>\n",
              "      <th>midcareer_tenth_percentile</th>\n",
              "      <th>midcareer_twentyfifth_percentile</th>\n",
              "      <th>midcareer_seventyfifth_percentile</th>\n",
              "      <th>midcareer_nintieth_percentile</th>\n",
              "    </tr>\n",
              "  </thead>\n",
              "  <tbody>\n",
              "    <tr>\n",
              "      <th>8</th>\n",
              "      <td>Chemical Engineering</td>\n",
              "      <td>63200.0</td>\n",
              "      <td>107000.0</td>\n",
              "      <td>69.3</td>\n",
              "      <td>71900.0</td>\n",
              "      <td>87300.0</td>\n",
              "      <td>143000.0</td>\n",
              "      <td>194000.0</td>\n",
              "    </tr>\n",
              "    <tr>\n",
              "      <th>12</th>\n",
              "      <td>Computer Engineering</td>\n",
              "      <td>61400.0</td>\n",
              "      <td>105000.0</td>\n",
              "      <td>71.0</td>\n",
              "      <td>66100.0</td>\n",
              "      <td>84100.0</td>\n",
              "      <td>135000.0</td>\n",
              "      <td>162000.0</td>\n",
              "    </tr>\n",
              "    <tr>\n",
              "      <th>19</th>\n",
              "      <td>Electrical Engineering</td>\n",
              "      <td>60900.0</td>\n",
              "      <td>103000.0</td>\n",
              "      <td>69.1</td>\n",
              "      <td>69300.0</td>\n",
              "      <td>83800.0</td>\n",
              "      <td>130000.0</td>\n",
              "      <td>168000.0</td>\n",
              "    </tr>\n",
              "    <tr>\n",
              "      <th>1</th>\n",
              "      <td>Aerospace Engineering</td>\n",
              "      <td>57700.0</td>\n",
              "      <td>101000.0</td>\n",
              "      <td>75.0</td>\n",
              "      <td>64300.0</td>\n",
              "      <td>82100.0</td>\n",
              "      <td>127000.0</td>\n",
              "      <td>161000.0</td>\n",
              "    </tr>\n",
              "    <tr>\n",
              "      <th>17</th>\n",
              "      <td>Economics</td>\n",
              "      <td>50100.0</td>\n",
              "      <td>98600.0</td>\n",
              "      <td>96.8</td>\n",
              "      <td>50600.0</td>\n",
              "      <td>70600.0</td>\n",
              "      <td>145000.0</td>\n",
              "      <td>210000.0</td>\n",
              "    </tr>\n",
              "    <tr>\n",
              "      <th>44</th>\n",
              "      <td>Physics</td>\n",
              "      <td>50300.0</td>\n",
              "      <td>97300.0</td>\n",
              "      <td>93.4</td>\n",
              "      <td>56000.0</td>\n",
              "      <td>74200.0</td>\n",
              "      <td>132000.0</td>\n",
              "      <td>178000.0</td>\n",
              "    </tr>\n",
              "    <tr>\n",
              "      <th>13</th>\n",
              "      <td>Computer Science</td>\n",
              "      <td>55900.0</td>\n",
              "      <td>95500.0</td>\n",
              "      <td>70.8</td>\n",
              "      <td>56000.0</td>\n",
              "      <td>74900.0</td>\n",
              "      <td>122000.0</td>\n",
              "      <td>154000.0</td>\n",
              "    </tr>\n",
              "    <tr>\n",
              "      <th>30</th>\n",
              "      <td>Industrial Engineering</td>\n",
              "      <td>57700.0</td>\n",
              "      <td>94700.0</td>\n",
              "      <td>64.1</td>\n",
              "      <td>57100.0</td>\n",
              "      <td>72300.0</td>\n",
              "      <td>132000.0</td>\n",
              "      <td>173000.0</td>\n",
              "    </tr>\n",
              "    <tr>\n",
              "      <th>38</th>\n",
              "      <td>Mechanical Engineering</td>\n",
              "      <td>57900.0</td>\n",
              "      <td>93600.0</td>\n",
              "      <td>61.7</td>\n",
              "      <td>63700.0</td>\n",
              "      <td>76200.0</td>\n",
              "      <td>120000.0</td>\n",
              "      <td>163000.0</td>\n",
              "    </tr>\n",
              "    <tr>\n",
              "      <th>37</th>\n",
              "      <td>Math</td>\n",
              "      <td>45400.0</td>\n",
              "      <td>92400.0</td>\n",
              "      <td>103.5</td>\n",
              "      <td>45200.0</td>\n",
              "      <td>64200.0</td>\n",
              "      <td>128000.0</td>\n",
              "      <td>183000.0</td>\n",
              "    </tr>\n",
              "  </tbody>\n",
              "</table>\n",
              "</div>\n",
              "      <button class=\"colab-df-convert\" onclick=\"convertToInteractive('df-2814717f-83a7-4e0a-85ef-656b192ec55e')\"\n",
              "              title=\"Convert this dataframe to an interactive table.\"\n",
              "              style=\"display:none;\">\n",
              "        \n",
              "  <svg xmlns=\"http://www.w3.org/2000/svg\" height=\"24px\"viewBox=\"0 0 24 24\"\n",
              "       width=\"24px\">\n",
              "    <path d=\"M0 0h24v24H0V0z\" fill=\"none\"/>\n",
              "    <path d=\"M18.56 5.44l.94 2.06.94-2.06 2.06-.94-2.06-.94-.94-2.06-.94 2.06-2.06.94zm-11 1L8.5 8.5l.94-2.06 2.06-.94-2.06-.94L8.5 2.5l-.94 2.06-2.06.94zm10 10l.94 2.06.94-2.06 2.06-.94-2.06-.94-.94-2.06-.94 2.06-2.06.94z\"/><path d=\"M17.41 7.96l-1.37-1.37c-.4-.4-.92-.59-1.43-.59-.52 0-1.04.2-1.43.59L10.3 9.45l-7.72 7.72c-.78.78-.78 2.05 0 2.83L4 21.41c.39.39.9.59 1.41.59.51 0 1.02-.2 1.41-.59l7.78-7.78 2.81-2.81c.8-.78.8-2.07 0-2.86zM5.41 20L4 18.59l7.72-7.72 1.47 1.35L5.41 20z\"/>\n",
              "  </svg>\n",
              "      </button>\n",
              "      \n",
              "  <style>\n",
              "    .colab-df-container {\n",
              "      display:flex;\n",
              "      flex-wrap:wrap;\n",
              "      gap: 12px;\n",
              "    }\n",
              "\n",
              "    .colab-df-convert {\n",
              "      background-color: #E8F0FE;\n",
              "      border: none;\n",
              "      border-radius: 50%;\n",
              "      cursor: pointer;\n",
              "      display: none;\n",
              "      fill: #1967D2;\n",
              "      height: 32px;\n",
              "      padding: 0 0 0 0;\n",
              "      width: 32px;\n",
              "    }\n",
              "\n",
              "    .colab-df-convert:hover {\n",
              "      background-color: #E2EBFA;\n",
              "      box-shadow: 0px 1px 2px rgba(60, 64, 67, 0.3), 0px 1px 3px 1px rgba(60, 64, 67, 0.15);\n",
              "      fill: #174EA6;\n",
              "    }\n",
              "\n",
              "    [theme=dark] .colab-df-convert {\n",
              "      background-color: #3B4455;\n",
              "      fill: #D2E3FC;\n",
              "    }\n",
              "\n",
              "    [theme=dark] .colab-df-convert:hover {\n",
              "      background-color: #434B5C;\n",
              "      box-shadow: 0px 1px 3px 1px rgba(0, 0, 0, 0.15);\n",
              "      filter: drop-shadow(0px 1px 2px rgba(0, 0, 0, 0.3));\n",
              "      fill: #FFFFFF;\n",
              "    }\n",
              "  </style>\n",
              "\n",
              "      <script>\n",
              "        const buttonEl =\n",
              "          document.querySelector('#df-2814717f-83a7-4e0a-85ef-656b192ec55e button.colab-df-convert');\n",
              "        buttonEl.style.display =\n",
              "          google.colab.kernel.accessAllowed ? 'block' : 'none';\n",
              "\n",
              "        async function convertToInteractive(key) {\n",
              "          const element = document.querySelector('#df-2814717f-83a7-4e0a-85ef-656b192ec55e');\n",
              "          const dataTable =\n",
              "            await google.colab.kernel.invokeFunction('convertToInteractive',\n",
              "                                                     [key], {});\n",
              "          if (!dataTable) return;\n",
              "\n",
              "          const docLinkHtml = 'Like what you see? Visit the ' +\n",
              "            '<a target=\"_blank\" href=https://colab.research.google.com/notebooks/data_table.ipynb>data table notebook</a>'\n",
              "            + ' to learn more about interactive tables.';\n",
              "          element.innerHTML = '';\n",
              "          dataTable['output_type'] = 'display_data';\n",
              "          await google.colab.output.renderOutput(dataTable, element);\n",
              "          const docLink = document.createElement('div');\n",
              "          docLink.innerHTML = docLinkHtml;\n",
              "          element.appendChild(docLink);\n",
              "        }\n",
              "      </script>\n",
              "    </div>\n",
              "  </div>\n",
              "  "
            ]
          },
          "metadata": {},
          "execution_count": 48
        }
      ]
    },
    {
      "cell_type": "markdown",
      "metadata": {
        "id": "tuoD4VSRYMUD"
      },
      "source": [
        "### **Indexing, Slicing and Subsetting Dataframes**\n",
        "\n",
        "You can access values in your dataset using indexing, slicing and subsetting.\n",
        "\n",
        "This is how you can select one column in your dataset."
      ]
    },
    {
      "cell_type": "code",
      "metadata": {
        "colab": {
          "base_uri": "https://localhost:8080/"
        },
        "id": "4DLOtPONY3U4",
        "outputId": "7bc73371-93c7-485b-8add-cb70f10624a5"
      },
      "source": [
        "salary_df[\"undergrad_major\"]"
      ],
      "execution_count": null,
      "outputs": [
        {
          "output_type": "execute_result",
          "data": {
            "text/plain": [
              "0                               Accounting \n",
              "1                    Aerospace Engineering \n",
              "2                              Agriculture \n",
              "3                             Anthropology \n",
              "4                             Architecture \n",
              "5                              Art History \n",
              "6                                  Biology \n",
              "7                      Business Management \n",
              "8                     Chemical Engineering \n",
              "9                                Chemistry \n",
              "10                       Civil Engineering \n",
              "11                          Communications \n",
              "12                    Computer Engineering \n",
              "13                        Computer Science \n",
              "14                            Construction \n",
              "15                        Criminal Justice \n",
              "16                                   Drama \n",
              "17                               Economics \n",
              "18                               Education \n",
              "19                  Electrical Engineering \n",
              "20                                 English \n",
              "21                                    Film \n",
              "22                                 Finance \n",
              "23                                Forestry \n",
              "24                               Geography \n",
              "25                                 Geology \n",
              "26                          Graphic Design \n",
              "27              Health Care Administration \n",
              "28                                 History \n",
              "29                   Hospitality & Tourism \n",
              "30                  Industrial Engineering \n",
              "31             Information Technology (IT) \n",
              "32                         Interior Design \n",
              "33                 International Relations \n",
              "34                              Journalism \n",
              "35    Management Information Systems (MIS) \n",
              "36                               Marketing \n",
              "37                                    Math \n",
              "38                  Mechanical Engineering \n",
              "39                                   Music \n",
              "40                                 Nursing \n",
              "41                               Nutrition \n",
              "42                              Philosophy \n",
              "43                     Physician Assistant \n",
              "44                                 Physics \n",
              "45                       Political Science \n",
              "46                              Psychology \n",
              "47                                Religion \n",
              "48                               Sociology \n",
              "49                                 Spanish \n",
              "Name: undergrad_major, dtype: object"
            ]
          },
          "metadata": {},
          "execution_count": 49
        }
      ]
    },
    {
      "cell_type": "markdown",
      "metadata": {
        "id": "PK2Etqx6Y6Ge"
      },
      "source": [
        "This is how you can select multiple columns in your dataset."
      ]
    },
    {
      "cell_type": "code",
      "metadata": {
        "colab": {
          "base_uri": "https://localhost:8080/",
          "height": 1000
        },
        "id": "FvHgCy3PY5DL",
        "outputId": "d9392509-437a-4725-834a-03ca027b024b"
      },
      "source": [
        "salary_df[[\"undergrad_major\", \"starting_salary\"]]"
      ],
      "execution_count": null,
      "outputs": [
        {
          "output_type": "execute_result",
          "data": {
            "text/plain": [
              "                          undergrad_major  starting_salary\n",
              "0                             Accounting           46000.0\n",
              "1                  Aerospace Engineering           57700.0\n",
              "2                            Agriculture           42600.0\n",
              "3                           Anthropology           36800.0\n",
              "4                           Architecture           41600.0\n",
              "5                            Art History           35800.0\n",
              "6                                Biology           38800.0\n",
              "7                    Business Management           43000.0\n",
              "8                   Chemical Engineering           63200.0\n",
              "9                              Chemistry           42600.0\n",
              "10                     Civil Engineering           53900.0\n",
              "11                        Communications           38100.0\n",
              "12                  Computer Engineering           61400.0\n",
              "13                      Computer Science           55900.0\n",
              "14                          Construction           53700.0\n",
              "15                      Criminal Justice           35000.0\n",
              "16                                 Drama           35900.0\n",
              "17                             Economics           50100.0\n",
              "18                             Education           34900.0\n",
              "19                Electrical Engineering           60900.0\n",
              "20                               English           38000.0\n",
              "21                                  Film           37900.0\n",
              "22                               Finance           47900.0\n",
              "23                              Forestry           39100.0\n",
              "24                             Geography           41200.0\n",
              "25                               Geology           43500.0\n",
              "26                        Graphic Design           35700.0\n",
              "27            Health Care Administration           38800.0\n",
              "28                               History           39200.0\n",
              "29                 Hospitality & Tourism           37800.0\n",
              "30                Industrial Engineering           57700.0\n",
              "31           Information Technology (IT)           49100.0\n",
              "32                       Interior Design           36100.0\n",
              "33               International Relations           40900.0\n",
              "34                            Journalism           35600.0\n",
              "35  Management Information Systems (MIS)           49200.0\n",
              "36                             Marketing           40800.0\n",
              "37                                  Math           45400.0\n",
              "38                Mechanical Engineering           57900.0\n",
              "39                                 Music           35900.0\n",
              "40                               Nursing           54200.0\n",
              "41                             Nutrition           39900.0\n",
              "42                            Philosophy           39900.0\n",
              "43                   Physician Assistant           74300.0\n",
              "44                               Physics           50300.0\n",
              "45                     Political Science           40800.0\n",
              "46                            Psychology           35900.0\n",
              "47                              Religion           34100.0\n",
              "48                             Sociology           36500.0\n",
              "49                               Spanish           34000.0"
            ],
            "text/html": [
              "\n",
              "  <div id=\"df-085bdb09-01a3-40b5-b63d-306e545976f6\">\n",
              "    <div class=\"colab-df-container\">\n",
              "      <div>\n",
              "<style scoped>\n",
              "    .dataframe tbody tr th:only-of-type {\n",
              "        vertical-align: middle;\n",
              "    }\n",
              "\n",
              "    .dataframe tbody tr th {\n",
              "        vertical-align: top;\n",
              "    }\n",
              "\n",
              "    .dataframe thead th {\n",
              "        text-align: right;\n",
              "    }\n",
              "</style>\n",
              "<table border=\"1\" class=\"dataframe\">\n",
              "  <thead>\n",
              "    <tr style=\"text-align: right;\">\n",
              "      <th></th>\n",
              "      <th>undergrad_major</th>\n",
              "      <th>starting_salary</th>\n",
              "    </tr>\n",
              "  </thead>\n",
              "  <tbody>\n",
              "    <tr>\n",
              "      <th>0</th>\n",
              "      <td>Accounting</td>\n",
              "      <td>46000.0</td>\n",
              "    </tr>\n",
              "    <tr>\n",
              "      <th>1</th>\n",
              "      <td>Aerospace Engineering</td>\n",
              "      <td>57700.0</td>\n",
              "    </tr>\n",
              "    <tr>\n",
              "      <th>2</th>\n",
              "      <td>Agriculture</td>\n",
              "      <td>42600.0</td>\n",
              "    </tr>\n",
              "    <tr>\n",
              "      <th>3</th>\n",
              "      <td>Anthropology</td>\n",
              "      <td>36800.0</td>\n",
              "    </tr>\n",
              "    <tr>\n",
              "      <th>4</th>\n",
              "      <td>Architecture</td>\n",
              "      <td>41600.0</td>\n",
              "    </tr>\n",
              "    <tr>\n",
              "      <th>5</th>\n",
              "      <td>Art History</td>\n",
              "      <td>35800.0</td>\n",
              "    </tr>\n",
              "    <tr>\n",
              "      <th>6</th>\n",
              "      <td>Biology</td>\n",
              "      <td>38800.0</td>\n",
              "    </tr>\n",
              "    <tr>\n",
              "      <th>7</th>\n",
              "      <td>Business Management</td>\n",
              "      <td>43000.0</td>\n",
              "    </tr>\n",
              "    <tr>\n",
              "      <th>8</th>\n",
              "      <td>Chemical Engineering</td>\n",
              "      <td>63200.0</td>\n",
              "    </tr>\n",
              "    <tr>\n",
              "      <th>9</th>\n",
              "      <td>Chemistry</td>\n",
              "      <td>42600.0</td>\n",
              "    </tr>\n",
              "    <tr>\n",
              "      <th>10</th>\n",
              "      <td>Civil Engineering</td>\n",
              "      <td>53900.0</td>\n",
              "    </tr>\n",
              "    <tr>\n",
              "      <th>11</th>\n",
              "      <td>Communications</td>\n",
              "      <td>38100.0</td>\n",
              "    </tr>\n",
              "    <tr>\n",
              "      <th>12</th>\n",
              "      <td>Computer Engineering</td>\n",
              "      <td>61400.0</td>\n",
              "    </tr>\n",
              "    <tr>\n",
              "      <th>13</th>\n",
              "      <td>Computer Science</td>\n",
              "      <td>55900.0</td>\n",
              "    </tr>\n",
              "    <tr>\n",
              "      <th>14</th>\n",
              "      <td>Construction</td>\n",
              "      <td>53700.0</td>\n",
              "    </tr>\n",
              "    <tr>\n",
              "      <th>15</th>\n",
              "      <td>Criminal Justice</td>\n",
              "      <td>35000.0</td>\n",
              "    </tr>\n",
              "    <tr>\n",
              "      <th>16</th>\n",
              "      <td>Drama</td>\n",
              "      <td>35900.0</td>\n",
              "    </tr>\n",
              "    <tr>\n",
              "      <th>17</th>\n",
              "      <td>Economics</td>\n",
              "      <td>50100.0</td>\n",
              "    </tr>\n",
              "    <tr>\n",
              "      <th>18</th>\n",
              "      <td>Education</td>\n",
              "      <td>34900.0</td>\n",
              "    </tr>\n",
              "    <tr>\n",
              "      <th>19</th>\n",
              "      <td>Electrical Engineering</td>\n",
              "      <td>60900.0</td>\n",
              "    </tr>\n",
              "    <tr>\n",
              "      <th>20</th>\n",
              "      <td>English</td>\n",
              "      <td>38000.0</td>\n",
              "    </tr>\n",
              "    <tr>\n",
              "      <th>21</th>\n",
              "      <td>Film</td>\n",
              "      <td>37900.0</td>\n",
              "    </tr>\n",
              "    <tr>\n",
              "      <th>22</th>\n",
              "      <td>Finance</td>\n",
              "      <td>47900.0</td>\n",
              "    </tr>\n",
              "    <tr>\n",
              "      <th>23</th>\n",
              "      <td>Forestry</td>\n",
              "      <td>39100.0</td>\n",
              "    </tr>\n",
              "    <tr>\n",
              "      <th>24</th>\n",
              "      <td>Geography</td>\n",
              "      <td>41200.0</td>\n",
              "    </tr>\n",
              "    <tr>\n",
              "      <th>25</th>\n",
              "      <td>Geology</td>\n",
              "      <td>43500.0</td>\n",
              "    </tr>\n",
              "    <tr>\n",
              "      <th>26</th>\n",
              "      <td>Graphic Design</td>\n",
              "      <td>35700.0</td>\n",
              "    </tr>\n",
              "    <tr>\n",
              "      <th>27</th>\n",
              "      <td>Health Care Administration</td>\n",
              "      <td>38800.0</td>\n",
              "    </tr>\n",
              "    <tr>\n",
              "      <th>28</th>\n",
              "      <td>History</td>\n",
              "      <td>39200.0</td>\n",
              "    </tr>\n",
              "    <tr>\n",
              "      <th>29</th>\n",
              "      <td>Hospitality &amp; Tourism</td>\n",
              "      <td>37800.0</td>\n",
              "    </tr>\n",
              "    <tr>\n",
              "      <th>30</th>\n",
              "      <td>Industrial Engineering</td>\n",
              "      <td>57700.0</td>\n",
              "    </tr>\n",
              "    <tr>\n",
              "      <th>31</th>\n",
              "      <td>Information Technology (IT)</td>\n",
              "      <td>49100.0</td>\n",
              "    </tr>\n",
              "    <tr>\n",
              "      <th>32</th>\n",
              "      <td>Interior Design</td>\n",
              "      <td>36100.0</td>\n",
              "    </tr>\n",
              "    <tr>\n",
              "      <th>33</th>\n",
              "      <td>International Relations</td>\n",
              "      <td>40900.0</td>\n",
              "    </tr>\n",
              "    <tr>\n",
              "      <th>34</th>\n",
              "      <td>Journalism</td>\n",
              "      <td>35600.0</td>\n",
              "    </tr>\n",
              "    <tr>\n",
              "      <th>35</th>\n",
              "      <td>Management Information Systems (MIS)</td>\n",
              "      <td>49200.0</td>\n",
              "    </tr>\n",
              "    <tr>\n",
              "      <th>36</th>\n",
              "      <td>Marketing</td>\n",
              "      <td>40800.0</td>\n",
              "    </tr>\n",
              "    <tr>\n",
              "      <th>37</th>\n",
              "      <td>Math</td>\n",
              "      <td>45400.0</td>\n",
              "    </tr>\n",
              "    <tr>\n",
              "      <th>38</th>\n",
              "      <td>Mechanical Engineering</td>\n",
              "      <td>57900.0</td>\n",
              "    </tr>\n",
              "    <tr>\n",
              "      <th>39</th>\n",
              "      <td>Music</td>\n",
              "      <td>35900.0</td>\n",
              "    </tr>\n",
              "    <tr>\n",
              "      <th>40</th>\n",
              "      <td>Nursing</td>\n",
              "      <td>54200.0</td>\n",
              "    </tr>\n",
              "    <tr>\n",
              "      <th>41</th>\n",
              "      <td>Nutrition</td>\n",
              "      <td>39900.0</td>\n",
              "    </tr>\n",
              "    <tr>\n",
              "      <th>42</th>\n",
              "      <td>Philosophy</td>\n",
              "      <td>39900.0</td>\n",
              "    </tr>\n",
              "    <tr>\n",
              "      <th>43</th>\n",
              "      <td>Physician Assistant</td>\n",
              "      <td>74300.0</td>\n",
              "    </tr>\n",
              "    <tr>\n",
              "      <th>44</th>\n",
              "      <td>Physics</td>\n",
              "      <td>50300.0</td>\n",
              "    </tr>\n",
              "    <tr>\n",
              "      <th>45</th>\n",
              "      <td>Political Science</td>\n",
              "      <td>40800.0</td>\n",
              "    </tr>\n",
              "    <tr>\n",
              "      <th>46</th>\n",
              "      <td>Psychology</td>\n",
              "      <td>35900.0</td>\n",
              "    </tr>\n",
              "    <tr>\n",
              "      <th>47</th>\n",
              "      <td>Religion</td>\n",
              "      <td>34100.0</td>\n",
              "    </tr>\n",
              "    <tr>\n",
              "      <th>48</th>\n",
              "      <td>Sociology</td>\n",
              "      <td>36500.0</td>\n",
              "    </tr>\n",
              "    <tr>\n",
              "      <th>49</th>\n",
              "      <td>Spanish</td>\n",
              "      <td>34000.0</td>\n",
              "    </tr>\n",
              "  </tbody>\n",
              "</table>\n",
              "</div>\n",
              "      <button class=\"colab-df-convert\" onclick=\"convertToInteractive('df-085bdb09-01a3-40b5-b63d-306e545976f6')\"\n",
              "              title=\"Convert this dataframe to an interactive table.\"\n",
              "              style=\"display:none;\">\n",
              "        \n",
              "  <svg xmlns=\"http://www.w3.org/2000/svg\" height=\"24px\"viewBox=\"0 0 24 24\"\n",
              "       width=\"24px\">\n",
              "    <path d=\"M0 0h24v24H0V0z\" fill=\"none\"/>\n",
              "    <path d=\"M18.56 5.44l.94 2.06.94-2.06 2.06-.94-2.06-.94-.94-2.06-.94 2.06-2.06.94zm-11 1L8.5 8.5l.94-2.06 2.06-.94-2.06-.94L8.5 2.5l-.94 2.06-2.06.94zm10 10l.94 2.06.94-2.06 2.06-.94-2.06-.94-.94-2.06-.94 2.06-2.06.94z\"/><path d=\"M17.41 7.96l-1.37-1.37c-.4-.4-.92-.59-1.43-.59-.52 0-1.04.2-1.43.59L10.3 9.45l-7.72 7.72c-.78.78-.78 2.05 0 2.83L4 21.41c.39.39.9.59 1.41.59.51 0 1.02-.2 1.41-.59l7.78-7.78 2.81-2.81c.8-.78.8-2.07 0-2.86zM5.41 20L4 18.59l7.72-7.72 1.47 1.35L5.41 20z\"/>\n",
              "  </svg>\n",
              "      </button>\n",
              "      \n",
              "  <style>\n",
              "    .colab-df-container {\n",
              "      display:flex;\n",
              "      flex-wrap:wrap;\n",
              "      gap: 12px;\n",
              "    }\n",
              "\n",
              "    .colab-df-convert {\n",
              "      background-color: #E8F0FE;\n",
              "      border: none;\n",
              "      border-radius: 50%;\n",
              "      cursor: pointer;\n",
              "      display: none;\n",
              "      fill: #1967D2;\n",
              "      height: 32px;\n",
              "      padding: 0 0 0 0;\n",
              "      width: 32px;\n",
              "    }\n",
              "\n",
              "    .colab-df-convert:hover {\n",
              "      background-color: #E2EBFA;\n",
              "      box-shadow: 0px 1px 2px rgba(60, 64, 67, 0.3), 0px 1px 3px 1px rgba(60, 64, 67, 0.15);\n",
              "      fill: #174EA6;\n",
              "    }\n",
              "\n",
              "    [theme=dark] .colab-df-convert {\n",
              "      background-color: #3B4455;\n",
              "      fill: #D2E3FC;\n",
              "    }\n",
              "\n",
              "    [theme=dark] .colab-df-convert:hover {\n",
              "      background-color: #434B5C;\n",
              "      box-shadow: 0px 1px 3px 1px rgba(0, 0, 0, 0.15);\n",
              "      filter: drop-shadow(0px 1px 2px rgba(0, 0, 0, 0.3));\n",
              "      fill: #FFFFFF;\n",
              "    }\n",
              "  </style>\n",
              "\n",
              "      <script>\n",
              "        const buttonEl =\n",
              "          document.querySelector('#df-085bdb09-01a3-40b5-b63d-306e545976f6 button.colab-df-convert');\n",
              "        buttonEl.style.display =\n",
              "          google.colab.kernel.accessAllowed ? 'block' : 'none';\n",
              "\n",
              "        async function convertToInteractive(key) {\n",
              "          const element = document.querySelector('#df-085bdb09-01a3-40b5-b63d-306e545976f6');\n",
              "          const dataTable =\n",
              "            await google.colab.kernel.invokeFunction('convertToInteractive',\n",
              "                                                     [key], {});\n",
              "          if (!dataTable) return;\n",
              "\n",
              "          const docLinkHtml = 'Like what you see? Visit the ' +\n",
              "            '<a target=\"_blank\" href=https://colab.research.google.com/notebooks/data_table.ipynb>data table notebook</a>'\n",
              "            + ' to learn more about interactive tables.';\n",
              "          element.innerHTML = '';\n",
              "          dataTable['output_type'] = 'display_data';\n",
              "          await google.colab.output.renderOutput(dataTable, element);\n",
              "          const docLink = document.createElement('div');\n",
              "          docLink.innerHTML = docLinkHtml;\n",
              "          element.appendChild(docLink);\n",
              "        }\n",
              "      </script>\n",
              "    </div>\n",
              "  </div>\n",
              "  "
            ]
          },
          "metadata": {},
          "execution_count": 50
        }
      ]
    },
    {
      "cell_type": "markdown",
      "metadata": {
        "id": "X8K4pCQkamXL"
      },
      "source": [
        "You can use indexing to select rows. This is the format:\n",
        "\n",
        "```\n",
        "df[start_value: end_value]\n",
        "```\n",
        "\n",
        "Note that row indices start from 0 (similar to indices fo arrays and lists). The row in the end value is not included. "
      ]
    },
    {
      "cell_type": "code",
      "metadata": {
        "colab": {
          "base_uri": "https://localhost:8080/",
          "height": 145
        },
        "id": "Y0YdLjGwas8v",
        "outputId": "89aa7bee-d33e-4ad1-cf55-55c433edd80c"
      },
      "source": [
        "#This will give you the first row in your dataframe.\n",
        "salary_df[0:1]"
      ],
      "execution_count": null,
      "outputs": [
        {
          "output_type": "execute_result",
          "data": {
            "text/plain": [
              "  undergrad_major  starting_salary  midcareer_salary  percent_change_starting  \\\n",
              "0     Accounting           46000.0           77100.0                     67.6   \n",
              "\n",
              "   midcareer_tenth_percentile  midcareer_twentyfifth_percentile  \\\n",
              "0                     42200.0                           56100.0   \n",
              "\n",
              "   midcareer_seventyfifth_percentile  midcareer_nintieth_percentile  \n",
              "0                           108000.0                       152000.0  "
            ],
            "text/html": [
              "\n",
              "  <div id=\"df-2ff9a96b-aa1c-4f88-b367-56cec58d2f50\">\n",
              "    <div class=\"colab-df-container\">\n",
              "      <div>\n",
              "<style scoped>\n",
              "    .dataframe tbody tr th:only-of-type {\n",
              "        vertical-align: middle;\n",
              "    }\n",
              "\n",
              "    .dataframe tbody tr th {\n",
              "        vertical-align: top;\n",
              "    }\n",
              "\n",
              "    .dataframe thead th {\n",
              "        text-align: right;\n",
              "    }\n",
              "</style>\n",
              "<table border=\"1\" class=\"dataframe\">\n",
              "  <thead>\n",
              "    <tr style=\"text-align: right;\">\n",
              "      <th></th>\n",
              "      <th>undergrad_major</th>\n",
              "      <th>starting_salary</th>\n",
              "      <th>midcareer_salary</th>\n",
              "      <th>percent_change_starting</th>\n",
              "      <th>midcareer_tenth_percentile</th>\n",
              "      <th>midcareer_twentyfifth_percentile</th>\n",
              "      <th>midcareer_seventyfifth_percentile</th>\n",
              "      <th>midcareer_nintieth_percentile</th>\n",
              "    </tr>\n",
              "  </thead>\n",
              "  <tbody>\n",
              "    <tr>\n",
              "      <th>0</th>\n",
              "      <td>Accounting</td>\n",
              "      <td>46000.0</td>\n",
              "      <td>77100.0</td>\n",
              "      <td>67.6</td>\n",
              "      <td>42200.0</td>\n",
              "      <td>56100.0</td>\n",
              "      <td>108000.0</td>\n",
              "      <td>152000.0</td>\n",
              "    </tr>\n",
              "  </tbody>\n",
              "</table>\n",
              "</div>\n",
              "      <button class=\"colab-df-convert\" onclick=\"convertToInteractive('df-2ff9a96b-aa1c-4f88-b367-56cec58d2f50')\"\n",
              "              title=\"Convert this dataframe to an interactive table.\"\n",
              "              style=\"display:none;\">\n",
              "        \n",
              "  <svg xmlns=\"http://www.w3.org/2000/svg\" height=\"24px\"viewBox=\"0 0 24 24\"\n",
              "       width=\"24px\">\n",
              "    <path d=\"M0 0h24v24H0V0z\" fill=\"none\"/>\n",
              "    <path d=\"M18.56 5.44l.94 2.06.94-2.06 2.06-.94-2.06-.94-.94-2.06-.94 2.06-2.06.94zm-11 1L8.5 8.5l.94-2.06 2.06-.94-2.06-.94L8.5 2.5l-.94 2.06-2.06.94zm10 10l.94 2.06.94-2.06 2.06-.94-2.06-.94-.94-2.06-.94 2.06-2.06.94z\"/><path d=\"M17.41 7.96l-1.37-1.37c-.4-.4-.92-.59-1.43-.59-.52 0-1.04.2-1.43.59L10.3 9.45l-7.72 7.72c-.78.78-.78 2.05 0 2.83L4 21.41c.39.39.9.59 1.41.59.51 0 1.02-.2 1.41-.59l7.78-7.78 2.81-2.81c.8-.78.8-2.07 0-2.86zM5.41 20L4 18.59l7.72-7.72 1.47 1.35L5.41 20z\"/>\n",
              "  </svg>\n",
              "      </button>\n",
              "      \n",
              "  <style>\n",
              "    .colab-df-container {\n",
              "      display:flex;\n",
              "      flex-wrap:wrap;\n",
              "      gap: 12px;\n",
              "    }\n",
              "\n",
              "    .colab-df-convert {\n",
              "      background-color: #E8F0FE;\n",
              "      border: none;\n",
              "      border-radius: 50%;\n",
              "      cursor: pointer;\n",
              "      display: none;\n",
              "      fill: #1967D2;\n",
              "      height: 32px;\n",
              "      padding: 0 0 0 0;\n",
              "      width: 32px;\n",
              "    }\n",
              "\n",
              "    .colab-df-convert:hover {\n",
              "      background-color: #E2EBFA;\n",
              "      box-shadow: 0px 1px 2px rgba(60, 64, 67, 0.3), 0px 1px 3px 1px rgba(60, 64, 67, 0.15);\n",
              "      fill: #174EA6;\n",
              "    }\n",
              "\n",
              "    [theme=dark] .colab-df-convert {\n",
              "      background-color: #3B4455;\n",
              "      fill: #D2E3FC;\n",
              "    }\n",
              "\n",
              "    [theme=dark] .colab-df-convert:hover {\n",
              "      background-color: #434B5C;\n",
              "      box-shadow: 0px 1px 3px 1px rgba(0, 0, 0, 0.15);\n",
              "      filter: drop-shadow(0px 1px 2px rgba(0, 0, 0, 0.3));\n",
              "      fill: #FFFFFF;\n",
              "    }\n",
              "  </style>\n",
              "\n",
              "      <script>\n",
              "        const buttonEl =\n",
              "          document.querySelector('#df-2ff9a96b-aa1c-4f88-b367-56cec58d2f50 button.colab-df-convert');\n",
              "        buttonEl.style.display =\n",
              "          google.colab.kernel.accessAllowed ? 'block' : 'none';\n",
              "\n",
              "        async function convertToInteractive(key) {\n",
              "          const element = document.querySelector('#df-2ff9a96b-aa1c-4f88-b367-56cec58d2f50');\n",
              "          const dataTable =\n",
              "            await google.colab.kernel.invokeFunction('convertToInteractive',\n",
              "                                                     [key], {});\n",
              "          if (!dataTable) return;\n",
              "\n",
              "          const docLinkHtml = 'Like what you see? Visit the ' +\n",
              "            '<a target=\"_blank\" href=https://colab.research.google.com/notebooks/data_table.ipynb>data table notebook</a>'\n",
              "            + ' to learn more about interactive tables.';\n",
              "          element.innerHTML = '';\n",
              "          dataTable['output_type'] = 'display_data';\n",
              "          await google.colab.output.renderOutput(dataTable, element);\n",
              "          const docLink = document.createElement('div');\n",
              "          docLink.innerHTML = docLinkHtml;\n",
              "          element.appendChild(docLink);\n",
              "        }\n",
              "      </script>\n",
              "    </div>\n",
              "  </div>\n",
              "  "
            ]
          },
          "metadata": {},
          "execution_count": 51
        }
      ]
    },
    {
      "cell_type": "code",
      "metadata": {
        "colab": {
          "base_uri": "https://localhost:8080/",
          "height": 256
        },
        "id": "KVI4M2oOavoT",
        "outputId": "f7beae91-3699-4a10-ba60-370038b6bf73"
      },
      "source": [
        "#This will give you the first 4 rows in your dataframe.\n",
        "salary_df[0:4]"
      ],
      "execution_count": null,
      "outputs": [
        {
          "output_type": "execute_result",
          "data": {
            "text/plain": [
              "          undergrad_major  starting_salary  midcareer_salary  \\\n",
              "0             Accounting           46000.0           77100.0   \n",
              "1  Aerospace Engineering           57700.0          101000.0   \n",
              "2            Agriculture           42600.0           71900.0   \n",
              "3           Anthropology           36800.0           61500.0   \n",
              "\n",
              "   percent_change_starting  midcareer_tenth_percentile  \\\n",
              "0                     67.6                     42200.0   \n",
              "1                     75.0                     64300.0   \n",
              "2                     68.8                     36300.0   \n",
              "3                     67.1                     33800.0   \n",
              "\n",
              "   midcareer_twentyfifth_percentile  midcareer_seventyfifth_percentile  \\\n",
              "0                           56100.0                           108000.0   \n",
              "1                           82100.0                           127000.0   \n",
              "2                           52100.0                            96300.0   \n",
              "3                           45500.0                            89300.0   \n",
              "\n",
              "   midcareer_nintieth_percentile  \n",
              "0                       152000.0  \n",
              "1                       161000.0  \n",
              "2                       150000.0  \n",
              "3                       138000.0  "
            ],
            "text/html": [
              "\n",
              "  <div id=\"df-ee9033e2-7c01-4657-a5fd-4a6768f8087a\">\n",
              "    <div class=\"colab-df-container\">\n",
              "      <div>\n",
              "<style scoped>\n",
              "    .dataframe tbody tr th:only-of-type {\n",
              "        vertical-align: middle;\n",
              "    }\n",
              "\n",
              "    .dataframe tbody tr th {\n",
              "        vertical-align: top;\n",
              "    }\n",
              "\n",
              "    .dataframe thead th {\n",
              "        text-align: right;\n",
              "    }\n",
              "</style>\n",
              "<table border=\"1\" class=\"dataframe\">\n",
              "  <thead>\n",
              "    <tr style=\"text-align: right;\">\n",
              "      <th></th>\n",
              "      <th>undergrad_major</th>\n",
              "      <th>starting_salary</th>\n",
              "      <th>midcareer_salary</th>\n",
              "      <th>percent_change_starting</th>\n",
              "      <th>midcareer_tenth_percentile</th>\n",
              "      <th>midcareer_twentyfifth_percentile</th>\n",
              "      <th>midcareer_seventyfifth_percentile</th>\n",
              "      <th>midcareer_nintieth_percentile</th>\n",
              "    </tr>\n",
              "  </thead>\n",
              "  <tbody>\n",
              "    <tr>\n",
              "      <th>0</th>\n",
              "      <td>Accounting</td>\n",
              "      <td>46000.0</td>\n",
              "      <td>77100.0</td>\n",
              "      <td>67.6</td>\n",
              "      <td>42200.0</td>\n",
              "      <td>56100.0</td>\n",
              "      <td>108000.0</td>\n",
              "      <td>152000.0</td>\n",
              "    </tr>\n",
              "    <tr>\n",
              "      <th>1</th>\n",
              "      <td>Aerospace Engineering</td>\n",
              "      <td>57700.0</td>\n",
              "      <td>101000.0</td>\n",
              "      <td>75.0</td>\n",
              "      <td>64300.0</td>\n",
              "      <td>82100.0</td>\n",
              "      <td>127000.0</td>\n",
              "      <td>161000.0</td>\n",
              "    </tr>\n",
              "    <tr>\n",
              "      <th>2</th>\n",
              "      <td>Agriculture</td>\n",
              "      <td>42600.0</td>\n",
              "      <td>71900.0</td>\n",
              "      <td>68.8</td>\n",
              "      <td>36300.0</td>\n",
              "      <td>52100.0</td>\n",
              "      <td>96300.0</td>\n",
              "      <td>150000.0</td>\n",
              "    </tr>\n",
              "    <tr>\n",
              "      <th>3</th>\n",
              "      <td>Anthropology</td>\n",
              "      <td>36800.0</td>\n",
              "      <td>61500.0</td>\n",
              "      <td>67.1</td>\n",
              "      <td>33800.0</td>\n",
              "      <td>45500.0</td>\n",
              "      <td>89300.0</td>\n",
              "      <td>138000.0</td>\n",
              "    </tr>\n",
              "  </tbody>\n",
              "</table>\n",
              "</div>\n",
              "      <button class=\"colab-df-convert\" onclick=\"convertToInteractive('df-ee9033e2-7c01-4657-a5fd-4a6768f8087a')\"\n",
              "              title=\"Convert this dataframe to an interactive table.\"\n",
              "              style=\"display:none;\">\n",
              "        \n",
              "  <svg xmlns=\"http://www.w3.org/2000/svg\" height=\"24px\"viewBox=\"0 0 24 24\"\n",
              "       width=\"24px\">\n",
              "    <path d=\"M0 0h24v24H0V0z\" fill=\"none\"/>\n",
              "    <path d=\"M18.56 5.44l.94 2.06.94-2.06 2.06-.94-2.06-.94-.94-2.06-.94 2.06-2.06.94zm-11 1L8.5 8.5l.94-2.06 2.06-.94-2.06-.94L8.5 2.5l-.94 2.06-2.06.94zm10 10l.94 2.06.94-2.06 2.06-.94-2.06-.94-.94-2.06-.94 2.06-2.06.94z\"/><path d=\"M17.41 7.96l-1.37-1.37c-.4-.4-.92-.59-1.43-.59-.52 0-1.04.2-1.43.59L10.3 9.45l-7.72 7.72c-.78.78-.78 2.05 0 2.83L4 21.41c.39.39.9.59 1.41.59.51 0 1.02-.2 1.41-.59l7.78-7.78 2.81-2.81c.8-.78.8-2.07 0-2.86zM5.41 20L4 18.59l7.72-7.72 1.47 1.35L5.41 20z\"/>\n",
              "  </svg>\n",
              "      </button>\n",
              "      \n",
              "  <style>\n",
              "    .colab-df-container {\n",
              "      display:flex;\n",
              "      flex-wrap:wrap;\n",
              "      gap: 12px;\n",
              "    }\n",
              "\n",
              "    .colab-df-convert {\n",
              "      background-color: #E8F0FE;\n",
              "      border: none;\n",
              "      border-radius: 50%;\n",
              "      cursor: pointer;\n",
              "      display: none;\n",
              "      fill: #1967D2;\n",
              "      height: 32px;\n",
              "      padding: 0 0 0 0;\n",
              "      width: 32px;\n",
              "    }\n",
              "\n",
              "    .colab-df-convert:hover {\n",
              "      background-color: #E2EBFA;\n",
              "      box-shadow: 0px 1px 2px rgba(60, 64, 67, 0.3), 0px 1px 3px 1px rgba(60, 64, 67, 0.15);\n",
              "      fill: #174EA6;\n",
              "    }\n",
              "\n",
              "    [theme=dark] .colab-df-convert {\n",
              "      background-color: #3B4455;\n",
              "      fill: #D2E3FC;\n",
              "    }\n",
              "\n",
              "    [theme=dark] .colab-df-convert:hover {\n",
              "      background-color: #434B5C;\n",
              "      box-shadow: 0px 1px 3px 1px rgba(0, 0, 0, 0.15);\n",
              "      filter: drop-shadow(0px 1px 2px rgba(0, 0, 0, 0.3));\n",
              "      fill: #FFFFFF;\n",
              "    }\n",
              "  </style>\n",
              "\n",
              "      <script>\n",
              "        const buttonEl =\n",
              "          document.querySelector('#df-ee9033e2-7c01-4657-a5fd-4a6768f8087a button.colab-df-convert');\n",
              "        buttonEl.style.display =\n",
              "          google.colab.kernel.accessAllowed ? 'block' : 'none';\n",
              "\n",
              "        async function convertToInteractive(key) {\n",
              "          const element = document.querySelector('#df-ee9033e2-7c01-4657-a5fd-4a6768f8087a');\n",
              "          const dataTable =\n",
              "            await google.colab.kernel.invokeFunction('convertToInteractive',\n",
              "                                                     [key], {});\n",
              "          if (!dataTable) return;\n",
              "\n",
              "          const docLinkHtml = 'Like what you see? Visit the ' +\n",
              "            '<a target=\"_blank\" href=https://colab.research.google.com/notebooks/data_table.ipynb>data table notebook</a>'\n",
              "            + ' to learn more about interactive tables.';\n",
              "          element.innerHTML = '';\n",
              "          dataTable['output_type'] = 'display_data';\n",
              "          await google.colab.output.renderOutput(dataTable, element);\n",
              "          const docLink = document.createElement('div');\n",
              "          docLink.innerHTML = docLinkHtml;\n",
              "          element.appendChild(docLink);\n",
              "        }\n",
              "      </script>\n",
              "    </div>\n",
              "  </div>\n",
              "  "
            ]
          },
          "metadata": {},
          "execution_count": 52
        }
      ]
    },
    {
      "cell_type": "markdown",
      "metadata": {
        "id": "AA_Zy8ZKbN59"
      },
      "source": [
        "You can also include a step value."
      ]
    },
    {
      "cell_type": "code",
      "metadata": {
        "colab": {
          "base_uri": "https://localhost:8080/",
          "height": 287
        },
        "id": "ul03_W9PbIaO",
        "outputId": "464882b6-c973-40d8-99b1-ecf52495a739"
      },
      "source": [
        "#This will give you every 2nd row between the 1st and 10th rows.\n",
        "salary_df[0:10:2]"
      ],
      "execution_count": null,
      "outputs": [
        {
          "output_type": "execute_result",
          "data": {
            "text/plain": [
              "         undergrad_major  starting_salary  midcareer_salary  \\\n",
              "0            Accounting           46000.0           77100.0   \n",
              "2           Agriculture           42600.0           71900.0   \n",
              "4          Architecture           41600.0           76800.0   \n",
              "6               Biology           38800.0           64800.0   \n",
              "8  Chemical Engineering           63200.0          107000.0   \n",
              "\n",
              "   percent_change_starting  midcareer_tenth_percentile  \\\n",
              "0                     67.6                     42200.0   \n",
              "2                     68.8                     36300.0   \n",
              "4                     84.6                     50600.0   \n",
              "6                     67.0                     36900.0   \n",
              "8                     69.3                     71900.0   \n",
              "\n",
              "   midcareer_twentyfifth_percentile  midcareer_seventyfifth_percentile  \\\n",
              "0                           56100.0                           108000.0   \n",
              "2                           52100.0                            96300.0   \n",
              "4                           62200.0                            97000.0   \n",
              "6                           47400.0                            94500.0   \n",
              "8                           87300.0                           143000.0   \n",
              "\n",
              "   midcareer_nintieth_percentile  \n",
              "0                       152000.0  \n",
              "2                       150000.0  \n",
              "4                       136000.0  \n",
              "6                       135000.0  \n",
              "8                       194000.0  "
            ],
            "text/html": [
              "\n",
              "  <div id=\"df-8acc214b-6ebc-43ef-9c41-18dbe034bde8\">\n",
              "    <div class=\"colab-df-container\">\n",
              "      <div>\n",
              "<style scoped>\n",
              "    .dataframe tbody tr th:only-of-type {\n",
              "        vertical-align: middle;\n",
              "    }\n",
              "\n",
              "    .dataframe tbody tr th {\n",
              "        vertical-align: top;\n",
              "    }\n",
              "\n",
              "    .dataframe thead th {\n",
              "        text-align: right;\n",
              "    }\n",
              "</style>\n",
              "<table border=\"1\" class=\"dataframe\">\n",
              "  <thead>\n",
              "    <tr style=\"text-align: right;\">\n",
              "      <th></th>\n",
              "      <th>undergrad_major</th>\n",
              "      <th>starting_salary</th>\n",
              "      <th>midcareer_salary</th>\n",
              "      <th>percent_change_starting</th>\n",
              "      <th>midcareer_tenth_percentile</th>\n",
              "      <th>midcareer_twentyfifth_percentile</th>\n",
              "      <th>midcareer_seventyfifth_percentile</th>\n",
              "      <th>midcareer_nintieth_percentile</th>\n",
              "    </tr>\n",
              "  </thead>\n",
              "  <tbody>\n",
              "    <tr>\n",
              "      <th>0</th>\n",
              "      <td>Accounting</td>\n",
              "      <td>46000.0</td>\n",
              "      <td>77100.0</td>\n",
              "      <td>67.6</td>\n",
              "      <td>42200.0</td>\n",
              "      <td>56100.0</td>\n",
              "      <td>108000.0</td>\n",
              "      <td>152000.0</td>\n",
              "    </tr>\n",
              "    <tr>\n",
              "      <th>2</th>\n",
              "      <td>Agriculture</td>\n",
              "      <td>42600.0</td>\n",
              "      <td>71900.0</td>\n",
              "      <td>68.8</td>\n",
              "      <td>36300.0</td>\n",
              "      <td>52100.0</td>\n",
              "      <td>96300.0</td>\n",
              "      <td>150000.0</td>\n",
              "    </tr>\n",
              "    <tr>\n",
              "      <th>4</th>\n",
              "      <td>Architecture</td>\n",
              "      <td>41600.0</td>\n",
              "      <td>76800.0</td>\n",
              "      <td>84.6</td>\n",
              "      <td>50600.0</td>\n",
              "      <td>62200.0</td>\n",
              "      <td>97000.0</td>\n",
              "      <td>136000.0</td>\n",
              "    </tr>\n",
              "    <tr>\n",
              "      <th>6</th>\n",
              "      <td>Biology</td>\n",
              "      <td>38800.0</td>\n",
              "      <td>64800.0</td>\n",
              "      <td>67.0</td>\n",
              "      <td>36900.0</td>\n",
              "      <td>47400.0</td>\n",
              "      <td>94500.0</td>\n",
              "      <td>135000.0</td>\n",
              "    </tr>\n",
              "    <tr>\n",
              "      <th>8</th>\n",
              "      <td>Chemical Engineering</td>\n",
              "      <td>63200.0</td>\n",
              "      <td>107000.0</td>\n",
              "      <td>69.3</td>\n",
              "      <td>71900.0</td>\n",
              "      <td>87300.0</td>\n",
              "      <td>143000.0</td>\n",
              "      <td>194000.0</td>\n",
              "    </tr>\n",
              "  </tbody>\n",
              "</table>\n",
              "</div>\n",
              "      <button class=\"colab-df-convert\" onclick=\"convertToInteractive('df-8acc214b-6ebc-43ef-9c41-18dbe034bde8')\"\n",
              "              title=\"Convert this dataframe to an interactive table.\"\n",
              "              style=\"display:none;\">\n",
              "        \n",
              "  <svg xmlns=\"http://www.w3.org/2000/svg\" height=\"24px\"viewBox=\"0 0 24 24\"\n",
              "       width=\"24px\">\n",
              "    <path d=\"M0 0h24v24H0V0z\" fill=\"none\"/>\n",
              "    <path d=\"M18.56 5.44l.94 2.06.94-2.06 2.06-.94-2.06-.94-.94-2.06-.94 2.06-2.06.94zm-11 1L8.5 8.5l.94-2.06 2.06-.94-2.06-.94L8.5 2.5l-.94 2.06-2.06.94zm10 10l.94 2.06.94-2.06 2.06-.94-2.06-.94-.94-2.06-.94 2.06-2.06.94z\"/><path d=\"M17.41 7.96l-1.37-1.37c-.4-.4-.92-.59-1.43-.59-.52 0-1.04.2-1.43.59L10.3 9.45l-7.72 7.72c-.78.78-.78 2.05 0 2.83L4 21.41c.39.39.9.59 1.41.59.51 0 1.02-.2 1.41-.59l7.78-7.78 2.81-2.81c.8-.78.8-2.07 0-2.86zM5.41 20L4 18.59l7.72-7.72 1.47 1.35L5.41 20z\"/>\n",
              "  </svg>\n",
              "      </button>\n",
              "      \n",
              "  <style>\n",
              "    .colab-df-container {\n",
              "      display:flex;\n",
              "      flex-wrap:wrap;\n",
              "      gap: 12px;\n",
              "    }\n",
              "\n",
              "    .colab-df-convert {\n",
              "      background-color: #E8F0FE;\n",
              "      border: none;\n",
              "      border-radius: 50%;\n",
              "      cursor: pointer;\n",
              "      display: none;\n",
              "      fill: #1967D2;\n",
              "      height: 32px;\n",
              "      padding: 0 0 0 0;\n",
              "      width: 32px;\n",
              "    }\n",
              "\n",
              "    .colab-df-convert:hover {\n",
              "      background-color: #E2EBFA;\n",
              "      box-shadow: 0px 1px 2px rgba(60, 64, 67, 0.3), 0px 1px 3px 1px rgba(60, 64, 67, 0.15);\n",
              "      fill: #174EA6;\n",
              "    }\n",
              "\n",
              "    [theme=dark] .colab-df-convert {\n",
              "      background-color: #3B4455;\n",
              "      fill: #D2E3FC;\n",
              "    }\n",
              "\n",
              "    [theme=dark] .colab-df-convert:hover {\n",
              "      background-color: #434B5C;\n",
              "      box-shadow: 0px 1px 3px 1px rgba(0, 0, 0, 0.15);\n",
              "      filter: drop-shadow(0px 1px 2px rgba(0, 0, 0, 0.3));\n",
              "      fill: #FFFFFF;\n",
              "    }\n",
              "  </style>\n",
              "\n",
              "      <script>\n",
              "        const buttonEl =\n",
              "          document.querySelector('#df-8acc214b-6ebc-43ef-9c41-18dbe034bde8 button.colab-df-convert');\n",
              "        buttonEl.style.display =\n",
              "          google.colab.kernel.accessAllowed ? 'block' : 'none';\n",
              "\n",
              "        async function convertToInteractive(key) {\n",
              "          const element = document.querySelector('#df-8acc214b-6ebc-43ef-9c41-18dbe034bde8');\n",
              "          const dataTable =\n",
              "            await google.colab.kernel.invokeFunction('convertToInteractive',\n",
              "                                                     [key], {});\n",
              "          if (!dataTable) return;\n",
              "\n",
              "          const docLinkHtml = 'Like what you see? Visit the ' +\n",
              "            '<a target=\"_blank\" href=https://colab.research.google.com/notebooks/data_table.ipynb>data table notebook</a>'\n",
              "            + ' to learn more about interactive tables.';\n",
              "          element.innerHTML = '';\n",
              "          dataTable['output_type'] = 'display_data';\n",
              "          await google.colab.output.renderOutput(dataTable, element);\n",
              "          const docLink = document.createElement('div');\n",
              "          docLink.innerHTML = docLinkHtml;\n",
              "          element.appendChild(docLink);\n",
              "        }\n",
              "      </script>\n",
              "    </div>\n",
              "  </div>\n",
              "  "
            ]
          },
          "metadata": {},
          "execution_count": 53
        }
      ]
    },
    {
      "cell_type": "markdown",
      "metadata": {
        "id": "dsuQunyUbTrP"
      },
      "source": [
        "Negative indexing allows you to select rows from the end of your dataframe."
      ]
    },
    {
      "cell_type": "code",
      "metadata": {
        "colab": {
          "base_uri": "https://localhost:8080/",
          "height": 145
        },
        "id": "VIIxUVdnbMAu",
        "outputId": "ab424e75-d378-4572-e095-77c920cd5dc7"
      },
      "source": [
        "#This will give you the last row in your dataframe.\n",
        "salary_df[-2:-1]"
      ],
      "execution_count": null,
      "outputs": [
        {
          "output_type": "execute_result",
          "data": {
            "text/plain": [
              "   undergrad_major  starting_salary  midcareer_salary  \\\n",
              "48      Sociology           36500.0           58200.0   \n",
              "\n",
              "    percent_change_starting  midcareer_tenth_percentile  \\\n",
              "48                     59.5                     30700.0   \n",
              "\n",
              "    midcareer_twentyfifth_percentile  midcareer_seventyfifth_percentile  \\\n",
              "48                           40400.0                            81200.0   \n",
              "\n",
              "    midcareer_nintieth_percentile  \n",
              "48                       118000.0  "
            ],
            "text/html": [
              "\n",
              "  <div id=\"df-a817e1cf-3e3b-41e6-82e5-fc7c6b462fd5\">\n",
              "    <div class=\"colab-df-container\">\n",
              "      <div>\n",
              "<style scoped>\n",
              "    .dataframe tbody tr th:only-of-type {\n",
              "        vertical-align: middle;\n",
              "    }\n",
              "\n",
              "    .dataframe tbody tr th {\n",
              "        vertical-align: top;\n",
              "    }\n",
              "\n",
              "    .dataframe thead th {\n",
              "        text-align: right;\n",
              "    }\n",
              "</style>\n",
              "<table border=\"1\" class=\"dataframe\">\n",
              "  <thead>\n",
              "    <tr style=\"text-align: right;\">\n",
              "      <th></th>\n",
              "      <th>undergrad_major</th>\n",
              "      <th>starting_salary</th>\n",
              "      <th>midcareer_salary</th>\n",
              "      <th>percent_change_starting</th>\n",
              "      <th>midcareer_tenth_percentile</th>\n",
              "      <th>midcareer_twentyfifth_percentile</th>\n",
              "      <th>midcareer_seventyfifth_percentile</th>\n",
              "      <th>midcareer_nintieth_percentile</th>\n",
              "    </tr>\n",
              "  </thead>\n",
              "  <tbody>\n",
              "    <tr>\n",
              "      <th>48</th>\n",
              "      <td>Sociology</td>\n",
              "      <td>36500.0</td>\n",
              "      <td>58200.0</td>\n",
              "      <td>59.5</td>\n",
              "      <td>30700.0</td>\n",
              "      <td>40400.0</td>\n",
              "      <td>81200.0</td>\n",
              "      <td>118000.0</td>\n",
              "    </tr>\n",
              "  </tbody>\n",
              "</table>\n",
              "</div>\n",
              "      <button class=\"colab-df-convert\" onclick=\"convertToInteractive('df-a817e1cf-3e3b-41e6-82e5-fc7c6b462fd5')\"\n",
              "              title=\"Convert this dataframe to an interactive table.\"\n",
              "              style=\"display:none;\">\n",
              "        \n",
              "  <svg xmlns=\"http://www.w3.org/2000/svg\" height=\"24px\"viewBox=\"0 0 24 24\"\n",
              "       width=\"24px\">\n",
              "    <path d=\"M0 0h24v24H0V0z\" fill=\"none\"/>\n",
              "    <path d=\"M18.56 5.44l.94 2.06.94-2.06 2.06-.94-2.06-.94-.94-2.06-.94 2.06-2.06.94zm-11 1L8.5 8.5l.94-2.06 2.06-.94-2.06-.94L8.5 2.5l-.94 2.06-2.06.94zm10 10l.94 2.06.94-2.06 2.06-.94-2.06-.94-.94-2.06-.94 2.06-2.06.94z\"/><path d=\"M17.41 7.96l-1.37-1.37c-.4-.4-.92-.59-1.43-.59-.52 0-1.04.2-1.43.59L10.3 9.45l-7.72 7.72c-.78.78-.78 2.05 0 2.83L4 21.41c.39.39.9.59 1.41.59.51 0 1.02-.2 1.41-.59l7.78-7.78 2.81-2.81c.8-.78.8-2.07 0-2.86zM5.41 20L4 18.59l7.72-7.72 1.47 1.35L5.41 20z\"/>\n",
              "  </svg>\n",
              "      </button>\n",
              "      \n",
              "  <style>\n",
              "    .colab-df-container {\n",
              "      display:flex;\n",
              "      flex-wrap:wrap;\n",
              "      gap: 12px;\n",
              "    }\n",
              "\n",
              "    .colab-df-convert {\n",
              "      background-color: #E8F0FE;\n",
              "      border: none;\n",
              "      border-radius: 50%;\n",
              "      cursor: pointer;\n",
              "      display: none;\n",
              "      fill: #1967D2;\n",
              "      height: 32px;\n",
              "      padding: 0 0 0 0;\n",
              "      width: 32px;\n",
              "    }\n",
              "\n",
              "    .colab-df-convert:hover {\n",
              "      background-color: #E2EBFA;\n",
              "      box-shadow: 0px 1px 2px rgba(60, 64, 67, 0.3), 0px 1px 3px 1px rgba(60, 64, 67, 0.15);\n",
              "      fill: #174EA6;\n",
              "    }\n",
              "\n",
              "    [theme=dark] .colab-df-convert {\n",
              "      background-color: #3B4455;\n",
              "      fill: #D2E3FC;\n",
              "    }\n",
              "\n",
              "    [theme=dark] .colab-df-convert:hover {\n",
              "      background-color: #434B5C;\n",
              "      box-shadow: 0px 1px 3px 1px rgba(0, 0, 0, 0.15);\n",
              "      filter: drop-shadow(0px 1px 2px rgba(0, 0, 0, 0.3));\n",
              "      fill: #FFFFFF;\n",
              "    }\n",
              "  </style>\n",
              "\n",
              "      <script>\n",
              "        const buttonEl =\n",
              "          document.querySelector('#df-a817e1cf-3e3b-41e6-82e5-fc7c6b462fd5 button.colab-df-convert');\n",
              "        buttonEl.style.display =\n",
              "          google.colab.kernel.accessAllowed ? 'block' : 'none';\n",
              "\n",
              "        async function convertToInteractive(key) {\n",
              "          const element = document.querySelector('#df-a817e1cf-3e3b-41e6-82e5-fc7c6b462fd5');\n",
              "          const dataTable =\n",
              "            await google.colab.kernel.invokeFunction('convertToInteractive',\n",
              "                                                     [key], {});\n",
              "          if (!dataTable) return;\n",
              "\n",
              "          const docLinkHtml = 'Like what you see? Visit the ' +\n",
              "            '<a target=\"_blank\" href=https://colab.research.google.com/notebooks/data_table.ipynb>data table notebook</a>'\n",
              "            + ' to learn more about interactive tables.';\n",
              "          element.innerHTML = '';\n",
              "          dataTable['output_type'] = 'display_data';\n",
              "          await google.colab.output.renderOutput(dataTable, element);\n",
              "          const docLink = document.createElement('div');\n",
              "          docLink.innerHTML = docLinkHtml;\n",
              "          element.appendChild(docLink);\n",
              "        }\n",
              "      </script>\n",
              "    </div>\n",
              "  </div>\n",
              "  "
            ]
          },
          "metadata": {},
          "execution_count": 54
        }
      ]
    },
    {
      "cell_type": "markdown",
      "metadata": {
        "id": "whIYs0LSbmce"
      },
      "source": [
        "Two functions that are useful for indexing and slicing are .loc() and .iloc(). The first argument is the row(s) you would like to select and the second argument is the column(s) you would like to select. The .loc() function is mainly used for slicing based on labels (row and column names). The .iloc() function is mainly used for slicing based on indices."
      ]
    },
    {
      "cell_type": "code",
      "metadata": {
        "colab": {
          "base_uri": "https://localhost:8080/"
        },
        "id": "BF5oYh-QcwMK",
        "outputId": "0b7199d2-9e2f-4acd-dc3f-27edaa3c6b10"
      },
      "source": [
        "#This allows you to select the first column.\n",
        "salary_df.loc[:, \"undergrad_major\"]"
      ],
      "execution_count": null,
      "outputs": [
        {
          "output_type": "execute_result",
          "data": {
            "text/plain": [
              "0                               Accounting \n",
              "1                    Aerospace Engineering \n",
              "2                              Agriculture \n",
              "3                             Anthropology \n",
              "4                             Architecture \n",
              "5                              Art History \n",
              "6                                  Biology \n",
              "7                      Business Management \n",
              "8                     Chemical Engineering \n",
              "9                                Chemistry \n",
              "10                       Civil Engineering \n",
              "11                          Communications \n",
              "12                    Computer Engineering \n",
              "13                        Computer Science \n",
              "14                            Construction \n",
              "15                        Criminal Justice \n",
              "16                                   Drama \n",
              "17                               Economics \n",
              "18                               Education \n",
              "19                  Electrical Engineering \n",
              "20                                 English \n",
              "21                                    Film \n",
              "22                                 Finance \n",
              "23                                Forestry \n",
              "24                               Geography \n",
              "25                                 Geology \n",
              "26                          Graphic Design \n",
              "27              Health Care Administration \n",
              "28                                 History \n",
              "29                   Hospitality & Tourism \n",
              "30                  Industrial Engineering \n",
              "31             Information Technology (IT) \n",
              "32                         Interior Design \n",
              "33                 International Relations \n",
              "34                              Journalism \n",
              "35    Management Information Systems (MIS) \n",
              "36                               Marketing \n",
              "37                                    Math \n",
              "38                  Mechanical Engineering \n",
              "39                                   Music \n",
              "40                                 Nursing \n",
              "41                               Nutrition \n",
              "42                              Philosophy \n",
              "43                     Physician Assistant \n",
              "44                                 Physics \n",
              "45                       Political Science \n",
              "46                              Psychology \n",
              "47                                Religion \n",
              "48                               Sociology \n",
              "49                                 Spanish \n",
              "Name: undergrad_major, dtype: object"
            ]
          },
          "metadata": {},
          "execution_count": 55
        }
      ]
    },
    {
      "cell_type": "code",
      "metadata": {
        "colab": {
          "base_uri": "https://localhost:8080/",
          "height": 206
        },
        "id": "7ID0ukt6c2gL",
        "outputId": "efe48e21-e061-4ca1-8746-ef0503dfddec"
      },
      "source": [
        "#This will give you the first 5 columns for the 2 specified columns.\n",
        "salary_df.loc[0:4, [\"undergrad_major\", \"starting_salary\"]]"
      ],
      "execution_count": null,
      "outputs": [
        {
          "output_type": "execute_result",
          "data": {
            "text/plain": [
              "          undergrad_major  starting_salary\n",
              "0             Accounting           46000.0\n",
              "1  Aerospace Engineering           57700.0\n",
              "2            Agriculture           42600.0\n",
              "3           Anthropology           36800.0\n",
              "4           Architecture           41600.0"
            ],
            "text/html": [
              "\n",
              "  <div id=\"df-e2369917-b55d-4998-b896-c1c1f00992d7\">\n",
              "    <div class=\"colab-df-container\">\n",
              "      <div>\n",
              "<style scoped>\n",
              "    .dataframe tbody tr th:only-of-type {\n",
              "        vertical-align: middle;\n",
              "    }\n",
              "\n",
              "    .dataframe tbody tr th {\n",
              "        vertical-align: top;\n",
              "    }\n",
              "\n",
              "    .dataframe thead th {\n",
              "        text-align: right;\n",
              "    }\n",
              "</style>\n",
              "<table border=\"1\" class=\"dataframe\">\n",
              "  <thead>\n",
              "    <tr style=\"text-align: right;\">\n",
              "      <th></th>\n",
              "      <th>undergrad_major</th>\n",
              "      <th>starting_salary</th>\n",
              "    </tr>\n",
              "  </thead>\n",
              "  <tbody>\n",
              "    <tr>\n",
              "      <th>0</th>\n",
              "      <td>Accounting</td>\n",
              "      <td>46000.0</td>\n",
              "    </tr>\n",
              "    <tr>\n",
              "      <th>1</th>\n",
              "      <td>Aerospace Engineering</td>\n",
              "      <td>57700.0</td>\n",
              "    </tr>\n",
              "    <tr>\n",
              "      <th>2</th>\n",
              "      <td>Agriculture</td>\n",
              "      <td>42600.0</td>\n",
              "    </tr>\n",
              "    <tr>\n",
              "      <th>3</th>\n",
              "      <td>Anthropology</td>\n",
              "      <td>36800.0</td>\n",
              "    </tr>\n",
              "    <tr>\n",
              "      <th>4</th>\n",
              "      <td>Architecture</td>\n",
              "      <td>41600.0</td>\n",
              "    </tr>\n",
              "  </tbody>\n",
              "</table>\n",
              "</div>\n",
              "      <button class=\"colab-df-convert\" onclick=\"convertToInteractive('df-e2369917-b55d-4998-b896-c1c1f00992d7')\"\n",
              "              title=\"Convert this dataframe to an interactive table.\"\n",
              "              style=\"display:none;\">\n",
              "        \n",
              "  <svg xmlns=\"http://www.w3.org/2000/svg\" height=\"24px\"viewBox=\"0 0 24 24\"\n",
              "       width=\"24px\">\n",
              "    <path d=\"M0 0h24v24H0V0z\" fill=\"none\"/>\n",
              "    <path d=\"M18.56 5.44l.94 2.06.94-2.06 2.06-.94-2.06-.94-.94-2.06-.94 2.06-2.06.94zm-11 1L8.5 8.5l.94-2.06 2.06-.94-2.06-.94L8.5 2.5l-.94 2.06-2.06.94zm10 10l.94 2.06.94-2.06 2.06-.94-2.06-.94-.94-2.06-.94 2.06-2.06.94z\"/><path d=\"M17.41 7.96l-1.37-1.37c-.4-.4-.92-.59-1.43-.59-.52 0-1.04.2-1.43.59L10.3 9.45l-7.72 7.72c-.78.78-.78 2.05 0 2.83L4 21.41c.39.39.9.59 1.41.59.51 0 1.02-.2 1.41-.59l7.78-7.78 2.81-2.81c.8-.78.8-2.07 0-2.86zM5.41 20L4 18.59l7.72-7.72 1.47 1.35L5.41 20z\"/>\n",
              "  </svg>\n",
              "      </button>\n",
              "      \n",
              "  <style>\n",
              "    .colab-df-container {\n",
              "      display:flex;\n",
              "      flex-wrap:wrap;\n",
              "      gap: 12px;\n",
              "    }\n",
              "\n",
              "    .colab-df-convert {\n",
              "      background-color: #E8F0FE;\n",
              "      border: none;\n",
              "      border-radius: 50%;\n",
              "      cursor: pointer;\n",
              "      display: none;\n",
              "      fill: #1967D2;\n",
              "      height: 32px;\n",
              "      padding: 0 0 0 0;\n",
              "      width: 32px;\n",
              "    }\n",
              "\n",
              "    .colab-df-convert:hover {\n",
              "      background-color: #E2EBFA;\n",
              "      box-shadow: 0px 1px 2px rgba(60, 64, 67, 0.3), 0px 1px 3px 1px rgba(60, 64, 67, 0.15);\n",
              "      fill: #174EA6;\n",
              "    }\n",
              "\n",
              "    [theme=dark] .colab-df-convert {\n",
              "      background-color: #3B4455;\n",
              "      fill: #D2E3FC;\n",
              "    }\n",
              "\n",
              "    [theme=dark] .colab-df-convert:hover {\n",
              "      background-color: #434B5C;\n",
              "      box-shadow: 0px 1px 3px 1px rgba(0, 0, 0, 0.15);\n",
              "      filter: drop-shadow(0px 1px 2px rgba(0, 0, 0, 0.3));\n",
              "      fill: #FFFFFF;\n",
              "    }\n",
              "  </style>\n",
              "\n",
              "      <script>\n",
              "        const buttonEl =\n",
              "          document.querySelector('#df-e2369917-b55d-4998-b896-c1c1f00992d7 button.colab-df-convert');\n",
              "        buttonEl.style.display =\n",
              "          google.colab.kernel.accessAllowed ? 'block' : 'none';\n",
              "\n",
              "        async function convertToInteractive(key) {\n",
              "          const element = document.querySelector('#df-e2369917-b55d-4998-b896-c1c1f00992d7');\n",
              "          const dataTable =\n",
              "            await google.colab.kernel.invokeFunction('convertToInteractive',\n",
              "                                                     [key], {});\n",
              "          if (!dataTable) return;\n",
              "\n",
              "          const docLinkHtml = 'Like what you see? Visit the ' +\n",
              "            '<a target=\"_blank\" href=https://colab.research.google.com/notebooks/data_table.ipynb>data table notebook</a>'\n",
              "            + ' to learn more about interactive tables.';\n",
              "          element.innerHTML = '';\n",
              "          dataTable['output_type'] = 'display_data';\n",
              "          await google.colab.output.renderOutput(dataTable, element);\n",
              "          const docLink = document.createElement('div');\n",
              "          docLink.innerHTML = docLinkHtml;\n",
              "          element.appendChild(docLink);\n",
              "        }\n",
              "      </script>\n",
              "    </div>\n",
              "  </div>\n",
              "  "
            ]
          },
          "metadata": {},
          "execution_count": 56
        }
      ]
    },
    {
      "cell_type": "code",
      "metadata": {
        "colab": {
          "base_uri": "https://localhost:8080/",
          "height": 170
        },
        "id": "1Y_EkebIdj8G",
        "outputId": "45436070-ae50-4143-f4eb-2c1075a14353"
      },
      "source": [
        "#This will give you the first 4 rows of the first 3 columns.\n",
        "salary_df.iloc[0:4, 0:3]"
      ],
      "execution_count": null,
      "outputs": [
        {
          "output_type": "execute_result",
          "data": {
            "text/html": [
              "<div>\n",
              "<style scoped>\n",
              "    .dataframe tbody tr th:only-of-type {\n",
              "        vertical-align: middle;\n",
              "    }\n",
              "\n",
              "    .dataframe tbody tr th {\n",
              "        vertical-align: top;\n",
              "    }\n",
              "\n",
              "    .dataframe thead th {\n",
              "        text-align: right;\n",
              "    }\n",
              "</style>\n",
              "<table border=\"1\" class=\"dataframe\">\n",
              "  <thead>\n",
              "    <tr style=\"text-align: right;\">\n",
              "      <th></th>\n",
              "      <th>undergrad_major</th>\n",
              "      <th>starting_salary</th>\n",
              "      <th>midcareer_salary</th>\n",
              "    </tr>\n",
              "  </thead>\n",
              "  <tbody>\n",
              "    <tr>\n",
              "      <th>0</th>\n",
              "      <td>Accounting</td>\n",
              "      <td>46000.0</td>\n",
              "      <td>77100.0</td>\n",
              "    </tr>\n",
              "    <tr>\n",
              "      <th>1</th>\n",
              "      <td>Aerospace Engineering</td>\n",
              "      <td>57700.0</td>\n",
              "      <td>101000.0</td>\n",
              "    </tr>\n",
              "    <tr>\n",
              "      <th>2</th>\n",
              "      <td>Agriculture</td>\n",
              "      <td>42600.0</td>\n",
              "      <td>71900.0</td>\n",
              "    </tr>\n",
              "    <tr>\n",
              "      <th>3</th>\n",
              "      <td>Anthropology</td>\n",
              "      <td>36800.0</td>\n",
              "      <td>61500.0</td>\n",
              "    </tr>\n",
              "  </tbody>\n",
              "</table>\n",
              "</div>"
            ],
            "text/plain": [
              "          undergrad_major  starting_salary  midcareer_salary\n",
              "0             Accounting           46000.0           77100.0\n",
              "1  Aerospace Engineering           57700.0          101000.0\n",
              "2            Agriculture           42600.0           71900.0\n",
              "3           Anthropology           36800.0           61500.0"
            ]
          },
          "metadata": {},
          "execution_count": 60
        }
      ]
    },
    {
      "cell_type": "markdown",
      "metadata": {
        "id": "UNBYjLUeeYP8"
      },
      "source": [
        "You can also subset dataframes using comparison operators like > and =. This allows you to select values in a column that match a particular condition."
      ]
    },
    {
      "cell_type": "code",
      "metadata": {
        "colab": {
          "base_uri": "https://localhost:8080/",
          "height": 236
        },
        "id": "V33e1LcBeiNF",
        "outputId": "83378c45-e6e4-4100-f163-8f684507baba"
      },
      "source": [
        "#This will show values in your dataframe for which the midcareer salary is greater than $30,000.\n",
        "salary_df[salary_df[\"midcareer_salary\"] > 30000].head(5)"
      ],
      "execution_count": null,
      "outputs": [
        {
          "output_type": "execute_result",
          "data": {
            "text/html": [
              "<div>\n",
              "<style scoped>\n",
              "    .dataframe tbody tr th:only-of-type {\n",
              "        vertical-align: middle;\n",
              "    }\n",
              "\n",
              "    .dataframe tbody tr th {\n",
              "        vertical-align: top;\n",
              "    }\n",
              "\n",
              "    .dataframe thead th {\n",
              "        text-align: right;\n",
              "    }\n",
              "</style>\n",
              "<table border=\"1\" class=\"dataframe\">\n",
              "  <thead>\n",
              "    <tr style=\"text-align: right;\">\n",
              "      <th></th>\n",
              "      <th>undergrad_major</th>\n",
              "      <th>starting_salary</th>\n",
              "      <th>midcareer_salary</th>\n",
              "      <th>percent_change_starting</th>\n",
              "      <th>midcareer_tenth_percentile</th>\n",
              "      <th>midcareer_twentyfifth_percentile</th>\n",
              "      <th>midcareer_seventyfifth_percentile</th>\n",
              "      <th>midcareer_nintieth_percentile</th>\n",
              "    </tr>\n",
              "  </thead>\n",
              "  <tbody>\n",
              "    <tr>\n",
              "      <th>0</th>\n",
              "      <td>Accounting</td>\n",
              "      <td>46000.0</td>\n",
              "      <td>77100.0</td>\n",
              "      <td>67.6</td>\n",
              "      <td>42200.0</td>\n",
              "      <td>56100.0</td>\n",
              "      <td>108000.0</td>\n",
              "      <td>152000.0</td>\n",
              "    </tr>\n",
              "    <tr>\n",
              "      <th>1</th>\n",
              "      <td>Aerospace Engineering</td>\n",
              "      <td>57700.0</td>\n",
              "      <td>101000.0</td>\n",
              "      <td>75.0</td>\n",
              "      <td>64300.0</td>\n",
              "      <td>82100.0</td>\n",
              "      <td>127000.0</td>\n",
              "      <td>161000.0</td>\n",
              "    </tr>\n",
              "    <tr>\n",
              "      <th>2</th>\n",
              "      <td>Agriculture</td>\n",
              "      <td>42600.0</td>\n",
              "      <td>71900.0</td>\n",
              "      <td>68.8</td>\n",
              "      <td>36300.0</td>\n",
              "      <td>52100.0</td>\n",
              "      <td>96300.0</td>\n",
              "      <td>150000.0</td>\n",
              "    </tr>\n",
              "    <tr>\n",
              "      <th>3</th>\n",
              "      <td>Anthropology</td>\n",
              "      <td>36800.0</td>\n",
              "      <td>61500.0</td>\n",
              "      <td>67.1</td>\n",
              "      <td>33800.0</td>\n",
              "      <td>45500.0</td>\n",
              "      <td>89300.0</td>\n",
              "      <td>138000.0</td>\n",
              "    </tr>\n",
              "    <tr>\n",
              "      <th>4</th>\n",
              "      <td>Architecture</td>\n",
              "      <td>41600.0</td>\n",
              "      <td>76800.0</td>\n",
              "      <td>84.6</td>\n",
              "      <td>50600.0</td>\n",
              "      <td>62200.0</td>\n",
              "      <td>97000.0</td>\n",
              "      <td>136000.0</td>\n",
              "    </tr>\n",
              "  </tbody>\n",
              "</table>\n",
              "</div>"
            ],
            "text/plain": [
              "          undergrad_major  ...  midcareer_nintieth_percentile\n",
              "0             Accounting   ...                       152000.0\n",
              "1  Aerospace Engineering   ...                       161000.0\n",
              "2            Agriculture   ...                       150000.0\n",
              "3           Anthropology   ...                       138000.0\n",
              "4           Architecture   ...                       136000.0\n",
              "\n",
              "[5 rows x 8 columns]"
            ]
          },
          "metadata": {},
          "execution_count": 61
        }
      ]
    },
    {
      "cell_type": "markdown",
      "metadata": {
        "id": "zzkVhp8yfRIM"
      },
      "source": [
        "Another way of doing this:"
      ]
    },
    {
      "cell_type": "code",
      "metadata": {
        "colab": {
          "base_uri": "https://localhost:8080/",
          "height": 268
        },
        "id": "J4QysCJMfFVD",
        "outputId": "3180e54a-f745-47a0-d705-58679d5607cf"
      },
      "source": [
        "#This will show values in your dataframe for which the starting salary is greater than $50,000.\n",
        "salary_df[salary_df.starting_salary > 50000].head(5)"
      ],
      "execution_count": null,
      "outputs": [
        {
          "output_type": "execute_result",
          "data": {
            "text/html": [
              "<div>\n",
              "<style scoped>\n",
              "    .dataframe tbody tr th:only-of-type {\n",
              "        vertical-align: middle;\n",
              "    }\n",
              "\n",
              "    .dataframe tbody tr th {\n",
              "        vertical-align: top;\n",
              "    }\n",
              "\n",
              "    .dataframe thead th {\n",
              "        text-align: right;\n",
              "    }\n",
              "</style>\n",
              "<table border=\"1\" class=\"dataframe\">\n",
              "  <thead>\n",
              "    <tr style=\"text-align: right;\">\n",
              "      <th></th>\n",
              "      <th>undergrad_major</th>\n",
              "      <th>starting_salary</th>\n",
              "      <th>midcareer_salary</th>\n",
              "      <th>percent_change_starting</th>\n",
              "      <th>midcareer_tenth_percentile</th>\n",
              "      <th>midcareer_twentyfifth_percentile</th>\n",
              "      <th>midcareer_seventyfifth_percentile</th>\n",
              "      <th>midcareer_nintieth_percentile</th>\n",
              "    </tr>\n",
              "  </thead>\n",
              "  <tbody>\n",
              "    <tr>\n",
              "      <th>1</th>\n",
              "      <td>Aerospace Engineering</td>\n",
              "      <td>57700.0</td>\n",
              "      <td>101000.0</td>\n",
              "      <td>75.0</td>\n",
              "      <td>64300.0</td>\n",
              "      <td>82100.0</td>\n",
              "      <td>127000.0</td>\n",
              "      <td>161000.0</td>\n",
              "    </tr>\n",
              "    <tr>\n",
              "      <th>8</th>\n",
              "      <td>Chemical Engineering</td>\n",
              "      <td>63200.0</td>\n",
              "      <td>107000.0</td>\n",
              "      <td>69.3</td>\n",
              "      <td>71900.0</td>\n",
              "      <td>87300.0</td>\n",
              "      <td>143000.0</td>\n",
              "      <td>194000.0</td>\n",
              "    </tr>\n",
              "    <tr>\n",
              "      <th>10</th>\n",
              "      <td>Civil Engineering</td>\n",
              "      <td>53900.0</td>\n",
              "      <td>90500.0</td>\n",
              "      <td>67.9</td>\n",
              "      <td>63400.0</td>\n",
              "      <td>75100.0</td>\n",
              "      <td>115000.0</td>\n",
              "      <td>148000.0</td>\n",
              "    </tr>\n",
              "    <tr>\n",
              "      <th>12</th>\n",
              "      <td>Computer Engineering</td>\n",
              "      <td>61400.0</td>\n",
              "      <td>105000.0</td>\n",
              "      <td>71.0</td>\n",
              "      <td>66100.0</td>\n",
              "      <td>84100.0</td>\n",
              "      <td>135000.0</td>\n",
              "      <td>162000.0</td>\n",
              "    </tr>\n",
              "    <tr>\n",
              "      <th>13</th>\n",
              "      <td>Computer Science</td>\n",
              "      <td>55900.0</td>\n",
              "      <td>95500.0</td>\n",
              "      <td>70.8</td>\n",
              "      <td>56000.0</td>\n",
              "      <td>74900.0</td>\n",
              "      <td>122000.0</td>\n",
              "      <td>154000.0</td>\n",
              "    </tr>\n",
              "  </tbody>\n",
              "</table>\n",
              "</div>"
            ],
            "text/plain": [
              "           undergrad_major  ...  midcareer_nintieth_percentile\n",
              "1   Aerospace Engineering   ...                       161000.0\n",
              "8    Chemical Engineering   ...                       194000.0\n",
              "10      Civil Engineering   ...                       148000.0\n",
              "12   Computer Engineering   ...                       162000.0\n",
              "13       Computer Science   ...                       154000.0\n",
              "\n",
              "[5 rows x 8 columns]"
            ]
          },
          "metadata": {},
          "execution_count": 62
        }
      ]
    },
    {
      "cell_type": "markdown",
      "metadata": {
        "id": "Q8COSnBBfnt8"
      },
      "source": [
        "You can also use logical operators to filter based on multiple conditions."
      ]
    },
    {
      "cell_type": "code",
      "metadata": {
        "colab": {
          "base_uri": "https://localhost:8080/",
          "height": 255
        },
        "id": "bE29sRGqfsCp",
        "outputId": "50238224-ad10-4510-f762-bc4cd731667e"
      },
      "source": [
        "#This will show values in your dataframe for which the starting salary is greater than $50,000 and midcareer salary is greater than $100,000.\n",
        "salary_df[(salary_df.starting_salary > 50000) & (salary_df.midcareer_salary > 100000)].head(5)"
      ],
      "execution_count": null,
      "outputs": [
        {
          "output_type": "execute_result",
          "data": {
            "text/html": [
              "<div>\n",
              "<style scoped>\n",
              "    .dataframe tbody tr th:only-of-type {\n",
              "        vertical-align: middle;\n",
              "    }\n",
              "\n",
              "    .dataframe tbody tr th {\n",
              "        vertical-align: top;\n",
              "    }\n",
              "\n",
              "    .dataframe thead th {\n",
              "        text-align: right;\n",
              "    }\n",
              "</style>\n",
              "<table border=\"1\" class=\"dataframe\">\n",
              "  <thead>\n",
              "    <tr style=\"text-align: right;\">\n",
              "      <th></th>\n",
              "      <th>undergrad_major</th>\n",
              "      <th>starting_salary</th>\n",
              "      <th>midcareer_salary</th>\n",
              "      <th>percent_change_starting</th>\n",
              "      <th>midcareer_tenth_percentile</th>\n",
              "      <th>midcareer_twentyfifth_percentile</th>\n",
              "      <th>midcareer_seventyfifth_percentile</th>\n",
              "      <th>midcareer_nintieth_percentile</th>\n",
              "    </tr>\n",
              "  </thead>\n",
              "  <tbody>\n",
              "    <tr>\n",
              "      <th>1</th>\n",
              "      <td>Aerospace Engineering</td>\n",
              "      <td>57700.0</td>\n",
              "      <td>101000.0</td>\n",
              "      <td>75.0</td>\n",
              "      <td>64300.0</td>\n",
              "      <td>82100.0</td>\n",
              "      <td>127000.0</td>\n",
              "      <td>161000.0</td>\n",
              "    </tr>\n",
              "    <tr>\n",
              "      <th>8</th>\n",
              "      <td>Chemical Engineering</td>\n",
              "      <td>63200.0</td>\n",
              "      <td>107000.0</td>\n",
              "      <td>69.3</td>\n",
              "      <td>71900.0</td>\n",
              "      <td>87300.0</td>\n",
              "      <td>143000.0</td>\n",
              "      <td>194000.0</td>\n",
              "    </tr>\n",
              "    <tr>\n",
              "      <th>12</th>\n",
              "      <td>Computer Engineering</td>\n",
              "      <td>61400.0</td>\n",
              "      <td>105000.0</td>\n",
              "      <td>71.0</td>\n",
              "      <td>66100.0</td>\n",
              "      <td>84100.0</td>\n",
              "      <td>135000.0</td>\n",
              "      <td>162000.0</td>\n",
              "    </tr>\n",
              "    <tr>\n",
              "      <th>19</th>\n",
              "      <td>Electrical Engineering</td>\n",
              "      <td>60900.0</td>\n",
              "      <td>103000.0</td>\n",
              "      <td>69.1</td>\n",
              "      <td>69300.0</td>\n",
              "      <td>83800.0</td>\n",
              "      <td>130000.0</td>\n",
              "      <td>168000.0</td>\n",
              "    </tr>\n",
              "  </tbody>\n",
              "</table>\n",
              "</div>"
            ],
            "text/plain": [
              "            undergrad_major  ...  midcareer_nintieth_percentile\n",
              "1    Aerospace Engineering   ...                       161000.0\n",
              "8     Chemical Engineering   ...                       194000.0\n",
              "12    Computer Engineering   ...                       162000.0\n",
              "19  Electrical Engineering   ...                       168000.0\n",
              "\n",
              "[4 rows x 8 columns]"
            ]
          },
          "metadata": {},
          "execution_count": 63
        }
      ]
    },
    {
      "cell_type": "markdown",
      "metadata": {
        "id": "1c_kGnt6gHc6"
      },
      "source": [
        "# **Resources**\n",
        "\n",
        "1. [NumPy Official Website](https://numpy.org/)\n",
        "2. [List of NumPy Math Functions](https://numpy.org/doc/stable/reference/routines.math.html)\n",
        "3. [Official Pandas Website](https://pandas.pydata.org/)"
      ]
    },
    {
      "cell_type": "markdown",
      "metadata": {
        "id": "2iN4anqImRJd"
      },
      "source": [
        "# **Project Tasks**\n",
        "\n",
        "We will mainly be working with 2 datasets for the final project. The first one is a dataset with information on tweets about the COVID-19 vaccination across the world. The second one is a dataset tracking the progress different countries made towards vaccinating people.\n",
        "\n",
        "1. Open these links and download the 2 datasets.\n",
        "\n",
        "  - [COVID-19 All Vaccines Tweets](https://www.kaggle.com/gpreda/all-covid19-vaccines-tweets)\n",
        "  - [COVID-19 World Vaccination Progress](https://www.kaggle.com/gpreda/covid-world-vaccination-progress)\n",
        "\n",
        "2. Upload these datasets on Python as dataframes (either using the method we discussed in this lab or some other method you find easier).\n",
        "\n",
        "3. Explore the dataset using dataframe summary functions: .info(), .shape, .columns. You could also look at the data types of the values of different columns to see if they make sense.\n",
        "\n",
        "4. Although these datasets are already cleaned, can you think of more ways of cleaning the dataset?\n",
        "\n",
        "5. Your final project will be focused on one idea/topic you want to explore. It's useful to start thinking about what you would like to work on! \n",
        "\n",
        "  Look at the datasets and come up with 2-3 ideas you would like to work on for your final project. For example, one potentially interesting project idea is to see if there's any correlation between sentiments and vaccination rate. This is just for brainstorming – you don't have to finalize any ideas yet. \n",
        "\n",
        "  You can also do some background research on the topic to come up with ideas. Some useful links to check out if you're interested:\n",
        "\n",
        "    - [Sentiment Analysis of COVID-19 Vaccine Tweets Using Machine Learning](https://papers.ssrn.com/sol3/papers.cfm?abstract_id=3869531)\n",
        "    - [Tweet Topics and Sentiments Relating to COVID-19 Vaccination Among Australian Twitter Users](https://pubmed.ncbi.nlm.nih.gov/33886492/)\n",
        "    - [Insight from NLP Analysis](https://arxiv.org/pdf/2106.04081.pdf)\n",
        "    - [An analysis of COVID-19 vaccine sentiments and opinions on Twitter](https://www.ijidonline.com/article/S1201-9712(21)00462-8/fulltext)\n",
        "\n",
        "  "
      ]
    },
    {
      "cell_type": "markdown",
      "metadata": {
        "id": "HieR7oPW7JQ_"
      },
      "source": [
        "## Written by Vaidehi Bulusu (edited by Akira and Ramisha)\n",
        "\n",
        "---"
      ]
    },
    {
      "cell_type": "code",
      "source": [],
      "metadata": {
        "id": "jCp1n6c6HpHK"
      },
      "execution_count": null,
      "outputs": []
    }
  ]
}