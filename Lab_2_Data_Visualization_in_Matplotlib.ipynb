{
  "nbformat": 4,
  "nbformat_minor": 0,
  "metadata": {
    "colab": {
      "provenance": [],
      "collapsed_sections": []
    },
    "kernelspec": {
      "name": "python3",
      "display_name": "Python 3"
    },
    "language_info": {
      "name": "python"
    }
  },
  "cells": [
    {
      "cell_type": "markdown",
      "metadata": {
        "id": "xDiY_CWvPwQC"
      },
      "source": [
        "# **Data Visualization**\n",
        "\n",
        "Data visualization refers to representing data using graphics such as charts and maps. It is a really important part of data analysis as it allows you to identify patterns in your data and draw conclusions. It also makes it easier to communicate your data.\n",
        "\n",
        "For this project, we will learn 2 popular Python libraries for data visualization: Matplotlib and Seaborn.\n"
      ]
    },
    {
      "cell_type": "markdown",
      "metadata": {
        "id": "yLaNq_flGz4v"
      },
      "source": [
        "# **Matplotlib**\n",
        "\n",
        "<img src='https://machinelearningapplied.com/wp-content/uploads/2019/10/matplotlib_logo.png'>\n",
        "\n",
        "Matplotlib is a library in Python used for data visualization. It allows you to create different types of plots and also gives you various options for customizing your graphics. You can use it to create both static and interactive visualizations (though in this lab we will be focusing on creating static visualizations). If you have any questions or run into any issues, you can refer to the extensive documentation on the Matplotlib website.\n",
        "\n",
        "Note that there are various sub-libraries within the Matplotlib library. The one we will be using is called Pyplot. Hence, when we are importing Matplotlib, we have to specify which sub-library we want to import:\n",
        "\n"
      ]
    },
    {
      "cell_type": "code",
      "metadata": {
        "id": "0Z5YYdNuKKVg"
      },
      "source": [
        "#Importing Pyplot from Matplotlib\n",
        "import matplotlib.pyplot as plt"
      ],
      "execution_count": null,
      "outputs": []
    },
    {
      "cell_type": "markdown",
      "metadata": {
        "id": "nU4NDMZVKR-T"
      },
      "source": [
        "We also have to make sure to import other necessary libraries before we start coding:"
      ]
    },
    {
      "cell_type": "code",
      "metadata": {
        "id": "-PSB3AZvKV6Z"
      },
      "source": [
        "import numpy as np\n",
        "import pandas as pd\n",
        "import seaborn as sns"
      ],
      "execution_count": null,
      "outputs": []
    },
    {
      "cell_type": "markdown",
      "metadata": {
        "id": "KkpLh8hMKcpN"
      },
      "source": [
        "**Question 1:** Can you think of another way of importing Pyplot? (Hint: It saves you the need to name the library.)"
      ]
    },
    {
      "cell_type": "markdown",
      "metadata": {
        "id": "uUyaN5skLaay"
      },
      "source": [
        "## **Creating Visualizations**\n",
        "\n",
        "There are so many plots and types of visualizations you can create in Matplotlib but today, we'll focus on 6 visualizations:\n",
        "\n",
        "- Bar chart\n",
        "- Pie chart\n",
        "- Line chart\n",
        "- Histogram\n",
        "- Scatter plot\n",
        "- Boxplot\n"
      ]
    },
    {
      "cell_type": "markdown",
      "metadata": {
        "id": "_jjlkHjwNZFZ"
      },
      "source": [
        "### **Bar Chart**\n",
        "\n",
        "A bar chart is used for visualizing the distribution of a categorical variable. It can either be vertical or horizontal. In a vertical bar chart, the categories (e.g. freshman, sophomore, junior, senior) is on the x-axis and the measure of frequency (e.g. number, frequency density, percentage) is on the y-axis. This is reversed in a horizontal bar chart. The type of bar chart you should use is a matter of convenience.\n",
        "\n",
        "This is how you can create a bar chart using Matplotlib. Seaborn is a library in Python used for data visualization but it also has various built-in datasets (see the list of all built-in datasets [here](https://github.com/mwaskom/seaborn-data)). We start by importing one of these built-in datasets, a dataset named `tips`."
      ]
    },
    {
      "cell_type": "code",
      "metadata": {
        "colab": {
          "base_uri": "https://localhost:8080/",
          "height": 206
        },
        "id": "Za2pRmqrQUv3",
        "outputId": "e89395b5-9449-4449-ebcc-fb9c058a8d71"
      },
      "source": [
        "#Importing a built-in dataset\n",
        "tips_df = sns.load_dataset('tips')\n",
        "tips_df.head(5)"
      ],
      "execution_count": null,
      "outputs": [
        {
          "output_type": "execute_result",
          "data": {
            "text/plain": [
              "   total_bill   tip     sex smoker  day    time  size\n",
              "0       16.99  1.01  Female     No  Sun  Dinner     2\n",
              "1       10.34  1.66    Male     No  Sun  Dinner     3\n",
              "2       21.01  3.50    Male     No  Sun  Dinner     3\n",
              "3       23.68  3.31    Male     No  Sun  Dinner     2\n",
              "4       24.59  3.61  Female     No  Sun  Dinner     4"
            ],
            "text/html": [
              "\n",
              "  <div id=\"df-a9cd97e6-68b6-44a6-9522-0ed3da40ec0f\">\n",
              "    <div class=\"colab-df-container\">\n",
              "      <div>\n",
              "<style scoped>\n",
              "    .dataframe tbody tr th:only-of-type {\n",
              "        vertical-align: middle;\n",
              "    }\n",
              "\n",
              "    .dataframe tbody tr th {\n",
              "        vertical-align: top;\n",
              "    }\n",
              "\n",
              "    .dataframe thead th {\n",
              "        text-align: right;\n",
              "    }\n",
              "</style>\n",
              "<table border=\"1\" class=\"dataframe\">\n",
              "  <thead>\n",
              "    <tr style=\"text-align: right;\">\n",
              "      <th></th>\n",
              "      <th>total_bill</th>\n",
              "      <th>tip</th>\n",
              "      <th>sex</th>\n",
              "      <th>smoker</th>\n",
              "      <th>day</th>\n",
              "      <th>time</th>\n",
              "      <th>size</th>\n",
              "    </tr>\n",
              "  </thead>\n",
              "  <tbody>\n",
              "    <tr>\n",
              "      <th>0</th>\n",
              "      <td>16.99</td>\n",
              "      <td>1.01</td>\n",
              "      <td>Female</td>\n",
              "      <td>No</td>\n",
              "      <td>Sun</td>\n",
              "      <td>Dinner</td>\n",
              "      <td>2</td>\n",
              "    </tr>\n",
              "    <tr>\n",
              "      <th>1</th>\n",
              "      <td>10.34</td>\n",
              "      <td>1.66</td>\n",
              "      <td>Male</td>\n",
              "      <td>No</td>\n",
              "      <td>Sun</td>\n",
              "      <td>Dinner</td>\n",
              "      <td>3</td>\n",
              "    </tr>\n",
              "    <tr>\n",
              "      <th>2</th>\n",
              "      <td>21.01</td>\n",
              "      <td>3.50</td>\n",
              "      <td>Male</td>\n",
              "      <td>No</td>\n",
              "      <td>Sun</td>\n",
              "      <td>Dinner</td>\n",
              "      <td>3</td>\n",
              "    </tr>\n",
              "    <tr>\n",
              "      <th>3</th>\n",
              "      <td>23.68</td>\n",
              "      <td>3.31</td>\n",
              "      <td>Male</td>\n",
              "      <td>No</td>\n",
              "      <td>Sun</td>\n",
              "      <td>Dinner</td>\n",
              "      <td>2</td>\n",
              "    </tr>\n",
              "    <tr>\n",
              "      <th>4</th>\n",
              "      <td>24.59</td>\n",
              "      <td>3.61</td>\n",
              "      <td>Female</td>\n",
              "      <td>No</td>\n",
              "      <td>Sun</td>\n",
              "      <td>Dinner</td>\n",
              "      <td>4</td>\n",
              "    </tr>\n",
              "  </tbody>\n",
              "</table>\n",
              "</div>\n",
              "      <button class=\"colab-df-convert\" onclick=\"convertToInteractive('df-a9cd97e6-68b6-44a6-9522-0ed3da40ec0f')\"\n",
              "              title=\"Convert this dataframe to an interactive table.\"\n",
              "              style=\"display:none;\">\n",
              "        \n",
              "  <svg xmlns=\"http://www.w3.org/2000/svg\" height=\"24px\"viewBox=\"0 0 24 24\"\n",
              "       width=\"24px\">\n",
              "    <path d=\"M0 0h24v24H0V0z\" fill=\"none\"/>\n",
              "    <path d=\"M18.56 5.44l.94 2.06.94-2.06 2.06-.94-2.06-.94-.94-2.06-.94 2.06-2.06.94zm-11 1L8.5 8.5l.94-2.06 2.06-.94-2.06-.94L8.5 2.5l-.94 2.06-2.06.94zm10 10l.94 2.06.94-2.06 2.06-.94-2.06-.94-.94-2.06-.94 2.06-2.06.94z\"/><path d=\"M17.41 7.96l-1.37-1.37c-.4-.4-.92-.59-1.43-.59-.52 0-1.04.2-1.43.59L10.3 9.45l-7.72 7.72c-.78.78-.78 2.05 0 2.83L4 21.41c.39.39.9.59 1.41.59.51 0 1.02-.2 1.41-.59l7.78-7.78 2.81-2.81c.8-.78.8-2.07 0-2.86zM5.41 20L4 18.59l7.72-7.72 1.47 1.35L5.41 20z\"/>\n",
              "  </svg>\n",
              "      </button>\n",
              "      \n",
              "  <style>\n",
              "    .colab-df-container {\n",
              "      display:flex;\n",
              "      flex-wrap:wrap;\n",
              "      gap: 12px;\n",
              "    }\n",
              "\n",
              "    .colab-df-convert {\n",
              "      background-color: #E8F0FE;\n",
              "      border: none;\n",
              "      border-radius: 50%;\n",
              "      cursor: pointer;\n",
              "      display: none;\n",
              "      fill: #1967D2;\n",
              "      height: 32px;\n",
              "      padding: 0 0 0 0;\n",
              "      width: 32px;\n",
              "    }\n",
              "\n",
              "    .colab-df-convert:hover {\n",
              "      background-color: #E2EBFA;\n",
              "      box-shadow: 0px 1px 2px rgba(60, 64, 67, 0.3), 0px 1px 3px 1px rgba(60, 64, 67, 0.15);\n",
              "      fill: #174EA6;\n",
              "    }\n",
              "\n",
              "    [theme=dark] .colab-df-convert {\n",
              "      background-color: #3B4455;\n",
              "      fill: #D2E3FC;\n",
              "    }\n",
              "\n",
              "    [theme=dark] .colab-df-convert:hover {\n",
              "      background-color: #434B5C;\n",
              "      box-shadow: 0px 1px 3px 1px rgba(0, 0, 0, 0.15);\n",
              "      filter: drop-shadow(0px 1px 2px rgba(0, 0, 0, 0.3));\n",
              "      fill: #FFFFFF;\n",
              "    }\n",
              "  </style>\n",
              "\n",
              "      <script>\n",
              "        const buttonEl =\n",
              "          document.querySelector('#df-a9cd97e6-68b6-44a6-9522-0ed3da40ec0f button.colab-df-convert');\n",
              "        buttonEl.style.display =\n",
              "          google.colab.kernel.accessAllowed ? 'block' : 'none';\n",
              "\n",
              "        async function convertToInteractive(key) {\n",
              "          const element = document.querySelector('#df-a9cd97e6-68b6-44a6-9522-0ed3da40ec0f');\n",
              "          const dataTable =\n",
              "            await google.colab.kernel.invokeFunction('convertToInteractive',\n",
              "                                                     [key], {});\n",
              "          if (!dataTable) return;\n",
              "\n",
              "          const docLinkHtml = 'Like what you see? Visit the ' +\n",
              "            '<a target=\"_blank\" href=https://colab.research.google.com/notebooks/data_table.ipynb>data table notebook</a>'\n",
              "            + ' to learn more about interactive tables.';\n",
              "          element.innerHTML = '';\n",
              "          dataTable['output_type'] = 'display_data';\n",
              "          await google.colab.output.renderOutput(dataTable, element);\n",
              "          const docLink = document.createElement('div');\n",
              "          docLink.innerHTML = docLinkHtml;\n",
              "          element.appendChild(docLink);\n",
              "        }\n",
              "      </script>\n",
              "    </div>\n",
              "  </div>\n",
              "  "
            ]
          },
          "metadata": {},
          "execution_count": 5
        }
      ]
    },
    {
      "cell_type": "markdown",
      "metadata": {
        "id": "cpSHdJzcRJe5"
      },
      "source": [
        "To create a bar chart, we need 2 arrays:\n",
        "\n",
        "- An array of the unique values of the categories\n",
        "- An array of the frequency measure of these categories\n",
        "\n",
        "Say we wanted to visualize the distribution of the `day` variable. The first step is to create the two arrays we need.\n"
      ]
    },
    {
      "cell_type": "code",
      "metadata": {
        "colab": {
          "base_uri": "https://localhost:8080/"
        },
        "id": "QtzhO_3XRwrC",
        "outputId": "5cc42d26-1b00-410c-a939-12918c7fae76"
      },
      "source": [
        "day_value_counts = tips_df[\"day\"].value_counts()\n",
        "day_value_counts"
      ],
      "execution_count": null,
      "outputs": [
        {
          "output_type": "execute_result",
          "data": {
            "text/plain": [
              "Sat     87\n",
              "Sun     76\n",
              "Thur    62\n",
              "Fri     19\n",
              "Name: day, dtype: int64"
            ]
          },
          "metadata": {},
          "execution_count": 6
        }
      ]
    },
    {
      "cell_type": "code",
      "metadata": {
        "colab": {
          "base_uri": "https://localhost:8080/"
        },
        "id": "bAubmAVmSH5M",
        "outputId": "ce88268d-19fc-48cb-dec6-0b621f4a6a0d"
      },
      "source": [
        "#Array of categories\n",
        "day_names = day_value_counts.index\n",
        "day_names"
      ],
      "execution_count": null,
      "outputs": [
        {
          "output_type": "execute_result",
          "data": {
            "text/plain": [
              "CategoricalIndex(['Sat', 'Sun', 'Thur', 'Fri'], categories=['Thur', 'Fri', 'Sat', 'Sun'], ordered=False, dtype='category')"
            ]
          },
          "metadata": {},
          "execution_count": 7
        }
      ]
    },
    {
      "cell_type": "code",
      "metadata": {
        "colab": {
          "base_uri": "https://localhost:8080/"
        },
        "id": "-Stcet_nSpiQ",
        "outputId": "ec6bb193-6a16-4ba1-d491-3a91ae335929"
      },
      "source": [
        "#Array of values\n",
        "day_values = day_value_counts.values\n",
        "day_values"
      ],
      "execution_count": null,
      "outputs": [
        {
          "output_type": "execute_result",
          "data": {
            "text/plain": [
              "array([87, 76, 62, 19])"
            ]
          },
          "metadata": {},
          "execution_count": 8
        }
      ]
    },
    {
      "cell_type": "markdown",
      "metadata": {
        "id": "U3NVILWYS3TW"
      },
      "source": [
        "Now we can create the bar chart in Matplotlib:"
      ]
    },
    {
      "cell_type": "code",
      "metadata": {
        "colab": {
          "base_uri": "https://localhost:8080/",
          "height": 265
        },
        "id": "y3w1pvYnS6Mg",
        "outputId": "b5b6e1a7-7000-4caa-b55a-1df42c6eb8bc"
      },
      "source": [
        "#Vertical bar chart\n",
        "plt.bar(x = day_names, height = day_values)\n",
        "plt.show()\n",
        "#This removes unnecesary text – more on this later."
      ],
      "execution_count": null,
      "outputs": [
        {
          "output_type": "display_data",
          "data": {
            "text/plain": [
              "<Figure size 432x288 with 1 Axes>"
            ],
            "image/png": "[encoded data removed]"
          },
          "metadata": {
            "needs_background": "light"
          }
        }
      ]
    },
    {
      "cell_type": "code",
      "metadata": {
        "colab": {
          "base_uri": "https://localhost:8080/",
          "height": 265
        },
        "id": "ANhGOMFWS-B5",
        "outputId": "5f8a9620-ba4e-482a-eee9-46001d36aeb4"
      },
      "source": [
        "#Horizontal bar chart\n",
        "plt.barh(day_names, day_values)\n",
        "plt.show()"
      ],
      "execution_count": null,
      "outputs": [
        {
          "output_type": "display_data",
          "data": {
            "text/plain": [
              "<Figure size 432x288 with 1 Axes>"
            ],
            "image/png": "[encoded data removed]"
          },
          "metadata": {
            "needs_background": "light"
          }
        }
      ]
    },
    {
      "cell_type": "markdown",
      "metadata": {
        "id": "1UoUm2TkTAwi"
      },
      "source": [
        "You can customize your bar chart by changing its color, borders, etc. See the [documentation](https://matplotlib.org/stable/api/_as_gen/matplotlib.pyplot.bar.html) for the full list of customizations and [this link](https://matplotlib.org/stable/gallery/color/named_colors.html) for a list of all the colors you can use in Matplotlib."
      ]
    },
    {
      "cell_type": "code",
      "metadata": {
        "colab": {
          "base_uri": "https://localhost:8080/",
          "height": 265
        },
        "id": "ujzr32fzTZs0",
        "outputId": "04184423-a3f0-47b0-b229-afe2a009515f"
      },
      "source": [
        "plt.bar(x = day_names, height = day_values, color = [\"darkseagreen\", \"lightblue\"], edgecolor = \"cadetblue\", linewidth = 2)\n",
        "plt.show()"
      ],
      "execution_count": null,
      "outputs": [
        {
          "output_type": "display_data",
          "data": {
            "text/plain": [
              "<Figure size 432x288 with 1 Axes>"
            ],
            "image/png": "[encoded data removed]"
          },
          "metadata": {
            "needs_background": "light"
          }
        }
      ]
    },
    {
      "cell_type": "code",
      "metadata": {
        "colab": {
          "base_uri": "https://localhost:8080/"
        },
        "id": "gcY3OatRTbi4",
        "outputId": "b4deb5c2-2213-44e5-f374-18fd0b9a2ecc"
      },
      "source": [
        "plt.barh(y = day_names, width = day_values, color = [\"darkseagreen\", \"lightblue\"], edgecolor = \"cadetblue\", linewidth = 2)\n",
        "plt.show()"
      ],
      "execution_count": null,
      "outputs": [
        {
          "output_type": "display_data",
          "data": {
            "image/png": "[encoded data removed]",
            "text/plain": [
              "<Figure size 432x288 with 1 Axes>"
            ]
          },
          "metadata": {
            "needs_background": "light"
          }
        }
      ]
    },
    {
      "cell_type": "markdown",
      "metadata": {
        "id": "II_aUikkUHbR"
      },
      "source": [
        "**Question 2:** Pick another categorical variable from `tips_df` and create a bar chart to show its distribution."
      ]
    },
    {
      "cell_type": "markdown",
      "metadata": {
        "id": "foiQ04WEY6q-"
      },
      "source": [
        "### **Pie Chart**\n",
        "\n",
        "A pie chart is similar to a bar chart in that it's used for visualizing the distribution of a categorical variable. It gives you a better visual sense of the relative proportions of each category. However, it's not very useful when there are a lot of categories.\n",
        "\n",
        "To create a pie chart, you only have to specify the array of categories."
      ]
    },
    {
      "cell_type": "code",
      "metadata": {
        "colab": {
          "base_uri": "https://localhost:8080/"
        },
        "id": "rvjI3wb4aahH",
        "outputId": "946ccfcf-23fe-416a-dafe-4f2f8e058d77"
      },
      "source": [
        "plt.pie(x = day_values)\n",
        "plt.show()"
      ],
      "execution_count": null,
      "outputs": [
        {
          "output_type": "display_data",
          "data": {
            "image/png": "[encoded data removed]",
            "text/plain": [
              "<Figure size 432x288 with 1 Axes>"
            ]
          },
          "metadata": {}
        }
      ]
    },
    {
      "cell_type": "markdown",
      "metadata": {
        "id": "ij_4CeHlade0"
      },
      "source": [
        "You can customize your pie chart by adding labels, changing colors, etc. (full list [here](https://matplotlib.org/stable/api/_as_gen/matplotlib.pyplot.pie.html)):"
      ]
    },
    {
      "cell_type": "code",
      "metadata": {
        "colab": {
          "base_uri": "https://localhost:8080/"
        },
        "id": "f8bMH5O1acDa",
        "outputId": "666a79d5-f6ed-4d0c-ef56-a5049a04bc0b"
      },
      "source": [
        "plt.pie(x = day_values, labels = day_names, colors = [\"lightseagreen\", \"teal\"], shadow = True)\n",
        "plt.show()"
      ],
      "execution_count": null,
      "outputs": [
        {
          "output_type": "display_data",
          "data": {
            "image/png": "[encoded data removed]",
            "text/plain": [
              "<Figure size 432x288 with 1 Axes>"
            ]
          },
          "metadata": {}
        }
      ]
    },
    {
      "cell_type": "markdown",
      "metadata": {
        "id": "Oq43WPRiauu-"
      },
      "source": [
        "**Question 3:** Use a pie chart to visualize the categorical variable you chose in question 2."
      ]
    },
    {
      "cell_type": "markdown",
      "metadata": {
        "id": "zcTZqcrcTu-5"
      },
      "source": [
        "### **Line Chart**\n",
        "\n",
        "A line chart is used for visualizing trends and patterns in a numerical variable (e.g. the number of people enrolled in a class). It's best used for showing how a numerical variable changes over time.\n",
        "\n",
        "To create a line chart, we need 2 arrays:\n",
        "\n",
        "- An array of the values of the numerical variable\n",
        "- An array of the categories (e.g. time periods)\n",
        "\n",
        "For this example, we will be using another built-in dataset called `flights`. Say we wanted to see how the total number of flight passengers changed across the years. The first step is to create these 2 arrays."
      ]
    },
    {
      "cell_type": "code",
      "metadata": {
        "colab": {
          "base_uri": "https://localhost:8080/"
        },
        "id": "ulRjM8OOV7mY",
        "outputId": "a6e6a34c-29fb-4f86-d246-650dddb3fbf4"
      },
      "source": [
        "#Importing the dataset\n",
        "flights_df = sns.load_dataset('flights')\n",
        "flights_df.head(5)"
      ],
      "execution_count": null,
      "outputs": [
        {
          "output_type": "execute_result",
          "data": {
            "text/html": [
              "<div>\n",
              "<style scoped>\n",
              "    .dataframe tbody tr th:only-of-type {\n",
              "        vertical-align: middle;\n",
              "    }\n",
              "\n",
              "    .dataframe tbody tr th {\n",
              "        vertical-align: top;\n",
              "    }\n",
              "\n",
              "    .dataframe thead th {\n",
              "        text-align: right;\n",
              "    }\n",
              "</style>\n",
              "<table border=\"1\" class=\"dataframe\">\n",
              "  <thead>\n",
              "    <tr style=\"text-align: right;\">\n",
              "      <th></th>\n",
              "      <th>year</th>\n",
              "      <th>month</th>\n",
              "      <th>passengers</th>\n",
              "    </tr>\n",
              "  </thead>\n",
              "  <tbody>\n",
              "    <tr>\n",
              "      <th>0</th>\n",
              "      <td>1949</td>\n",
              "      <td>Jan</td>\n",
              "      <td>112</td>\n",
              "    </tr>\n",
              "    <tr>\n",
              "      <th>1</th>\n",
              "      <td>1949</td>\n",
              "      <td>Feb</td>\n",
              "      <td>118</td>\n",
              "    </tr>\n",
              "    <tr>\n",
              "      <th>2</th>\n",
              "      <td>1949</td>\n",
              "      <td>Mar</td>\n",
              "      <td>132</td>\n",
              "    </tr>\n",
              "    <tr>\n",
              "      <th>3</th>\n",
              "      <td>1949</td>\n",
              "      <td>Apr</td>\n",
              "      <td>129</td>\n",
              "    </tr>\n",
              "    <tr>\n",
              "      <th>4</th>\n",
              "      <td>1949</td>\n",
              "      <td>May</td>\n",
              "      <td>121</td>\n",
              "    </tr>\n",
              "  </tbody>\n",
              "</table>\n",
              "</div>"
            ],
            "text/plain": [
              "   year month  passengers\n",
              "0  1949   Jan         112\n",
              "1  1949   Feb         118\n",
              "2  1949   Mar         132\n",
              "3  1949   Apr         129\n",
              "4  1949   May         121"
            ]
          },
          "metadata": {},
          "execution_count": 17
        }
      ]
    },
    {
      "cell_type": "markdown",
      "metadata": {
        "id": "Fz9bJfS1WBgC"
      },
      "source": [
        "To get the information we want, we have to group the years based on the sum of passengers. If you've taken DATA 8, you may recognize that we can use the `group()` function to do this.\n",
        "\n",
        "```\n",
        "flights_df.group(\"year\", sum).select(\"year\", \"passengers sum\")\n",
        "```\n",
        "\n",
        "This is what we're doing below, except using built-in Python functions rather than functions from the datascience library:"
      ]
    },
    {
      "cell_type": "code",
      "metadata": {
        "colab": {
          "base_uri": "https://localhost:8080/"
        },
        "id": "dxgt3jvtWAEh",
        "outputId": "d36584a8-eb92-4dd8-ac8d-7bfaf5fc978f"
      },
      "source": [
        "flights_grouped = flights_df.groupby(\"year\").sum()\n",
        "flights_grouped"
      ],
      "execution_count": null,
      "outputs": [
        {
          "output_type": "execute_result",
          "data": {
            "text/html": [
              "<div>\n",
              "<style scoped>\n",
              "    .dataframe tbody tr th:only-of-type {\n",
              "        vertical-align: middle;\n",
              "    }\n",
              "\n",
              "    .dataframe tbody tr th {\n",
              "        vertical-align: top;\n",
              "    }\n",
              "\n",
              "    .dataframe thead th {\n",
              "        text-align: right;\n",
              "    }\n",
              "</style>\n",
              "<table border=\"1\" class=\"dataframe\">\n",
              "  <thead>\n",
              "    <tr style=\"text-align: right;\">\n",
              "      <th></th>\n",
              "      <th>passengers</th>\n",
              "    </tr>\n",
              "    <tr>\n",
              "      <th>year</th>\n",
              "      <th></th>\n",
              "    </tr>\n",
              "  </thead>\n",
              "  <tbody>\n",
              "    <tr>\n",
              "      <th>1949</th>\n",
              "      <td>1520</td>\n",
              "    </tr>\n",
              "    <tr>\n",
              "      <th>1950</th>\n",
              "      <td>1676</td>\n",
              "    </tr>\n",
              "    <tr>\n",
              "      <th>1951</th>\n",
              "      <td>2042</td>\n",
              "    </tr>\n",
              "    <tr>\n",
              "      <th>1952</th>\n",
              "      <td>2364</td>\n",
              "    </tr>\n",
              "    <tr>\n",
              "      <th>1953</th>\n",
              "      <td>2700</td>\n",
              "    </tr>\n",
              "    <tr>\n",
              "      <th>1954</th>\n",
              "      <td>2867</td>\n",
              "    </tr>\n",
              "    <tr>\n",
              "      <th>1955</th>\n",
              "      <td>3408</td>\n",
              "    </tr>\n",
              "    <tr>\n",
              "      <th>1956</th>\n",
              "      <td>3939</td>\n",
              "    </tr>\n",
              "    <tr>\n",
              "      <th>1957</th>\n",
              "      <td>4421</td>\n",
              "    </tr>\n",
              "    <tr>\n",
              "      <th>1958</th>\n",
              "      <td>4572</td>\n",
              "    </tr>\n",
              "    <tr>\n",
              "      <th>1959</th>\n",
              "      <td>5140</td>\n",
              "    </tr>\n",
              "    <tr>\n",
              "      <th>1960</th>\n",
              "      <td>5714</td>\n",
              "    </tr>\n",
              "  </tbody>\n",
              "</table>\n",
              "</div>"
            ],
            "text/plain": [
              "      passengers\n",
              "year            \n",
              "1949        1520\n",
              "1950        1676\n",
              "1951        2042\n",
              "1952        2364\n",
              "1953        2700\n",
              "1954        2867\n",
              "1955        3408\n",
              "1956        3939\n",
              "1957        4421\n",
              "1958        4572\n",
              "1959        5140\n",
              "1960        5714"
            ]
          },
          "metadata": {},
          "execution_count": 18
        }
      ]
    },
    {
      "cell_type": "markdown",
      "metadata": {
        "id": "onu6VkZfXzVE"
      },
      "source": [
        "Now we can just select these two columns to create arrays. Note that the first column is the index column."
      ]
    },
    {
      "cell_type": "code",
      "metadata": {
        "colab": {
          "base_uri": "https://localhost:8080/"
        },
        "id": "SugLh-OGX5-O",
        "outputId": "791f8320-3344-440f-e69c-376dbe41a49d"
      },
      "source": [
        "years = flights_grouped.index\n",
        "years"
      ],
      "execution_count": null,
      "outputs": [
        {
          "output_type": "execute_result",
          "data": {
            "text/plain": [
              "Int64Index([1949, 1950, 1951, 1952, 1953, 1954, 1955, 1956, 1957, 1958, 1959,\n",
              "            1960],\n",
              "           dtype='int64', name='year')"
            ]
          },
          "metadata": {},
          "execution_count": 19
        }
      ]
    },
    {
      "cell_type": "code",
      "metadata": {
        "colab": {
          "base_uri": "https://localhost:8080/"
        },
        "id": "ptlMYhx-X8cU",
        "outputId": "d13ccb7b-c230-4b31-b304-c45c491cc281"
      },
      "source": [
        "passengers = flights_grouped[\"passengers\"]\n",
        "passengers"
      ],
      "execution_count": null,
      "outputs": [
        {
          "output_type": "execute_result",
          "data": {
            "text/plain": [
              "year\n",
              "1949    1520\n",
              "1950    1676\n",
              "1951    2042\n",
              "1952    2364\n",
              "1953    2700\n",
              "1954    2867\n",
              "1955    3408\n",
              "1956    3939\n",
              "1957    4421\n",
              "1958    4572\n",
              "1959    5140\n",
              "1960    5714\n",
              "Name: passengers, dtype: int64"
            ]
          },
          "metadata": {},
          "execution_count": 20
        }
      ]
    },
    {
      "cell_type": "markdown",
      "metadata": {
        "id": "1W_uI3IzYCqp"
      },
      "source": [
        "We're ready to create the line chart in Matplotlib:"
      ]
    },
    {
      "cell_type": "code",
      "metadata": {
        "colab": {
          "base_uri": "https://localhost:8080/",
          "height": 265
        },
        "id": "_JPBbdLBYIgO",
        "outputId": "d15606ef-f0c6-4529-b7c5-459d646c214d"
      },
      "source": [
        "plt.plot(years, passengers) \n",
        "plt.show()"
      ],
      "execution_count": null,
      "outputs": [
        {
          "output_type": "display_data",
          "data": {
            "image/png": "[encoded data removed]",
            "text/plain": [
              "<Figure size 432x288 with 1 Axes>"
            ]
          },
          "metadata": {
            "needs_background": "light"
          }
        }
      ]
    },
    {
      "cell_type": "markdown",
      "metadata": {
        "id": "A9CqUoIyYMsq"
      },
      "source": [
        "You can customize your line graph in [different ways](https://matplotlib.org/stable/api/_as_gen/matplotlib.pyplot.plot.html) of arguments):"
      ]
    },
    {
      "cell_type": "code",
      "metadata": {
        "colab": {
          "base_uri": "https://localhost:8080/",
          "height": 265
        },
        "id": "Ea0cn9mWYYKh",
        "outputId": "1d8ed984-a8b4-4069-dc19-7f88fac3ad45"
      },
      "source": [
        "plt.plot(years, passengers, color = \"maroon\", marker = \"x\", linestyle = \"dotted\")\n",
        "plt.show()"
      ],
      "execution_count": null,
      "outputs": [
        {
          "output_type": "display_data",
          "data": {
            "image/png": "[encoded data removed]",
            "text/plain": [
              "<Figure size 432x288 with 1 Axes>"
            ]
          },
          "metadata": {
            "needs_background": "light"
          }
        }
      ]
    },
    {
      "cell_type": "markdown",
      "metadata": {
        "id": "3cQ4ji56ZyTQ"
      },
      "source": [
        "Note that you could also use a bar chart to visualize this information but a line chart also shows you how the number of passengers changes over time."
      ]
    },
    {
      "cell_type": "markdown",
      "metadata": {
        "id": "u8Blm3IzYiZ0"
      },
      "source": [
        "**Question 4:** Think of another numerical variable from `flights_df` (e.g. the average number of passengers for each month) and create a line chart to visualize it."
      ]
    },
    {
      "cell_type": "markdown",
      "metadata": {
        "id": "X8OvL67May02"
      },
      "source": [
        "### **Histogram**\n",
        "\n",
        "A histogram is used for visualizing the distribution of a numerical variable. It gives you a sense of the frequency of different values of the variable in your dataset. It is a very important visualization for statistics. The values of the numerical variable are on the x-axis and the measure of frequency (e.g. number, frequency density) is on the y-axis. You can also flip the axes, which is useful for some graphs (like a population pyramid) but it's not generally very convenient.\n",
        "\n",
        "Here's an example of visualizing the distribution of the total bill (from `tips_df`):"
      ]
    },
    {
      "cell_type": "code",
      "metadata": {
        "colab": {
          "base_uri": "https://localhost:8080/",
          "height": 265
        },
        "id": "eoAHUg5IbRwj",
        "outputId": "a34ed683-f0f7-4f34-df6c-e81a049b2526"
      },
      "source": [
        "plt.hist(x = tips_df[\"total_bill\"])\n",
        "plt.show()"
      ],
      "execution_count": null,
      "outputs": [
        {
          "output_type": "display_data",
          "data": {
            "image/png": "[encoded data removed]",
            "text/plain": [
              "<Figure size 432x288 with 1 Axes>"
            ]
          },
          "metadata": {
            "needs_background": "light"
          }
        }
      ]
    },
    {
      "cell_type": "markdown",
      "metadata": {
        "id": "t_letUUQeMb3"
      },
      "source": [
        "This histogram is right-skewed which basically means that smaller values of the numerical variable occur at a higher frequency than larger values. More technically, the median of the variable is lower than its mean, as extreme values are inflating the mean. This makes sense: it's rare for people to place really large orders at restaurants. It's useful to interpret the skew of the histogram as it gives you greater insight into your data."
      ]
    },
    {
      "cell_type": "markdown",
      "metadata": {
        "id": "dDdA835zbr_U"
      },
      "source": [
        "The default histogram is a frequency histogram which shows the number for each interval. You can create a density histogram by saying `density = True`. Also, it's generally a good idea to specify the bins.\n",
        "\n",
        "[Here's](https://matplotlib.org/stable/api/_as_gen/matplotlib.pyplot.hist.html) a full list of arguments for the plt.hist() function."
      ]
    },
    {
      "cell_type": "code",
      "metadata": {
        "colab": {
          "base_uri": "https://localhost:8080/",
          "height": 265
        },
        "id": "Nu-psd2ubw9l",
        "outputId": "0a6597c8-51ac-4be9-e7fd-2c9cfd6d5f18"
      },
      "source": [
        "plt.hist(x = tips_df[\"total_bill\"], bins = np.arange(0, 55, 5), density = True, color = \"purple\")\n",
        "plt.show() "
      ],
      "execution_count": null,
      "outputs": [
        {
          "output_type": "display_data",
          "data": {
            "image/png": "[encoded data removed]",
            "text/plain": [
              "<Figure size 432x288 with 1 Axes>"
            ]
          },
          "metadata": {
            "needs_background": "light"
          }
        }
      ]
    },
    {
      "cell_type": "markdown",
      "metadata": {
        "id": "g_9mWbeVcXD4"
      },
      "source": [
        "**Question 5:** \n",
        "\n",
        "- Pick another numerical variable from `tips_df` and create a density histogram to visualize it (don't forget to specify the bins!).\n",
        "- How is your histogram skewed? Why do you think this is? Does it make sense?"
      ]
    },
    {
      "cell_type": "markdown",
      "metadata": {
        "id": "NVPFb9Axa4hd"
      },
      "source": [
        "### **Boxplot**\n",
        "\n",
        "A boxplot is similar to a histogram in that it allows you to visualize the distribution of a numerical variable. One difference between the two is that a boxplot gives you more specific statistics about the numerical varable (such as its maximum value, median, mean, etc.) whereas a histogram gives you a better visual sense of the spread of the variable."
      ]
    },
    {
      "cell_type": "markdown",
      "metadata": {
        "id": "8YZhpl50jpqq"
      },
      "source": [
        "This graphic shows how to interpret a boxplot:\n",
        "\n",
        "<img src='https://matplotlib.org/stable/_images/boxplot_explanation.png'>"
      ]
    },
    {
      "cell_type": "code",
      "metadata": {
        "colab": {
          "base_uri": "https://localhost:8080/",
          "height": 265
        },
        "id": "5R0-PF4qiX9g",
        "outputId": "b56025db-df5a-4ba6-bd94-e276f6078337"
      },
      "source": [
        "plt.boxplot(x = tips_df[\"total_bill\"])\n",
        "plt.show()"
      ],
      "execution_count": null,
      "outputs": [
        {
          "output_type": "display_data",
          "data": {
            "image/png": "[encoded data removed]",
            "text/plain": [
              "<Figure size 432x288 with 1 Axes>"
            ]
          },
          "metadata": {
            "needs_background": "light"
          }
        }
      ]
    },
    {
      "cell_type": "markdown",
      "metadata": {
        "id": "sznyaD1Ni7W3"
      },
      "source": [
        "It may be more useful to create a horizontal boxplot:"
      ]
    },
    {
      "cell_type": "code",
      "metadata": {
        "colab": {
          "base_uri": "https://localhost:8080/",
          "height": 265
        },
        "id": "SYHZffd4jBWP",
        "outputId": "3c07407a-a80f-492a-a6f6-4d2b984cc0bb"
      },
      "source": [
        "plt.boxplot(x = tips_df[\"total_bill\"], vert = False)\n",
        "plt.show()"
      ],
      "execution_count": null,
      "outputs": [
        {
          "output_type": "display_data",
          "data": {
            "image/png": "[encoded data removed]",
            "text/plain": [
              "<Figure size 432x288 with 1 Axes>"
            ]
          },
          "metadata": {
            "needs_background": "light"
          }
        }
      ]
    },
    {
      "cell_type": "markdown",
      "metadata": {
        "id": "qiM-M9Aqkx9t"
      },
      "source": [
        "The boxplot aligns with the previous histogram for total bill. It shows a right skew as the median is closer to the lower quartiler and there's a longer tail to the right."
      ]
    },
    {
      "cell_type": "markdown",
      "metadata": {
        "id": "TuJT6vE_jIfq"
      },
      "source": [
        "By default, the boxplot doesn't show the mean of your variable. You can choose to display the mean:"
      ]
    },
    {
      "cell_type": "code",
      "metadata": {
        "colab": {
          "base_uri": "https://localhost:8080/",
          "height": 265
        },
        "id": "CSLb89CLjfRe",
        "outputId": "23475277-7eef-4bca-a0a0-cef44eecd441"
      },
      "source": [
        "plt.boxplot(x = tips_df[\"total_bill\"], vert = False, showmeans = True)\n",
        "plt.show()"
      ],
      "execution_count": null,
      "outputs": [
        {
          "output_type": "display_data",
          "data": {
            "image/png": "[encoded data removed]",
            "text/plain": [
              "<Figure size 432x288 with 1 Axes>"
            ]
          },
          "metadata": {
            "needs_background": "light"
          }
        }
      ]
    },
    {
      "cell_type": "markdown",
      "metadata": {
        "id": "APKj8_ejlPYN"
      },
      "source": [
        "Displaying the mean makes it easier for you to interpret the skew of the variable. In this example, since the mean is higher than the median, it means that the variable is right skewed. If the mean is lower than the median, it means that the variable is left skewed. If they're equal, it means the variable doesn't have a skew (the histogram will be symmetric)."
      ]
    },
    {
      "cell_type": "markdown",
      "metadata": {
        "id": "EGtYhPm7kHMj"
      },
      "source": [
        "Check out [this website](https://matplotlib.org/stable/api/_as_gen/matplotlib.pyplot.boxplot.html) for a full list of arguments you can specify for the boxplot function."
      ]
    },
    {
      "cell_type": "markdown",
      "metadata": {
        "id": "rSL1SKNJkT5z"
      },
      "source": [
        "**Question 6:**\n",
        "\n",
        "- Create a boxplot for the variable you chose in question 5 (display the mean).\n",
        "- How is the variable skewed? How can you tell by looking at the boxplot?"
      ]
    },
    {
      "cell_type": "markdown",
      "metadata": {
        "id": "FSWmKD6za3Gi"
      },
      "source": [
        "### **Scatter Plot**\n",
        "\n",
        "Scatter plots are used for visualizing the relationship between two numerical variables, another really important plot for statistics. More technically, scatter plots visualize the correlation between two numerical variables which gives you a sense of how one variable changes with respect to the other.\n",
        "\n",
        "Say we wanted to see how tips paid change with respect to the total bill. "
      ]
    },
    {
      "cell_type": "code",
      "metadata": {
        "colab": {
          "base_uri": "https://localhost:8080/",
          "height": 265
        },
        "id": "fVxJrON4eJyx",
        "outputId": "f6b852e0-fd34-4ecf-be77-f05cc48ed30d"
      },
      "source": [
        "plt.scatter(x = tips_df[\"total_bill\"], y = tips_df[\"tip\"])\n",
        "plt.show()"
      ],
      "execution_count": null,
      "outputs": [
        {
          "output_type": "display_data",
          "data": {
            "image/png": "[encoded data removed]",
            "text/plain": [
              "<Figure size 432x288 with 1 Axes>"
            ]
          },
          "metadata": {
            "needs_background": "light"
          }
        }
      ]
    },
    {
      "cell_type": "markdown",
      "metadata": {
        "id": "bTnq3EYig0_-"
      },
      "source": [
        "This scatter plot shows a somewhat strong positive correlation between the total bill and tips paid. This makes sense as people generally tip as a percentage of the total bill (mainly for smaller values of the bill)."
      ]
    },
    {
      "cell_type": "markdown",
      "metadata": {
        "id": "pKzFxyyvgdQT"
      },
      "source": [
        "You can change the defaults of the scatter plot (full list of arguments [here](https://matplotlib.org/stable/api/_as_gen/matplotlib.pyplot.scatter.html)):"
      ]
    },
    {
      "cell_type": "code",
      "metadata": {
        "colab": {
          "base_uri": "https://localhost:8080/",
          "height": 265
        },
        "id": "tl9-Q0tJgrlv",
        "outputId": "eaf0f0d3-9cc1-4c13-a6e1-440a4f9066f1"
      },
      "source": [
        "plt.scatter(x = tips_df[\"total_bill\"], y = tips_df[\"tip\"], s = 10, c = \"orange\", marker = \"s\", alpha = 0.4)\n",
        "plt.show() "
      ],
      "execution_count": null,
      "outputs": [
        {
          "output_type": "display_data",
          "data": {
            "image/png": "[encoded data removed]",
            "text/plain": [
              "<Figure size 432x288 with 1 Axes>"
            ]
          },
          "metadata": {
            "needs_background": "light"
          }
        }
      ]
    },
    {
      "cell_type": "markdown",
      "metadata": {
        "id": "3FJJ8t6ShKkG"
      },
      "source": [
        "**Question 7:**\n",
        "\n",
        "- Pick 2 other numerical variables whose relationship you're interested in. Create a scatter plot to visualize them.\n",
        "- What does the scatter plot tell you about the relationship between the variables? Does it make sense?"
      ]
    },
    {
      "cell_type": "markdown",
      "metadata": {
        "id": "DguuRursnLkS"
      },
      "source": [
        "## **More Features**\n",
        "\n",
        "Matplotlib allows you to add more features to your graphs such as axis labels and titles. Here, we'll be talking about 6 functions but you can check out [this link](https://matplotlib.org/stable/api/pyplot_summary.html) for the full list of Pyplot functions:\n",
        "\n",
        "- `plt.xlabel(“name”)`: Adds a label to the x-axis\n",
        "- `plt.ylabel(“name”)`: Adds a label to the y-axis\n",
        "- `plt.title(“name”)`: Adds a title to your graph\n",
        "- `plt.grid(True)`: Adds a grid to your graph (Must be before the follow 2 functions)\n",
        "- `plt.figure(figsize = (8, 10))`: Specifies the length and width of your graph\n",
        "- `plt.show()`: Removes unnecessary text and only shows you the graph"
      ]
    },
    {
      "cell_type": "code",
      "metadata": {
        "colab": {
          "base_uri": "https://localhost:8080/",
          "height": 278
        },
        "id": "hGjlFzS6oxV9",
        "outputId": "595730d8-5eec-4afc-e0e5-824bacd36b15"
      },
      "source": [
        "plt.hist(x = tips_df[\"total_bill\"], bins = np.arange(0, 55, 5), density = True, color = \"purple\")\n",
        "#X-axis label\n",
        "plt.xlabel(\"Total Bill\")\n",
        "plt.show()"
      ],
      "execution_count": null,
      "outputs": [
        {
          "output_type": "display_data",
          "data": {
            "image/png": "[encoded data removed]",
            "text/plain": [
              "<Figure size 432x288 with 1 Axes>"
            ]
          },
          "metadata": {
            "needs_background": "light"
          }
        }
      ]
    },
    {
      "cell_type": "code",
      "metadata": {
        "colab": {
          "base_uri": "https://localhost:8080/",
          "height": 278
        },
        "id": "CKyMN83jo840",
        "outputId": "7e88f554-1ccf-4000-920f-e1590b5f66bc"
      },
      "source": [
        "plt.hist(x = tips_df[\"total_bill\"], bins = np.arange(0, 55, 5), density = True, color = \"purple\")\n",
        "plt.xlabel(\"Total Bill\")\n",
        "#Y-axis label\n",
        "plt.ylabel(\"Density\")\n",
        "plt.show()"
      ],
      "execution_count": null,
      "outputs": [
        {
          "output_type": "display_data",
          "data": {
            "image/png": "[encoded data removed]",
            "text/plain": [
              "<Figure size 432x288 with 1 Axes>"
            ]
          },
          "metadata": {
            "needs_background": "light"
          }
        }
      ]
    },
    {
      "cell_type": "code",
      "metadata": {
        "colab": {
          "base_uri": "https://localhost:8080/",
          "height": 295
        },
        "id": "_DpUhtIRpBte",
        "outputId": "6fb26a8c-6e0d-4ce6-a9ee-64d447f455a2"
      },
      "source": [
        "plt.hist(x = tips_df[\"total_bill\"], bins = np.arange(0, 55, 5), density = True, color = \"purple\")\n",
        "plt.xlabel(\"Total Bill\")\n",
        "plt.ylabel(\"Density\")\n",
        "#Title\n",
        "plt.title(\"Density Histogram for Total Bill\")\n",
        "plt.show()"
      ],
      "execution_count": null,
      "outputs": [
        {
          "output_type": "display_data",
          "data": {
            "image/png": "[encoded data removed]",
            "text/plain": [
              "<Figure size 432x288 with 1 Axes>"
            ]
          },
          "metadata": {
            "needs_background": "light"
          }
        }
      ]
    },
    {
      "cell_type": "code",
      "metadata": {
        "colab": {
          "base_uri": "https://localhost:8080/",
          "height": 311
        },
        "id": "lWBTAfzXpU_5",
        "outputId": "f5aa051b-9509-4dc5-df7d-d3b27f9693ac"
      },
      "source": [
        "plt.hist(x = tips_df[\"total_bill\"], bins = np.arange(0, 55, 5), density = True, color = \"purple\")\n",
        "plt.xlabel(\"Total Bill\")\n",
        "plt.ylabel(\"Density\")\n",
        "plt.title(\"Density Histogram for Total Bill\")\n",
        "#Changing the dimensions of the graph - first one is height and second one is width\n",
        "plt.figure(figsize = (8, 11))\n",
        "plt.show()"
      ],
      "execution_count": null,
      "outputs": [
        {
          "output_type": "display_data",
          "data": {
            "image/png": "[encoded data removed]",
            "text/plain": [
              "<Figure size 432x288 with 1 Axes>"
            ]
          },
          "metadata": {
            "needs_background": "light"
          }
        },
        {
          "output_type": "display_data",
          "data": {
            "text/plain": [
              "<Figure size 576x792 with 0 Axes>"
            ]
          },
          "metadata": {}
        }
      ]
    },
    {
      "cell_type": "code",
      "metadata": {
        "colab": {
          "base_uri": "https://localhost:8080/",
          "height": 676
        },
        "id": "UlNn1L5DpmCK",
        "outputId": "c83485d9-20fb-4d6a-83bc-2c7e5c9baf36"
      },
      "source": [
        "plt.figure(figsize = (8, 11))\n",
        "plt.hist(x = tips_df[\"total_bill\"], bins = np.arange(0, 55, 5), density = True, color = \"purple\")\n",
        "plt.xlabel(\"Total Bill\")\n",
        "plt.ylabel(\"Density\")\n",
        "plt.title(\"Density Histogram for Total Bill\")\n",
        "#Adding a grid\n",
        "plt.grid(True)\n",
        "plt.show()"
      ],
      "execution_count": null,
      "outputs": [
        {
          "output_type": "display_data",
          "data": {
            "image/png": "[encoded data removed]",
            "text/plain": [
              "<Figure size 576x792 with 1 Axes>"
            ]
          },
          "metadata": {
            "needs_background": "light"
          }
        }
      ]
    },
    {
      "cell_type": "markdown",
      "metadata": {
        "id": "sYZEMFJ6p6aG"
      },
      "source": [
        "Note that you must call the plt.grid() function before you call the plt.figure() function (try calling it after and see what happens)."
      ]
    },
    {
      "cell_type": "markdown",
      "metadata": {
        "id": "yZcnexR1qE0A"
      },
      "source": [
        "We have used the plt.show() function every graph to remove unnecessary text and avoid cluttering the graph. This is what happens when you don't use plt.show():"
      ]
    },
    {
      "cell_type": "code",
      "metadata": {
        "colab": {
          "base_uri": "https://localhost:8080/",
          "height": 330
        },
        "id": "9qmgWJUIp5HT",
        "outputId": "c56bce91-a6b6-4a66-fe1d-a5d974e23cc3"
      },
      "source": [
        "plt.hist(x = tips_df[\"total_bill\"], bins = np.arange(0, 55, 5), density = True, color = \"purple\")"
      ],
      "execution_count": null,
      "outputs": [
        {
          "output_type": "execute_result",
          "data": {
            "text/plain": [
              "(array([0.00082305, 0.01316872, 0.05185185, 0.05514403, 0.03374486,\n",
              "        0.01975309, 0.01316872, 0.00493827, 0.00411523, 0.00329218]),\n",
              " array([ 0,  5, 10, 15, 20, 25, 30, 35, 40, 45, 50]),\n",
              " <a list of 10 Patch objects>)"
            ]
          },
          "metadata": {},
          "execution_count": 35
        },
        {
          "output_type": "display_data",
          "data": {
            "image/png": "[encoded data removed]",
            "text/plain": [
              "<Figure size 432x288 with 1 Axes>"
            ]
          },
          "metadata": {
            "needs_background": "light"
          }
        }
      ]
    },
    {
      "cell_type": "markdown",
      "metadata": {
        "id": "GIDPfSM_qiwh"
      },
      "source": [
        "Python is giving you arrays of the intervals and their corresponding frequency densities. This may be useful to show in some situations but if you want to focus on the graph, you can remove it by calling plt.show(). It must always be called after all the other functions."
      ]
    },
    {
      "cell_type": "markdown",
      "metadata": {
        "id": "Aloh3w4j53W3"
      },
      "source": [
        "We've only scracthed the surface of data visualization using Matplotlib so I encourage you to check out the links to additional resources to learn more!"
      ]
    },
    {
      "cell_type": "markdown",
      "metadata": {
        "id": "CYBXktwxuluy"
      },
      "source": [
        "# **Resources**\n",
        "\n",
        "1. [Official Matplotlib Documentation](https://matplotlib.org/)\n",
        "2. [Sample Graphs in Matplotlib](https://matplotlib.org/stable/gallery/index.html)"
      ]
    },
    {
      "cell_type": "markdown",
      "metadata": {
        "id": "VDFujZ626Caz"
      },
      "source": [
        "# **Project Tasks**\n",
        "\n",
        "1. We can use data visualization to further explore the project datasets. Create the following visualizations and write up a brief analysis on each (2-3 sentences). Talk about what the visualization shows (any trends/patterns) and anything else you find interesting.\n",
        "\n",
        "  - From the COVID-19 All Vaccines Tweets dataset:\n",
        "\n",
        "    - Boxplot of user followers\n",
        "\n",
        "    - Bar chart of date (may have to do some additional research for this)\n",
        "\n",
        "    - Scatter plot of retweets and favorites\n",
        "\n",
        "  - From the COVID-19 World Vaccination Progress dataset:\n",
        "\n",
        "    - Bar chart of the top 10 countries with the highest average daily vaccinations (total daily vaccinations, not per million)\n",
        "\n",
        "    - Pick 2 countries and filter the dataset so that it only has data on these 2 countries. Create a histogram for the people_vaccinated column for each country and compare them. Bonus points if you create overlapping histograms (you have to do additional research for this)!\n",
        "\n",
        "    - Line chart to show how daily vaccinations per million changed over time for a country of your choice\n",
        "\n",
        "2. Come up with 3 more ideas for visualizations and create them. Like for the previous question, include a brief 2-3 sentence analysis. You can come up with any idea you like – you can even combine the 2 datasets."
      ]
    },
    {
      "cell_type": "markdown",
      "metadata": {
        "id": "fYfyM0R2upBz"
      },
      "source": [
        "# Written by Vaidehi Bulusu (Edited by Akira)\n",
        "\n",
        "---"
      ]
    },
    {
      "cell_type": "code",
      "source": [],
      "metadata": {
        "id": "-46DGBx78h3K"
      },
      "execution_count": null,
      "outputs": []
    }
  ]
}